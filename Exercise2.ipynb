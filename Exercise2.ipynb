{
 "cells": [
  {
   "cell_type": "markdown",
   "metadata": {},
   "source": [
    "# Exercise 2.  Dynamic Data Structures\n",
    "### Algorithms and Data Structures\n",
    "\n",
    "by Jędrzej Kopiszka, 145304 \n",
    "28.04.2020r."
   ]
  },
  {
   "cell_type": "markdown",
   "metadata": {},
   "source": [
    "## 1. Algorithm implementation "
   ]
  },
  {
   "cell_type": "markdown",
   "metadata": {},
   "source": [
    "#### 1.1 Necessary libraries"
   ]
  },
  {
   "cell_type": "code",
   "execution_count": 296,
   "metadata": {},
   "outputs": [],
   "source": [
    "import random  # randomized selection of elements\n",
    "import string  # creating strings for datasets\n",
    "import numpy as np \n",
    "import pandas as pd  # list sotrage in DataFrames\n",
    "from timeit import Timer # time measuring\n",
    "import matplotlib.pyplot as plt # plotting\n",
    "import seaborn as sns #plotting"
   ]
  },
  {
   "cell_type": "markdown",
   "metadata": {},
   "source": [
    "#### 1.2 Generating datasets"
   ]
  },
  {
   "cell_type": "code",
   "execution_count": 297,
   "metadata": {},
   "outputs": [],
   "source": [
    "def produce_name_surname_index(how_many): #function to create students \n",
    "    names= []\n",
    "    surnames = []\n",
    "    used_indexes= []\n",
    "    \n",
    "    asci = string.ascii_lowercase\n",
    "    \n",
    "    for j in range(how_many):\n",
    "        name= ''\n",
    "        surname = ''\n",
    "        for i in range(12):\n",
    "            name += random.choice(asci)\n",
    "            surname += random.choice(asci)\n",
    "        names.append(name)\n",
    "        surnames.append(surname)\n",
    "        rand = 0\n",
    "        while(rand==0):\n",
    "            rand = random.randint(1000000,9999999)\n",
    "            if rand not in used_indexes:\n",
    "                used_indexes.append(rand)\n",
    "            else:\n",
    "                rand = 0\n",
    "            \n",
    "    return surnames,names, used_indexes"
   ]
  },
  {
   "cell_type": "markdown",
   "metadata": {},
   "source": [
    "#### 1.3 Unbalanced BST implementation\n",
    "written myself based on Joe James \"Python:Binary Search Tree - BST\"  https://www.youtube.com/watch?v=YlgPi75hIBc"
   ]
  },
  {
   "cell_type": "code",
   "execution_count": 298,
   "metadata": {},
   "outputs": [],
   "source": [
    "# Unbalanced BST\n",
    "class Node:\n",
    "    def __init__(self, surname, name, index):\n",
    "        self.value = index\n",
    "        self.surname = surname\n",
    "        self.name = name\n",
    "        self.leftChild = None\n",
    "        self.rightChild = None\n",
    "    \n",
    "    def insert(self, surname, name, index):\n",
    "        if self.value == index: #if Node already has what we want to insert\n",
    "            return False  # we don't want duplicates\n",
    "        elif self.value > index:  # if the value is less, we go to leftchild\n",
    "            if self.leftChild:  # check if the left child exists\n",
    "                return self.leftChild.insert(surname,name, index) \n",
    "            else:\n",
    "                self.leftChild = Node(surname, name, index) # if not create one\n",
    "                return True\n",
    "        else:\n",
    "            if self.rightChild: #chceck if exists\n",
    "                return self.rightChild.insert(surname, name, index) \n",
    "            else:\n",
    "                self.rightChild = Node(surname, name, index) #create if it doesnt exists\n",
    "                return True\n",
    "            \n",
    "    def find(self, index):\n",
    "        if self.value == index:\n",
    "            return True\n",
    "        elif self.value > index:\n",
    "            if self.leftChild:\n",
    "                return self.leftChild.find(index) # recursivly look for \n",
    "            else:\n",
    "                return False\n",
    "        else:\n",
    "            if self.rightChild: #recursivly look for \n",
    "                return self.rightChild.find(index)\n",
    "            else:\n",
    "                return False\n",
    "                 \n",
    "class Tree:\n",
    "    def __init__(self):\n",
    "        self.root = None\n",
    "        \n",
    "    def insert(self, surname, name, index): #data to insert\n",
    "        if self.root: #check if exists\n",
    "             return self.root.insert(surname, name, index) #insert data\n",
    "        else: \n",
    "            self.root = Node(surname, name, index) #if doesn't exists create new node\n",
    "            return True\n",
    "            \n",
    "    def find(self, index): #chcek if root exists already\n",
    "        if self.root:\n",
    "            return self.root.find(index)\n",
    "        else:\n",
    "            return False\n",
    "        \n",
    "    def remove(self, index):\n",
    "        if self.root is None: #check if tree is empty\n",
    "            print('Tree empty')\n",
    "            return False\n",
    "        \n",
    "        elif self.root.value == index: # if the data is in root node\n",
    "            if self.root.leftChild is None and self.root.rightChild is None:\n",
    "                self.root = None\n",
    "            elif self.root.leftChild and self.root.rightChild is None:\n",
    "                self.root = self.root.leftChild\n",
    "            elif self.root.leftChild is None and self.root.rightChild:\n",
    "                self.root = self.root.rightChild\n",
    "            elif self.root.leftChild and self.root.rightChild:\n",
    "                delNodeParent = self.root\n",
    "                delNode = self.root.rightChild\n",
    "                while delNode.leftChild:\n",
    "                    delNodeParent = delNode\n",
    "                    delNode = delNode.leftChild\n",
    "                    \n",
    "                self.root.value = delNode.value\n",
    "                if delNode.rightChild:\n",
    "                    if delNodeParent.value > delNode.value:\n",
    "                        delNodeParent.leftChild = delNode.rightChild\n",
    "                    elif delNodeParent.value < delNode.value:\n",
    "                        delNodeParent.rightChild = delNode.rightChild\n",
    "                else:\n",
    "                    if delNode.value < delNodeParent.value:\n",
    "                        delNodeParent.leftChild = None\n",
    "                    else:\n",
    "                        delNodeParent.rightChild = None\n",
    "                        \n",
    "            return True\n",
    "                    \n",
    "        parent = None\n",
    "        node = self.root\n",
    "            \n",
    "        while node and node.value != index: #find node to remove\n",
    "            parent = node\n",
    "            if index < node.value:\n",
    "                node = node.leftChild\n",
    "            elif index > node.value:\n",
    "                node = node.rightChild\n",
    "                \n",
    "        if node is None or node.value!= index: #data not found\n",
    "            return False\n",
    "        \n",
    "        elif node.leftChild is None and node.rightChild is None: #removing node with no children\n",
    "            if index < parent.value:\n",
    "                parent.leftChild = None\n",
    "            else:\n",
    "                parent.rightChild = None\n",
    "            return True\n",
    "        \n",
    "        elif node.leftChild and node.rightChild is None: #removing node with right child only\n",
    "            if index < parent.value:\n",
    "                parent.leftChild = node.leftChild\n",
    "            else:\n",
    "                parent.rightChild = node.leftChild\n",
    "            return True\n",
    "\n",
    "        elif node.leftChild is None and node.rightChild: #removing node left child only\n",
    "            if index < parent.value:\n",
    "                parent.leftChild = node.rightChild\n",
    "            else:\n",
    "                parent.rightChild = node.rightChild\n",
    "            return True\n",
    "        \n",
    "        else:\n",
    "            delNodeParent = node\n",
    "            delNode = node.rightChild\n",
    "            while delNode.leftChild:\n",
    "                delNodeParent = delNode\n",
    "                delNode = delNode.leftChild\n",
    "            \n",
    "            node.value = delNode.value\n",
    "            if delNode.rightChild:\n",
    "                if delNodeParent.value > delNode.value:\n",
    "                    delNodeParent.leftChild = delNode.rightChild\n",
    "                elif delNodeParent.value < delNode.value:\n",
    "                    delNodeParent.rightChild = delNode.rightChild\n",
    "            else:\n",
    "                if delNode.value < delNodeParent.value:\n",
    "                    delNodeParent.leftChild = None\n",
    "                else:\n",
    "                    delNodeParent.rightChild = None"
   ]
  },
  {
   "cell_type": "markdown",
   "metadata": {},
   "source": [
    "#### 1.4 AVL - self-balancing BST\n",
    "written by myself, based on Brian Faure \"AVL Tree: Background & Python Code\" https://www.youtube.com/watch?v=lxHF-mVdwK8"
   ]
  },
  {
   "cell_type": "code",
   "execution_count": 299,
   "metadata": {},
   "outputs": [],
   "source": [
    "#auto-balancing BST - AVL\n",
    "class node:\n",
    "    def __init__(self, surname, name, value=None):\n",
    "        self.value = value\n",
    "        self.surname = surname\n",
    "        self.name = name\n",
    "        self.left_child = None\n",
    "        self.right_child = None\n",
    "        self.parent = None \n",
    "        self.height = 1  # height of node in tree (max dist. to leaf) NEW FOR AVL\n",
    "\n",
    "\n",
    "class AVLTree:\n",
    "    def __init__(self):\n",
    "        self.root = None\n",
    "\n",
    "    def insert(self, surname, name, value):\n",
    "        if self.root == None:\n",
    "            self.root = node(surname, name, value)\n",
    "        else:\n",
    "            self._insert(value, self.root, surname, name)\n",
    "\n",
    "    def _insert(self, value, cur_node, surname, name):\n",
    "        if value < cur_node.value:\n",
    "            if cur_node.left_child == None:\n",
    "                cur_node.left_child = node(surname, name, value)\n",
    "                cur_node.left_child.parent = cur_node  # set parent\n",
    "                self._inspect_insertion(cur_node.left_child)\n",
    "            else:\n",
    "                self._insert(value, cur_node.left_child, surname, name)\n",
    "        elif value > cur_node.value:\n",
    "            if cur_node.right_child == None:\n",
    "                cur_node.right_child = node(surname, name, value)\n",
    "                cur_node.right_child.parent = cur_node  # set parent\n",
    "                self._inspect_insertion(cur_node.right_child)\n",
    "            else:\n",
    "                self._insert(value, cur_node.right_child, surname, name)\n",
    "        else:\n",
    "            return False\n",
    "\n",
    "\n",
    "    def height(self):\n",
    "        if self.root != None:\n",
    "            return self._height(self.root, 0)\n",
    "        else:\n",
    "            return 0\n",
    "\n",
    "    def _height(self, cur_node, cur_height):\n",
    "        if cur_node == None: return cur_height\n",
    "        left_height = self._height(cur_node.left_child, cur_height + 1)\n",
    "        right_height = self._height(cur_node.right_child, cur_height + 1)\n",
    "        return max(left_height, right_height)\n",
    "\n",
    "    def find(self, value):\n",
    "        if self.root != None:\n",
    "            return self._find(value, self.root)\n",
    "        else:\n",
    "            return None\n",
    "\n",
    "    def _find(self, value, cur_node):\n",
    "        if value == cur_node.value:\n",
    "            return cur_node\n",
    "        elif value < cur_node.value and cur_node.left_child != None:\n",
    "            return self._find(value, cur_node.left_child)\n",
    "        elif value > cur_node.value and cur_node.right_child != None:\n",
    "            return self._find(value, cur_node.right_child)\n",
    "\n",
    "    def delete_value(self, value):\n",
    "        return self.delete_node(self.find(value))\n",
    "\n",
    "    def delete_node(self, node):\n",
    "\n",
    "        if node == None or self.find(node.value) == None:\n",
    "            return None\n",
    "\n",
    "\n",
    "        def min_value_node(n):\n",
    "            current = n\n",
    "            while current.left_child != None:\n",
    "                current = current.left_child\n",
    "            return current\n",
    "\n",
    "        def num_children(n):\n",
    "            num_children = 0\n",
    "            if n.left_child != None: num_children += 1\n",
    "            if n.right_child != None: num_children += 1\n",
    "            return num_children\n",
    "\n",
    "        node_parent = node.parent\n",
    "        node_children=num_children(node)\n",
    "        if node_children == 0:\n",
    "\n",
    "            if node_parent != None:\n",
    "                if node_parent.left_child == node:\n",
    "                    node_parent.left_child = None\n",
    "                else:\n",
    "                    node_parent.right_child = None\n",
    "            else:\n",
    "                self.root = None\n",
    "\n",
    "        if node_children == 1:\n",
    "\n",
    "            if node.left_child != None:\n",
    "                child = node.left_child\n",
    "            else:\n",
    "                child = node.right_child\n",
    "\n",
    "            if node_parent != None:\n",
    "       \n",
    "                if node_parent.left_child == node:\n",
    "                    node_parent.left_child = child\n",
    "                else:\n",
    "                    node_parent.right_child = child\n",
    "            else:\n",
    "                self.root = child\n",
    "\n",
    "            child.parent = node_parent\n",
    "\n",
    "        if node_children == 2:\n",
    "            successor = min_value_node(node.right_child)\n",
    "            node.value = successor.value\n",
    "            self.delete_node(successor)\n",
    "            return\n",
    "\n",
    "        if node_parent != None:\n",
    "            node_parent.height = 1 + max(self.get_height(node_parent.left_child),\n",
    "                                         self.get_height(node_parent.right_child))\n",
    "            self._inspect_deletion(node_parent)\n",
    "\n",
    "    def search(self, value):\n",
    "        if self.root != None:\n",
    "            return self._search(value, self.root)\n",
    "        else:\n",
    "            return False\n",
    "\n",
    "    def _search(self, value, cur_node):\n",
    "        if value == cur_node.value:\n",
    "            return True\n",
    "        elif value < cur_node.value and cur_node.left_child != None:\n",
    "            return self._search(value, cur_node.left_child)\n",
    "        elif value > cur_node.value and cur_node.right_child != None:\n",
    "            return self._search(value, cur_node.right_child)\n",
    "        return False\n",
    "\n",
    "    def _inspect_insertion(self, cur_node, path=[]):\n",
    "        if cur_node.parent == None: return\n",
    "        path = [cur_node] + path\n",
    "\n",
    "        left_height = self.get_height(cur_node.parent.left_child)\n",
    "        right_height = self.get_height(cur_node.parent.right_child)\n",
    "\n",
    "        if abs(left_height - right_height) > 1:\n",
    "            path = [cur_node.parent] + path\n",
    "            self._rebalance_node(path[0], path[1], path[2])\n",
    "            return\n",
    "\n",
    "        new_height = 1 + cur_node.height\n",
    "        if new_height > cur_node.parent.height:\n",
    "            cur_node.parent.height = new_height\n",
    "\n",
    "        self._inspect_insertion(cur_node.parent, path)\n",
    "\n",
    "    def _inspect_deletion(self, cur_node):\n",
    "        if cur_node == None: return\n",
    "\n",
    "        left_height = self.get_height(cur_node.left_child)\n",
    "        right_height = self.get_height(cur_node.right_child)\n",
    "\n",
    "        if abs(left_height - right_height) > 1:\n",
    "            y = self.taller_child(cur_node)\n",
    "            x = self.taller_child(y)\n",
    "            self._rebalance_node(cur_node, y, x)\n",
    "\n",
    "        self._inspect_deletion(cur_node.parent)\n",
    "\n",
    "    def _rebalance_node(self, z, y, x):\n",
    "        if y == z.left_child and x == y.left_child:\n",
    "            self._right_rotate(z)\n",
    "        elif y == z.left_child and x == y.right_child:\n",
    "            self._left_rotate(y)\n",
    "            self._right_rotate(z)\n",
    "        elif y == z.right_child and x == y.right_child:\n",
    "            self._left_rotate(z)\n",
    "        elif y == z.right_child and x == y.left_child:\n",
    "            self._right_rotate(y)\n",
    "            self._left_rotate(z)\n",
    "        else:\n",
    "            raise Exception('_rebalance_node: z,y,x node configuration not recognized!')\n",
    "\n",
    "\n",
    "    def _right_rotate(self, z):\n",
    "        sub_root = z.parent\n",
    "        y = z.left_child\n",
    "        t3 = y.right_child\n",
    "        y.right_child = z\n",
    "        z.parent = y\n",
    "        z.left_child = t3\n",
    "        if t3 != None: t3.parent = z\n",
    "        y.parent = sub_root\n",
    "        if y.parent == None:\n",
    "            self.root = y\n",
    "        else:\n",
    "            if y.parent.left_child == z:\n",
    "                y.parent.left_child = y\n",
    "            else:\n",
    "                y.parent.right_child = y\n",
    "        z.height = 1 + max(self.get_height(z.left_child),\n",
    "                           self.get_height(z.right_child))\n",
    "        y.height = 1 + max(self.get_height(y.left_child),\n",
    "                           self.get_height(y.right_child))\n",
    "\n",
    "\n",
    "    def _left_rotate(self, z):\n",
    "        sub_root = z.parent\n",
    "        y = z.right_child\n",
    "        t2 = y.left_child\n",
    "        y.left_child = z\n",
    "        z.parent = y\n",
    "        z.right_child = t2\n",
    "        if t2 != None: t2.parent = z\n",
    "        y.parent = sub_root\n",
    "        if y.parent == None:\n",
    "            self.root = y\n",
    "        else:\n",
    "            if y.parent.left_child == z:\n",
    "                y.parent.left_child = y\n",
    "            else:\n",
    "                y.parent.right_child = y\n",
    "        z.height = 1 + max(self.get_height(z.left_child),\n",
    "                           self.get_height(z.right_child))\n",
    "        y.height = 1 + max(self.get_height(y.left_child),\n",
    "                           self.get_height(y.right_child))\n",
    "\n",
    "\n",
    "    def get_height(self, cur_node):\n",
    "        if cur_node == None: return 0\n",
    "        return cur_node.height\n",
    "\n",
    "\n",
    "    def taller_child(self, cur_node):\n",
    "        left = self.get_height(cur_node.left_child)\n",
    "        right = self.get_height(cur_node.right_child)\n",
    "        return cur_node.left_child if left >= right else cur_node.right_child\n"
   ]
  },
  {
   "cell_type": "markdown",
   "metadata": {},
   "source": [
    "#### 1.5  Functions helpful in appending, searching, deleting "
   ]
  },
  {
   "cell_type": "code",
   "execution_count": 332,
   "metadata": {},
   "outputs": [],
   "source": [
    "def find_dol(dol, index):\n",
    "    for element in dol:\n",
    "        if element[0] == index:\n",
    "            return True\n",
    "    else:\n",
    "        return False\n",
    "    \n",
    "def delete_dol(dol, index):\n",
    "    for element in dol:\n",
    "        if element[0] == index:\n",
    "            dol.remove(element)\n",
    "    return dol\n",
    "\n",
    "def append_from_list(dol, temporary_list):\n",
    "    for student in temporary_list:\n",
    "        dol.append([student[2], student[0], student[1]])\n",
    "    return dol"
   ]
  },
  {
   "cell_type": "code",
   "execution_count": 301,
   "metadata": {},
   "outputs": [],
   "source": [
    "def append_bst(tree, temporary_list): #insert 3 elements to BST line by line\n",
    "    for student in temporary_list:\n",
    "        tree.insert(student[0], student[1], student[2])\n",
    "    return tree"
   ]
  },
  {
   "cell_type": "code",
   "execution_count": 302,
   "metadata": {},
   "outputs": [],
   "source": [
    "def append_avl(tree, temporary_list): # insert 3 elements to AVL line by line\n",
    "    for student in temporary_list:\n",
    "        tree.insert(student[0], student[1], student[2])\n",
    "    return tree\n"
   ]
  },
  {
   "cell_type": "markdown",
   "metadata": {},
   "source": [
    "#### 1.6 Writing to file, creating CSV dataset "
   ]
  },
  {
   "cell_type": "code",
   "execution_count": 303,
   "metadata": {},
   "outputs": [
    {
     "name": "stdout",
     "output_type": "stream",
     "text": [
      "done\n"
     ]
    }
   ],
   "source": [
    "file = open('dataset.csv', 'w') # create dataset\n",
    "\n",
    "surnames, names, indexes = produce_name_surname_index(58000) #max length of dataset = 58000 samples\n",
    "for line in range(58000):\n",
    "    student = surnames[line] + ',' + names[line] + ',' + str(indexes[line]) + '\\n'\n",
    "    file.write(student)\n",
    "print('done')"
   ]
  },
  {
   "cell_type": "markdown",
   "metadata": {},
   "source": [
    "#### 1.7 Reading from CSV dataset, storing data temporarly in list of lists"
   ]
  },
  {
   "cell_type": "code",
   "execution_count": 304,
   "metadata": {},
   "outputs": [],
   "source": [
    "temporary_storing=[]\n",
    "file = open('dataset.csv', 'r')\n",
    "lines = file.readlines()\n",
    "for line in lines:\n",
    "    temporary_storing.append([line.split(',')[0], line.split(',')[1], int(line.strip('\\n').split(',')[2])]) #appending \n",
    "file.close()"
   ]
  },
  {
   "cell_type": "markdown",
   "metadata": {},
   "source": [
    "## 2 Time-measuring "
   ]
  },
  {
   "cell_type": "markdown",
   "metadata": {},
   "source": [
    "### 2.1 Storing data in data structures"
   ]
  },
  {
   "cell_type": "markdown",
   "metadata": {},
   "source": [
    "#### 2.1.1 Storing in list - list of lists where first element is an index, second a surname, third name"
   ]
  },
  {
   "cell_type": "code",
   "execution_count": 356,
   "metadata": {},
   "outputs": [
    {
     "name": "stdout",
     "output_type": "stream",
     "text": [
      "Inserted into list for: \n",
      "1000, 4000, 7000, 10000, 13000, 16000, 19000, 22000, 25000, 28000, 31000, 34000, 37000, 40000, 43000, 46000, 49000, 52000, 55000, 58000, "
     ]
    }
   ],
   "source": [
    "dataset_len=list(np.arange(1000, 58001, 3000))\n",
    "times_dict_addition={}\n",
    "print('Inserted into list for: ')\n",
    "for length in dataset_len:\n",
    "    times_dict_addition[length]=[]\n",
    "    dic=[]\n",
    "    t = Timer(lambda:append_from_list(dic, temporary_storing[:length]))\n",
    "    times_dict_addition[length].append(t.timeit(number = 10)/10)\n",
    "    print(length, end=', ')"
   ]
  },
  {
   "cell_type": "markdown",
   "metadata": {},
   "source": [
    "#### 2.1.2 Storing in Binary Search Tree"
   ]
  },
  {
   "cell_type": "code",
   "execution_count": 357,
   "metadata": {},
   "outputs": [
    {
     "name": "stdout",
     "output_type": "stream",
     "text": [
      "Inserted into BST for: \n",
      "1000,4000,7000,10000,13000,16000,19000,22000,25000,28000,31000,34000,37000,40000,43000,46000,49000,52000,55000,58000,"
     ]
    }
   ],
   "source": [
    "print('Inserted into BST for: ')\n",
    "for length in dataset_len:\n",
    "    unbalanced_tree = Tree()\n",
    "    t = Timer(lambda:append_bst(unbalanced_tree, temporary_storing[:length]))\n",
    "    times_dict_addition[length].append(t.timeit(number = 10)/10)\n",
    "    print(length, end=',')"
   ]
  },
  {
   "cell_type": "markdown",
   "metadata": {},
   "source": [
    "#### 2.1.2 Storing in AVL"
   ]
  },
  {
   "cell_type": "code",
   "execution_count": 358,
   "metadata": {},
   "outputs": [
    {
     "name": "stdout",
     "output_type": "stream",
     "text": [
      "Inserted into AVL for: \n",
      "1000,4000,7000,10000,13000,16000,19000,22000,25000,28000,31000,34000,37000,40000,43000,46000,49000,52000,55000,58000,"
     ]
    }
   ],
   "source": [
    "print('Inserted into AVL for: ')\n",
    "for length in dataset_len:\n",
    "    balanced_tree = AVLTree()\n",
    "    t = Timer(lambda:append_avl(balanced_tree, temporary_storing[:length]))\n",
    "    times_dict_addition[length].append(t.timeit(number = 10)/10)\n",
    "    print(length, end=',')"
   ]
  },
  {
   "cell_type": "markdown",
   "metadata": {},
   "source": [
    "### 2.2 Removing every element one by one -  measuring mean deletion time for each record"
   ]
  },
  {
   "cell_type": "markdown",
   "metadata": {},
   "source": [
    "#### 2.2.1 Removing from list"
   ]
  },
  {
   "cell_type": "code",
   "execution_count": 361,
   "metadata": {},
   "outputs": [
    {
     "name": "stdout",
     "output_type": "stream",
     "text": [
      "Deleted from list for: \n",
      "1000, 4000, 7000, 10000, 13000, 16000, 19000, 22000, 25000, 28000, 31000, 34000, 37000, 40000, 43000, 46000, 49000, 52000, 55000, 58000, "
     ]
    }
   ],
   "source": [
    "times_dict_deletion={}\n",
    "print('Deleted from list for: ')\n",
    "for length in dataset_len:\n",
    "    times_dict_deletion[length]=[]\n",
    "    dic2=[]\n",
    "    dic2 = append_from_list(dic2, temporary_storing[:length])\n",
    "    times=[]\n",
    "    while(len(dic2)!=0):\n",
    "        chosen_randomly = random.choice([i[0] for i in dic2])\n",
    "        t = Timer(lambda:delete_dol(dic2, chosen_randomly))\n",
    "        times.append(t.timeit(number = 1)/1)\n",
    "    times_dict_deletion[length].append(np.mean(times)) #mean of times needed to delete one element during deletion of all \n",
    "    print(length, end=', ')"
   ]
  },
  {
   "cell_type": "markdown",
   "metadata": {},
   "source": [
    "#### 2.2.2 Removing from BST"
   ]
  },
  {
   "cell_type": "code",
   "execution_count": 362,
   "metadata": {},
   "outputs": [
    {
     "name": "stdout",
     "output_type": "stream",
     "text": [
      "Deleted from BST for: \n",
      "1000, 4000, 7000, 10000, 13000, 16000, 19000, 22000, 25000, 28000, 31000, 34000, 37000, 40000, 43000, 46000, 49000, 52000, 55000, 58000, "
     ]
    }
   ],
   "source": [
    "print('Deleted from BST for: ')\n",
    "for length in dataset_len:\n",
    "    unbalanced_tree2 = Tree()\n",
    "    tree2 = append_bst(unbalanced_tree2, temporary_storing[:length])\n",
    "    times=[]\n",
    "    dic2=[]\n",
    "    dic2 = append_from_list(dic2, temporary_storing[:length])\n",
    "    dic2 = [i[0] for i in dic2]\n",
    "    while(len(dic2)!=0):\n",
    "        chosen_randomly = random.choice(dic2)\n",
    "        dic2.remove(chosen_randomly)\n",
    "        t = Timer(lambda:tree2.remove(chosen_randomly))\n",
    "        times.append(t.timeit(number = 1)/1)\n",
    "    print(length, end=', ')\n",
    "    times_dict_deletion[length].append(np.mean(times)) #mean of times needed to delete one element during deletion of all "
   ]
  },
  {
   "cell_type": "markdown",
   "metadata": {},
   "source": [
    "#### 2.2.3 Removing from AVL"
   ]
  },
  {
   "cell_type": "code",
   "execution_count": 364,
   "metadata": {},
   "outputs": [
    {
     "name": "stdout",
     "output_type": "stream",
     "text": [
      "Deleted from AVL for: \n",
      "1000, 4000, 7000, 10000, 13000, 16000, 19000, 22000, 25000, 28000, 31000, 34000, 37000, 40000, 43000, 46000, 49000, 52000, 55000, 58000, "
     ]
    }
   ],
   "source": [
    "print('Deleted from AVL for: ')\n",
    "for length in dataset_len:\n",
    "    balanced_tree2 = AVLTree()\n",
    "    tree2 = append_avl(balanced_tree2, temporary_storing[:length])\n",
    "    times=[]\n",
    "    dic2=[]\n",
    "    dic2 = append_from_list(dic2, temporary_storing[:length])\n",
    "    dic2 = [i[0] for i in dic2]\n",
    "    while(len(dic2)!=0):\n",
    "        chosen_randomly = random.choice(dic2)\n",
    "        dic2.remove(chosen_randomly)\n",
    "        t = Timer(lambda:tree2.delete_value(chosen_randomly))\n",
    "        times.append(t.timeit(number = 1)/1)\n",
    "    print(length, end=', ')\n",
    "    times_dict_deletion[length].append(np.mean(times)) #mean of times needed to delete one element during deletion of all "
   ]
  },
  {
   "cell_type": "markdown",
   "metadata": {},
   "source": [
    "### 2.3 Searching for each element one by one -  measuring mean searching time for each record"
   ]
  },
  {
   "cell_type": "markdown",
   "metadata": {},
   "source": [
    "#### 2.3.1 Searching inside dictionary"
   ]
  },
  {
   "cell_type": "code",
   "execution_count": 347,
   "metadata": {},
   "outputs": [
    {
     "name": "stdout",
     "output_type": "stream",
     "text": [
      "Found in dictionary for: \n",
      "1000, 4000, 7000, 10000, 13000, 16000, 19000, 22000, 25000, 28000, 31000, 34000, 37000, 40000, 43000, 46000, 49000, 52000, 55000, 58000, "
     ]
    }
   ],
   "source": [
    "times_dict_search={}\n",
    "print('Found in dictionary for: ')\n",
    "for length in dataset_len:\n",
    "    i=0\n",
    "    times_dict_search[length]=[]\n",
    "    dic3=[]\n",
    "    dic3 = append_from_list(dic3, temporary_storing[:length])\n",
    "    times=[]\n",
    "    not_searched=[i[0] for i in dic3]\n",
    "    while(len(not_searched)!=0):\n",
    "        chosen_randomly = random.choice(not_searched)\n",
    "        not_searched.remove(chosen_randomly)\n",
    "        t = Timer(lambda:find_dol(dic3, chosen_randomly))\n",
    "        times.append(t.timeit(number = 3)/3)\n",
    "        i+=1\n",
    "    times_dict_search[length].append(np.mean(times)) #mean of times needed to delete one element during deletion of all \n",
    "    print(length, end=', ')"
   ]
  },
  {
   "cell_type": "markdown",
   "metadata": {},
   "source": [
    "#### 2.3.2 Searching in BST"
   ]
  },
  {
   "cell_type": "code",
   "execution_count": 349,
   "metadata": {},
   "outputs": [
    {
     "name": "stdout",
     "output_type": "stream",
     "text": [
      "Found in BST for: \n",
      "1000, 4000, 7000, 10000, 13000, 16000, 19000, 22000, 25000, 28000, 31000, 34000, 37000, 40000, 43000, 46000, 49000, 52000, 55000, 58000, "
     ]
    }
   ],
   "source": [
    "print('Found in BST for: ')\n",
    "for length in dataset_len:\n",
    "    dic3=[]\n",
    "    dic3 = append_from_list(dic3, temporary_storing[:length])\n",
    "    times=[]\n",
    "    unbalanced_tree3 = Tree()\n",
    "    tree3 = append_bst(unbalanced_tree3, temporary_storing[:length])\n",
    "    not_searched=[i[0] for i in dic3]\n",
    "    while(len(not_searched)!=0):\n",
    "        chosen_randomly = random.choice(not_searched)\n",
    "        not_searched.remove(chosen_randomly)\n",
    "        t = Timer(lambda:tree3.find(chosen_randomly))\n",
    "        times.append(t.timeit(number = 3)/3)\n",
    "    times_dict_search[length].append(np.mean(times)) #mean of times needed to delete one element during deletion of all \n",
    "    print(length, end=', ')"
   ]
  },
  {
   "cell_type": "markdown",
   "metadata": {},
   "source": [
    "#### 2.3.3 Searching in AVL"
   ]
  },
  {
   "cell_type": "code",
   "execution_count": 350,
   "metadata": {},
   "outputs": [
    {
     "name": "stdout",
     "output_type": "stream",
     "text": [
      "Found in AVL for: \n",
      "1000, 4000, 7000, 10000, 13000, 16000, 19000, 22000, 25000, 28000, 31000, 34000, 37000, 40000, 43000, 46000, 49000, 52000, 55000, 58000, "
     ]
    }
   ],
   "source": [
    "print('Found in AVL for: ')\n",
    "for length in dataset_len:\n",
    "    dic3=[]\n",
    "    dic3 = append_from_list(dic3, temporary_storing[:length])\n",
    "    times=[]\n",
    "    balanced_tree3 = AVLTree()\n",
    "    tree = append_avl(balanced_tree3, temporary_storing[:length])\n",
    "    not_searched=[i[0] for i in dic3]\n",
    "    while(len(not_searched)!=0):\n",
    "        chosen_randomly = random.choice(not_searched)\n",
    "        not_searched.remove(chosen_randomly)\n",
    "        t = Timer(lambda:tree.search(chosen_randomly))\n",
    "        times.append(t.timeit(number = 3)/3)\n",
    "    times_dict_search[length].append(np.mean(times)) #mean of times needed to delete one element during deletion of all \n",
    "    print(length, end=', ')"
   ]
  },
  {
   "cell_type": "markdown",
   "metadata": {},
   "source": [
    "#### 2.3.4 Storing results in DataFrames"
   ]
  },
  {
   "cell_type": "code",
   "execution_count": 365,
   "metadata": {},
   "outputs": [],
   "source": [
    "search_time = pd.DataFrame.from_dict(orient='index', data=times_dict_search, columns=['Ordered list', 'Binary Search Tree', 'Balanced BST'])\n",
    "remove_time = pd.DataFrame.from_dict(orient='index', data=times_dict_deletion, columns=['Ordered list', 'Binary Search Tree', 'Balanced BST'])\n",
    "insertion_time = pd.DataFrame.from_dict(orient='index', data=times_dict_addition, columns=['Ordered list', 'Binary Search Tree','Balanced BST'])"
   ]
  },
  {
   "cell_type": "markdown",
   "metadata": {},
   "source": [
    "# 3. Plots and conclusions"
   ]
  },
  {
   "cell_type": "markdown",
   "metadata": {},
   "source": [
    "### 3.1 Insertion time for different sizes of datasets, which are being stored using 3 techniques"
   ]
  },
  {
   "cell_type": "code",
   "execution_count": 360,
   "metadata": {},
   "outputs": [
    {
     "data": {
      "image/png": "[encoded data removed]",
      "text/plain": [
       "<Figure size 576x576 with 1 Axes>"
      ]
     },
     "metadata": {
      "needs_background": "light"
     },
     "output_type": "display_data"
    }
   ],
   "source": [
    "plt.figure(figsize=(8,8))\n",
    "sns.lineplot(data=insertion_time)\n",
    "plt.title('Time complexity of insertion to dynamically ordered dictionary and Binary Search Tree ')\n",
    "plt.xlabel('elements in data structure')\n",
    "plt.ylabel('t = f(n)')\n",
    "plt.show()"
   ]
  },
  {
   "cell_type": "code",
   "execution_count": 354,
   "metadata": {},
   "outputs": [
    {
     "data": {
      "image/png": "[encoded data removed]",
      "text/plain": [
       "<Figure size 576x576 with 1 Axes>"
      ]
     },
     "metadata": {
      "needs_background": "light"
     },
     "output_type": "display_data"
    }
   ],
   "source": [
    "plt.figure(figsize=(8,8))\n",
    "sns.lineplot(data=search_time)\n",
    "plt.title('Time complexity of single element search stored in dynamically ordered dictionary and Binary Search Tree ')\n",
    "plt.xlabel('elements in data structure')\n",
    "plt.ylabel('t = f(n)')\n",
    "plt.show()"
   ]
  },
  {
   "cell_type": "code",
   "execution_count": 366,
   "metadata": {
    "scrolled": false
   },
   "outputs": [
    {
     "data": {
      "text/plain": [
       "Text(0, 0.5, 't = f(n)')"
      ]
     },
     "execution_count": 366,
     "metadata": {},
     "output_type": "execute_result"
    },
    {
     "data": {
      "image/png": "[encoded data removed]",
      "text/plain": [
       "<Figure size 576x576 with 1 Axes>"
      ]
     },
     "metadata": {
      "needs_background": "light"
     },
     "output_type": "display_data"
    }
   ],
   "source": [
    "plt.figure(figsize=(8,8))\n",
    "sns.lineplot(data=remove_time)\n",
    "plt.title('Time complexity of single element deletion stored in dynamically ordered dictionary and Binary Search Tree ')\n",
    "plt.xlabel('elements in data structure')\n",
    "plt.ylabel('t = f(n)')"
   ]
  },
  {
   "cell_type": "markdown",
   "metadata": {},
   "source": [
    "### 3.2 Conclusions on time complexity\n",
    "Let's begin with Binary trees. Mean time complexity of BST is heavily dependent on mean hight of the tree. Best times can be reached on balanced trees – left and right branch contains equal amount of elements, therefore the least amount of comparisons is needed due to specific way of creating that data structure – left node contains smaller element, right node contains bigger.  That rule applies to all basic operations on trees – insertion, search, deletion. Average time complexity of basic operation is O(log n), worst case O(n). \n",
    "\n",
    "Node deletion, despite low time complexity is much more advanced – it demands taking into consideration different cases (element we search is a root, a node with or without child/children). Insertion to BST is fairly simple, works similarly to search – starts from root and enters left/right node by making comparison. This, smarter, way of accessing elements resulting in lesser amount of comparison makes BST more efficient than linear searching on ordered array.\n",
    " "
   ]
  }
 ],
 "metadata": {
  "kernelspec": {
   "display_name": "Python 3",
   "language": "python",
   "name": "python3"
  },
  "language_info": {
   "codemirror_mode": {
    "name": "ipython",
    "version": 3
   },
   "file_extension": ".py",
   "mimetype": "text/x-python",
   "name": "python",
   "nbconvert_exporter": "python",
   "pygments_lexer": "ipython3",
   "version": "3.7.3"
  }
 },
 "nbformat": 4,
 "nbformat_minor": 2
}
