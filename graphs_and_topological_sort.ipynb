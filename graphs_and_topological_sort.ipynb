{
 "cells": [
  {
   "cell_type": "markdown",
   "metadata": {},
   "source": [
    "# Exercise 3. Graph algorithms\n",
    "#### Algorithms ans Data Structures\n",
    "\n",
    "by Jędrzej Kopiszka, 145304\n",
    "10.05.2020"
   ]
  },
  {
   "cell_type": "markdown",
   "metadata": {},
   "source": [
    "## 1. Data representation and data storage algorithms"
   ]
  },
  {
   "cell_type": "markdown",
   "metadata": {},
   "source": [
    "#### 1.1 Necessary libraries"
   ]
  },
  {
   "cell_type": "code",
   "execution_count": 1,
   "metadata": {},
   "outputs": [],
   "source": [
    "import pandas as pd # DataFrame for output representation\n",
    "import numpy as np \n",
    "import random # randomized element search\n",
    "import math # used for simpler data input - specifically math.floor\n",
    "import networkx as nx\n",
    "from timeit import Timer # time measuring\n",
    "import seaborn as sns # plotting\n",
    "import matplotlib.pyplot as plt #plotting"
   ]
  },
  {
   "cell_type": "markdown",
   "metadata": {},
   "source": [
    "#### 1.2 Create graphs and store them in text file\n",
    "Generating random pairs of vertices for graphs. 15 graphs of different volume, each graph in one line in shape: number of elements, list of pairs"
   ]
  },
  {
   "cell_type": "code",
   "execution_count": 2,
   "metadata": {},
   "outputs": [],
   "source": [
    "file = open('dataset_3.txt', 'w') # create dataset\n",
    "\n",
    "vert_distribution = np.arange(5, 146 , 10)\n",
    "for vert in vert_distribution:\n",
    "    edges = int(vert*(vert-1)/2*0.6)\n",
    "    tab_of_vert = []\n",
    "    while(len(tab_of_vert) != edges):\n",
    "        random_pair = [random.randint(0,vert-1), random.randint(0, vert-1)]\n",
    "        random_pair_inverted = [random_pair[1], random_pair[0]]\n",
    "        if random_pair not in tab_of_vert and random_pair_inverted not in tab_of_vert and random_pair[0]!=random_pair[1]:\n",
    "            tab_of_vert.append(random_pair)\n",
    "    file.writelines(str(vert) + ';' + str(tab_of_vert) + '\\n')"
   ]
  },
  {
   "cell_type": "code",
   "execution_count": 3,
   "metadata": {},
   "outputs": [],
   "source": [
    "def convert_input(line): #converting input from text file to shape:  size, list of pairs = mainly replacing strings with ints and lists\n",
    "    size = int(line.split(';')[0])\n",
    "    b = line.split(';')[1].strip(']').strip('[').split(',')\n",
    "    b_tab=[[] for i in range(int(size*(size-1)/2*0.6))]\n",
    "    for i in range(len(b)):\n",
    "        b[i] = int(b[i].strip('\\n').strip(' ').strip('[').strip(']'))\n",
    "        b_tab[math.floor(i/2)].append(b[i])\n",
    "    return size, b_tab"
   ]
  },
  {
   "cell_type": "markdown",
   "metadata": {},
   "source": [
    "#### 1.3 List of incidents - algorithm implementation"
   ]
  },
  {
   "cell_type": "code",
   "execution_count": 4,
   "metadata": {},
   "outputs": [],
   "source": [
    "#list of incidents\n",
    "def list_of_incidents(directed, size, tab):\n",
    "    final_tab=[[] for i in range(size)]\n",
    "    if directed==True:\n",
    "        for vertex in tab:\n",
    "            final_tab[vertex[0]].append(vertex[1])\n",
    "          \n",
    "    else:\n",
    "        for vertex in tab:\n",
    "            final_tab[vertex[0]].append(vertex[1])\n",
    "            final_tab[vertex[1]].append(vertex[0])\n",
    "            \n",
    "    return final_tab"
   ]
  },
  {
   "cell_type": "markdown",
   "metadata": {},
   "source": [
    "#### 1.4 Edge list - algorithm implementation"
   ]
  },
  {
   "cell_type": "code",
   "execution_count": 5,
   "metadata": {},
   "outputs": [],
   "source": [
    "#edge list\n",
    "def edge_list(directed, size, tab):\n",
    "    final_tab=[]\n",
    "    if directed==True:\n",
    "        final_tab=tab\n",
    "    else:\n",
    "        for vertex in tab:\n",
    "            final_tab.append(vertex)\n",
    "            final_tab.append([vertex[1], vertex[0]])\n",
    "    return final_tab"
   ]
  },
  {
   "cell_type": "markdown",
   "metadata": {},
   "source": [
    "#### 1.5 Neighborhood matrix - algorithm implementation"
   ]
  },
  {
   "cell_type": "code",
   "execution_count": 6,
   "metadata": {},
   "outputs": [],
   "source": [
    "#Neighborhood matrix (vertex matrix, adjacency matrix)\n",
    "def neighborhood_matrix(directed, size, tab):\n",
    "    final_tab = [[0 for j in range(size)] for i in range(size)]\n",
    "    if directed==False:\n",
    "        for vertex in tab:\n",
    "            final_tab[vertex[0]][vertex[1]]=1\n",
    "            final_tab[vertex[1]][vertex[0]]=1\n",
    "    else:\n",
    "        for vertex in tab:\n",
    "            final_tab[vertex[0]][vertex[1]]=1   \n",
    "    return final_tab"
   ]
  },
  {
   "cell_type": "markdown",
   "metadata": {},
   "source": [
    "#### 1.6 Incident matrix - algorithm implementation"
   ]
  },
  {
   "cell_type": "code",
   "execution_count": 7,
   "metadata": {},
   "outputs": [],
   "source": [
    "#Incident matrix\n",
    "def incident_matrix(directed, size, tab):\n",
    "    final_tab=[[0 for i in range(len(tab))] for i in range(size)]\n",
    "    if directed==False:\n",
    "        edge_num=0\n",
    "        for vertex in tab:\n",
    "            final_tab[vertex[0]][edge_num]=1\n",
    "            final_tab[vertex[1]][edge_num]=1\n",
    "            edge_num+=1\n",
    "    else:\n",
    "        edge_num=0\n",
    "        for vertex in tab:\n",
    "            final_tab[vertex[0]][edge_num]=-1\n",
    "            final_tab[vertex[1]][edge_num]=1\n",
    "            edge_num+=1\n",
    "    return final_tab"
   ]
  },
  {
   "cell_type": "markdown",
   "metadata": {},
   "source": [
    "## 2 Searching algorithms implementation \n",
    "####  finding edges between all pairs of vertices"
   ]
  },
  {
   "cell_type": "markdown",
   "metadata": {},
   "source": [
    "#### 2.1 Edge list "
   ]
  },
  {
   "cell_type": "code",
   "execution_count": 8,
   "metadata": {},
   "outputs": [],
   "source": [
    "def search_for_edge_edge_list(pair, tab):\n",
    "    if pair in tab:\n",
    "        return True\n",
    "    else:\n",
    "        return False\n",
    "\n",
    "def find_edge_list(directed, size, tab ):\n",
    "    time=0\n",
    "    if directed==False:\n",
    "        used = []\n",
    "        while(len(used) < size*(size-1)):\n",
    "            random_pair = [random.randint(0,size-1), random.randint(0, size-1)]\n",
    "            if random_pair[0]!=random_pair[1] and  random_pair not in used:\n",
    "                t = Timer(lambda: search_for_edge_edge_list(random_pair, tab))\n",
    "                time+=(t.timeit(number = 1)/1)\n",
    "                used.append(random_pair)\n",
    "                used.append([random_pair[1], random_pair[0]])\n",
    "    else:\n",
    "        pass\n",
    "    \n",
    "    return time/size"
   ]
  },
  {
   "cell_type": "markdown",
   "metadata": {},
   "source": [
    "#### 2.2 List of incidents"
   ]
  },
  {
   "cell_type": "code",
   "execution_count": 9,
   "metadata": {},
   "outputs": [],
   "source": [
    "def search_for_edge_list_of_incidents(pair, tab):\n",
    "    if pair[1] in tab[pair[0]]:\n",
    "        return True\n",
    "    else:\n",
    "        return False\n",
    "    \n",
    "def find_list_of_incidents(directed, size, tab):\n",
    "    time=0\n",
    "    if directed==False:\n",
    "        used = []\n",
    "        while(len(used) < size*(size-1)):\n",
    "            random_pair = [random.randint(0,size-1), random.randint(0, size-1)]\n",
    "            if random_pair[0]!=random_pair[1] and  random_pair not in used:\n",
    "                t = Timer(lambda: search_for_edge_list_of_incidents(random_pair, tab))\n",
    "                time+=(t.timeit(number = 3)/3)\n",
    "                used.append(random_pair)\n",
    "                used.append([random_pair[1], random_pair[0]])\n",
    "    else:\n",
    "        pass\n",
    "    \n",
    "    return time/size"
   ]
  },
  {
   "cell_type": "markdown",
   "metadata": {},
   "source": [
    "#### 2.3 Incident matrix"
   ]
  },
  {
   "cell_type": "code",
   "execution_count": 10,
   "metadata": {},
   "outputs": [],
   "source": [
    "def search_for_edge_incident_matrix(pair, tab):\n",
    "    for edge in range(len(tab[0])):\n",
    "        if tab[pair[0]][edge]==1 and tab[pair[1]][edge]==1:\n",
    "            return True\n",
    "    return False\n",
    "    \n",
    "def find_list_of_incident_matrix(directed, size, tab):\n",
    "    time=0\n",
    "    if directed==False:\n",
    "        used = []\n",
    "        while(len(used) < size*(size-1)):\n",
    "            random_pair = [random.randint(0,size-1), random.randint(0, size-1)]\n",
    "            if random_pair[0]!=random_pair[1] and  random_pair not in used:\n",
    "                t = Timer(lambda: search_for_edge_incident_matrix(random_pair, tab))\n",
    "                time+=(t.timeit(number = 3)/3)\n",
    "                used.append(random_pair)\n",
    "                used.append([random_pair[1], random_pair[0]])           \n",
    "    else:\n",
    "        pass\n",
    "    \n",
    "    return time/size"
   ]
  },
  {
   "cell_type": "markdown",
   "metadata": {},
   "source": [
    "#### 2.4 Neighborhood matrix"
   ]
  },
  {
   "cell_type": "code",
   "execution_count": 11,
   "metadata": {},
   "outputs": [],
   "source": [
    "def search_for_edge_neighborhood_matrix(pair, tab):\n",
    "    if tab[pair[0]][pair[1]]==1:\n",
    "        return True\n",
    "    else:\n",
    "        return False\n",
    "    \n",
    "def find_list_of_neighborhood_matrix(directed, size, tab):\n",
    "    time=0\n",
    "    if directed==False:\n",
    "        used = []\n",
    "        while(len(used) < size*(size-1)):\n",
    "            random_pair = [random.randint(0,size-1), random.randint(0, size-1)]\n",
    "            if random_pair[0]!=random_pair[1] and  random_pair not in used:\n",
    "                t = Timer(lambda: search_for_edge_neighborhood_matrix(random_pair, tab))\n",
    "                time+=(t.timeit(number = 3)/3)\n",
    "                used.append(random_pair)\n",
    "                used.append([random_pair[1], random_pair[0]])        \n",
    "    else:\n",
    "        pass\n",
    "    \n",
    "    return time/size"
   ]
  },
  {
   "cell_type": "markdown",
   "metadata": {},
   "source": [
    "## 3. Data input and time complexity analysis"
   ]
  },
  {
   "cell_type": "markdown",
   "metadata": {},
   "source": [
    "#### 3.1 Reading graphs from file, storing in different representations"
   ]
  },
  {
   "cell_type": "code",
   "execution_count": 12,
   "metadata": {},
   "outputs": [],
   "source": [
    "#storing grphs in different representations\n",
    "file = open('dataset_3.txt', 'r')\n",
    "lines = file.readlines()\n",
    "\n",
    "incidents_list_input=dict()\n",
    "edge_list_input=dict()\n",
    "incident_matrix_input=dict()\n",
    "neighborhood_matrix_input=dict()\n",
    "for line in lines:\n",
    "    size, graph = convert_input(line)\n",
    "    incidents_list_input[size] = list_of_incidents(False, size, graph)\n",
    "    edge_list_input[size] = edge_list(False, size, graph)\n",
    "    neighborhood_matrix_input[size] = neighborhood_matrix(False, size, graph)\n",
    "    incident_matrix_input[size] = incident_matrix(False, size, graph)\n",
    "file.close()"
   ]
  },
  {
   "cell_type": "markdown",
   "metadata": {},
   "source": [
    "#### 3.2 Performing time complexity analysis"
   ]
  },
  {
   "cell_type": "code",
   "execution_count": 13,
   "metadata": {},
   "outputs": [
    {
     "name": "stdout",
     "output_type": "stream",
     "text": [
      "\n",
      " For  5 : edge, incidents list, incident matrix, neighborhood matrix\n",
      " For  15 : edge, incidents list, incident matrix, neighborhood matrix\n",
      " For  25 : edge, incidents list, incident matrix, neighborhood matrix\n",
      " For  35 : edge, incidents list, incident matrix, neighborhood matrix\n",
      " For  45 : edge, incidents list, incident matrix, neighborhood matrix\n",
      " For  55 : edge, incidents list, incident matrix, neighborhood matrix\n",
      " For  65 : edge, incidents list, incident matrix, neighborhood matrix\n",
      " For  75 : edge, incidents list, incident matrix, neighborhood matrix\n",
      " For  85 : edge, incidents list, incident matrix, neighborhood matrix\n",
      " For  95 : edge, incidents list, incident matrix, neighborhood matrix\n",
      " For  105 : edge, incidents list, incident matrix, neighborhood matrix\n",
      " For  115 : edge, incidents list, incident matrix, neighborhood matrix\n",
      " For  125 : edge, incidents list, incident matrix, neighborhood matrix\n",
      " For  135 : edge, incidents list, incident matrix, neighborhood matrix\n",
      " For  145 : edge, incidents list, incident matrix, neighborhood matrix"
     ]
    }
   ],
   "source": [
    "time_dict={}\n",
    "for graph in edge_list_input:\n",
    "    print('\\n For ',graph,': ', end='')\n",
    "    time_dict[graph] = [find_edge_list(False, graph, edge_list_input[graph])]\n",
    "    print('edge, ', end='')\n",
    "    \n",
    "    time_dict[graph].append(find_list_of_incidents(False, graph, incidents_list_input[graph]))\n",
    "    print('incidents list, ', end='')\n",
    "\n",
    "    time_dict[graph].append(find_list_of_incident_matrix(False, graph, incident_matrix_input[graph]))\n",
    "    print('incident matrix, ',end='')\n",
    "\n",
    "    time_dict[graph].append(find_list_of_neighborhood_matrix(False, graph, neighborhood_matrix_input[graph]))\n",
    "    print('neighborhood matrix', end='')\n",
    "    "
   ]
  },
  {
   "cell_type": "markdown",
   "metadata": {},
   "source": [
    "#### 3.3 Time complexity results"
   ]
  },
  {
   "cell_type": "code",
   "execution_count": 14,
   "metadata": {},
   "outputs": [
    {
     "data": {
      "text/html": [
       "<div>\n",
       "<style scoped>\n",
       "    .dataframe tbody tr th:only-of-type {\n",
       "        vertical-align: middle;\n",
       "    }\n",
       "\n",
       "    .dataframe tbody tr th {\n",
       "        vertical-align: top;\n",
       "    }\n",
       "\n",
       "    .dataframe thead th {\n",
       "        text-align: right;\n",
       "    }\n",
       "</style>\n",
       "<table border=\"1\" class=\"dataframe\">\n",
       "  <thead>\n",
       "    <tr style=\"text-align: right;\">\n",
       "      <th></th>\n",
       "      <th>Edge list</th>\n",
       "      <th>List of incidents</th>\n",
       "      <th>Incident matrix</th>\n",
       "      <th>Neighborhood matrix</th>\n",
       "    </tr>\n",
       "  </thead>\n",
       "  <tbody>\n",
       "    <tr>\n",
       "      <th>5</th>\n",
       "      <td>0.000007</td>\n",
       "      <td>0.000003</td>\n",
       "      <td>0.000007</td>\n",
       "      <td>0.000002</td>\n",
       "    </tr>\n",
       "    <tr>\n",
       "      <th>15</th>\n",
       "      <td>0.000031</td>\n",
       "      <td>0.000009</td>\n",
       "      <td>0.000079</td>\n",
       "      <td>0.000009</td>\n",
       "    </tr>\n",
       "    <tr>\n",
       "      <th>25</th>\n",
       "      <td>0.000150</td>\n",
       "      <td>0.000012</td>\n",
       "      <td>0.000257</td>\n",
       "      <td>0.000013</td>\n",
       "    </tr>\n",
       "    <tr>\n",
       "      <th>35</th>\n",
       "      <td>0.000440</td>\n",
       "      <td>0.000013</td>\n",
       "      <td>0.000553</td>\n",
       "      <td>0.000012</td>\n",
       "    </tr>\n",
       "    <tr>\n",
       "      <th>45</th>\n",
       "      <td>0.000800</td>\n",
       "      <td>0.000037</td>\n",
       "      <td>0.001221</td>\n",
       "      <td>0.000017</td>\n",
       "    </tr>\n",
       "    <tr>\n",
       "      <th>55</th>\n",
       "      <td>0.001510</td>\n",
       "      <td>0.000036</td>\n",
       "      <td>0.002480</td>\n",
       "      <td>0.000020</td>\n",
       "    </tr>\n",
       "    <tr>\n",
       "      <th>65</th>\n",
       "      <td>0.002898</td>\n",
       "      <td>0.000034</td>\n",
       "      <td>0.003883</td>\n",
       "      <td>0.000049</td>\n",
       "    </tr>\n",
       "    <tr>\n",
       "      <th>75</th>\n",
       "      <td>0.004292</td>\n",
       "      <td>0.000046</td>\n",
       "      <td>0.004765</td>\n",
       "      <td>0.000051</td>\n",
       "    </tr>\n",
       "    <tr>\n",
       "      <th>85</th>\n",
       "      <td>0.005705</td>\n",
       "      <td>0.000063</td>\n",
       "      <td>0.005828</td>\n",
       "      <td>0.000033</td>\n",
       "    </tr>\n",
       "    <tr>\n",
       "      <th>95</th>\n",
       "      <td>0.006716</td>\n",
       "      <td>0.000055</td>\n",
       "      <td>0.010597</td>\n",
       "      <td>0.000035</td>\n",
       "    </tr>\n",
       "    <tr>\n",
       "      <th>105</th>\n",
       "      <td>0.009898</td>\n",
       "      <td>0.000076</td>\n",
       "      <td>0.010903</td>\n",
       "      <td>0.000035</td>\n",
       "    </tr>\n",
       "    <tr>\n",
       "      <th>115</th>\n",
       "      <td>0.011541</td>\n",
       "      <td>0.000179</td>\n",
       "      <td>0.014483</td>\n",
       "      <td>0.000030</td>\n",
       "    </tr>\n",
       "    <tr>\n",
       "      <th>125</th>\n",
       "      <td>0.012575</td>\n",
       "      <td>0.000103</td>\n",
       "      <td>0.042230</td>\n",
       "      <td>0.000041</td>\n",
       "    </tr>\n",
       "    <tr>\n",
       "      <th>135</th>\n",
       "      <td>0.016829</td>\n",
       "      <td>0.000107</td>\n",
       "      <td>0.019325</td>\n",
       "      <td>0.000037</td>\n",
       "    </tr>\n",
       "    <tr>\n",
       "      <th>145</th>\n",
       "      <td>0.020266</td>\n",
       "      <td>0.000102</td>\n",
       "      <td>0.031635</td>\n",
       "      <td>0.000067</td>\n",
       "    </tr>\n",
       "  </tbody>\n",
       "</table>\n",
       "</div>"
      ],
      "text/plain": [
       "     Edge list  List of incidents  Incident matrix  Neighborhood matrix\n",
       "5     0.000007           0.000003         0.000007             0.000002\n",
       "15    0.000031           0.000009         0.000079             0.000009\n",
       "25    0.000150           0.000012         0.000257             0.000013\n",
       "35    0.000440           0.000013         0.000553             0.000012\n",
       "45    0.000800           0.000037         0.001221             0.000017\n",
       "55    0.001510           0.000036         0.002480             0.000020\n",
       "65    0.002898           0.000034         0.003883             0.000049\n",
       "75    0.004292           0.000046         0.004765             0.000051\n",
       "85    0.005705           0.000063         0.005828             0.000033\n",
       "95    0.006716           0.000055         0.010597             0.000035\n",
       "105   0.009898           0.000076         0.010903             0.000035\n",
       "115   0.011541           0.000179         0.014483             0.000030\n",
       "125   0.012575           0.000103         0.042230             0.000041\n",
       "135   0.016829           0.000107         0.019325             0.000037\n",
       "145   0.020266           0.000102         0.031635             0.000067"
      ]
     },
     "execution_count": 14,
     "metadata": {},
     "output_type": "execute_result"
    }
   ],
   "source": [
    "search_time = pd.DataFrame.from_dict(orient='index', data=time_dict, columns=['Edge list', 'List of incidents', 'Incident matrix', 'Neighborhood matrix'])\n",
    "search_time"
   ]
  },
  {
   "cell_type": "code",
   "execution_count": 15,
   "metadata": {},
   "outputs": [
    {
     "data": {
      "image/png": "[encoded data removed]",
      "text/plain": [
       "<Figure size 720x720 with 1 Axes>"
      ]
     },
     "metadata": {
      "needs_background": "light"
     },
     "output_type": "display_data"
    }
   ],
   "source": [
    "plt.figure(figsize=(10,10))\n",
    "sns.lineplot(data=search_time)\n",
    "plt.xlabel('n')\n",
    "plt.ylabel('t')\n",
    "plt.yscale('log')\n",
    "plt.title('Time comparison of single element search for different graph representations, log transformed y-axis')\n",
    "plt.show()"
   ]
  },
  {
   "cell_type": "markdown",
   "metadata": {},
   "source": [
    "## 4. Topological sorting procedure"
   ]
  },
  {
   "cell_type": "markdown",
   "metadata": {},
   "source": [
    "#### 4.1 DAG generator"
   ]
  },
  {
   "cell_type": "code",
   "execution_count": 16,
   "metadata": {},
   "outputs": [],
   "source": [
    "def generate_dag(size):\n",
    "    dag_tab = []\n",
    "    while len(dag_tab) < (size*(size-1)/2)*0.3:\n",
    "        random_first = random.randint(0, size-1)\n",
    "        if random_first < size-1:\n",
    "            random_second = random.randint(random_first+1, size-1)\n",
    "            if [random_first, random_second] not in dag_tab:\n",
    "                dag_tab.append([random_first, random_second])\n",
    "    return dag_tab"
   ]
  },
  {
   "cell_type": "markdown",
   "metadata": {},
   "source": [
    "#### 4.2 Storing DAGs in 4 different representations"
   ]
  },
  {
   "cell_type": "code",
   "execution_count": 17,
   "metadata": {},
   "outputs": [
    {
     "name": "stdout",
     "output_type": "stream",
     "text": [
      "Done for: \n",
      "50, 100, 150, 200, 250, 300, 350, 400, 450, 500, 550, 600, 650, 700, 750, "
     ]
    }
   ],
   "source": [
    "sizes = list(np.arange(50,751, 50))\n",
    "list_of_incidents_dag=dict()\n",
    "neighborhood_matrix_dag = dict()\n",
    "incident_matrix_dag = dict()\n",
    "edge_list_dag = dict()\n",
    "\n",
    "print('Done for: ')\n",
    "for size in sizes:\n",
    "    edge_list_dag[size] = generate_dag(size)\n",
    "    list_of_incidents_dag[size] = list_of_incidents(True, size, edge_list_dag[size])\n",
    "    neighborhood_matrix_dag[size] = neighborhood_matrix(True, size, edge_list_dag[size])\n",
    "    incident_matrix_dag[size] = incident_matrix(True, size, edge_list_dag[size])\n",
    "    print(size, end=', ')\n",
    "    "
   ]
  },
  {
   "cell_type": "markdown",
   "metadata": {},
   "source": [
    "#### 4.3 Topological Sort algorithm for list of incidents"
   ]
  },
  {
   "cell_type": "code",
   "execution_count": 50,
   "metadata": {},
   "outputs": [],
   "source": [
    "def TopoSort_list_of_incidents(i, visited, sortedList, graph):\n",
    "    visited[i] = True\n",
    "    for j in graph[i]:\n",
    "        if visited[j] == False:\n",
    "            TopoSort_list_of_incidents(j, visited, sortedList, graph)\n",
    "    sortedList.insert(0, i)\n",
    "\n",
    "def TopologicalSort_list_of_incidents(size, graph):\n",
    "    visited = [False for i in range(len(graph))]\n",
    "    sortedGraph = []\n",
    "    for i in range(len(graph)):\n",
    "        if visited[i] == False:\n",
    "            TopoSort_list_of_incidents(i, visited, sortedGraph, graph)\n",
    "   "
   ]
  },
  {
   "cell_type": "markdown",
   "metadata": {},
   "source": [
    "#### 4.4 Topological Sort for edge list"
   ]
  },
  {
   "cell_type": "code",
   "execution_count": 51,
   "metadata": {},
   "outputs": [],
   "source": [
    "def TopoSort_edge_list(i, visited, sortedList, graph): \n",
    "    found = False                                      \n",
    "    not_leaf=False                                     \n",
    "    for j in graph:\n",
    "        if j[0]==i:\n",
    "            if visited[j[1]]==False:\n",
    "                found=True\n",
    "                TopoSort_edge_list(j[1], visited, sortedList, graph)\n",
    "\n",
    "    if found==False:\n",
    "        sortedList.insert(0,i)\n",
    "        visited[i] = True\n",
    "    if found==True and not_leaf==False:\n",
    "        sortedList.insert(0,i)\n",
    "        visited[i] = True\n",
    "\n",
    "def TopologicalSort_edge_list(size, graph):\n",
    "    visited = [False for i in range(size)]\n",
    "    sortedGraph = []\n",
    "    for i in range(size):\n",
    "        if visited[i] == False:\n",
    "            TopoSort_edge_list(i, visited, sortedGraph, graph)\n",
    "    "
   ]
  },
  {
   "cell_type": "markdown",
   "metadata": {},
   "source": [
    "#### 4.5 Topological Sort for neighborhood matrix"
   ]
  },
  {
   "cell_type": "code",
   "execution_count": 52,
   "metadata": {},
   "outputs": [],
   "source": [
    "def TopoSort_neighborhood_matrix(i, visited, sortedList, graph):\n",
    "    if 1 not in graph[i] and visited[i]==False:\n",
    "        visited[i]=True\n",
    "        sortedList.insert(0,i)\n",
    "        TopoSort_neighborhood_matrix(i, visited, sortedList, graph)\n",
    "    elif visited[i]==True:\n",
    "        for j in range(len(graph)):\n",
    "            if graph[j][i]==1 and visited[j]==False:\n",
    "                visited[j]=True\n",
    "                sortedList.insert(0,j)\n",
    "                TopoSort_neighborhood_matrix(j, visited, sortedList, graph)       \n",
    "\n",
    "def TopologicalSort_neighborhood_matrix(size, graph):\n",
    "    visited = [False for i in range(len(graph))]\n",
    "    sortedGraph = []\n",
    "    for i in range(len(graph)):\n",
    "        if visited[i] == False:\n",
    "            TopoSort_neighborhood_matrix(i, visited, sortedGraph, graph)\n",
    "    "
   ]
  },
  {
   "cell_type": "markdown",
   "metadata": {},
   "source": [
    "#### 4.6 Topological Sort for incident matrix"
   ]
  },
  {
   "cell_type": "code",
   "execution_count": 53,
   "metadata": {},
   "outputs": [],
   "source": [
    "def TopoSort_incident_matrix(i, visited, sortedList, graph):\n",
    "    visited[i]=True\n",
    "    row=[]\n",
    "    \n",
    "    for idx,col in enumerate(graph[i]):\n",
    "        if col == -1:\n",
    "            edge = list(graph[:, idx])\n",
    "            row.append(edge.index(1))\n",
    "    for j in row:\n",
    "        if visited[j] == False:\n",
    "            TopoSort_incident_matrix(j, visited, sortedList, graph)\n",
    "    sortedList.insert(0,i)\n",
    "\n",
    "def TopologicalSort_incident_matrix(size, graph):\n",
    "    visited = [False for i in range(len(graph))]\n",
    "    sortedGraph = []\n",
    "    for i in range(len(graph)):\n",
    "        if visited[i] == False:\n",
    "            TopoSort_incident_matrix(i, visited, sortedGraph, graph)\n",
    "    "
   ]
  },
  {
   "cell_type": "markdown",
   "metadata": {},
   "source": [
    "#### 4.7 Time measuring of topological sort for all 4 representations"
   ]
  },
  {
   "cell_type": "code",
   "execution_count": 54,
   "metadata": {},
   "outputs": [
    {
     "name": "stdout",
     "output_type": "stream",
     "text": [
      "Done for: \n",
      "50, 100, 150, 200, 250, 300, 350, 400, 450, 500, 550, 600, 650, 700, 750, "
     ]
    }
   ],
   "source": [
    "sizes = list(np.arange(50,751,50))\n",
    "TopoSort_times=dict()\n",
    "\n",
    "print('Done for: ')\n",
    "for size in sizes:\n",
    "    t = Timer(lambda: TopologicalSort_edge_list(size, edge_list_dag[size]))\n",
    "    TopoSort_times[size] = [t.timeit(number = 10)/10]\n",
    "    \n",
    "    t = Timer(lambda: TopologicalSort_list_of_incidents(size, list_of_incidents_dag[size]))\n",
    "    TopoSort_times[size].append(t.timeit(number = 10)/10)\n",
    "\n",
    "    t = Timer(lambda: TopologicalSort_neighborhood_matrix(size, neighborhood_matrix_dag[size]))\n",
    "    TopoSort_times[size].append(t.timeit(number = 10)/10)\n",
    "    \n",
    "    t = Timer(lambda: TopologicalSort_incident_matrix(size, np.array(incident_matrix_dag[size])))\n",
    "    TopoSort_times[size].append(t.timeit(number = 10)/10)\n",
    "    \n",
    "    print(size, end=', ')"
   ]
  },
  {
   "cell_type": "code",
   "execution_count": 55,
   "metadata": {},
   "outputs": [],
   "source": [
    "TopoSort_df = pd.DataFrame.from_dict(data=TopoSort_times, orient='index', \\\n",
    "                        columns=['Edge list', 'List of incidents', 'Neighborhood matrix', 'Incident matrix'])"
   ]
  },
  {
   "cell_type": "code",
   "execution_count": 56,
   "metadata": {},
   "outputs": [
    {
     "data": {
      "text/html": [
       "<div>\n",
       "<style scoped>\n",
       "    .dataframe tbody tr th:only-of-type {\n",
       "        vertical-align: middle;\n",
       "    }\n",
       "\n",
       "    .dataframe tbody tr th {\n",
       "        vertical-align: top;\n",
       "    }\n",
       "\n",
       "    .dataframe thead th {\n",
       "        text-align: right;\n",
       "    }\n",
       "</style>\n",
       "<table border=\"1\" class=\"dataframe\">\n",
       "  <thead>\n",
       "    <tr style=\"text-align: right;\">\n",
       "      <th></th>\n",
       "      <th>Edge list</th>\n",
       "      <th>List of incidents</th>\n",
       "      <th>Neighborhood matrix</th>\n",
       "      <th>Incident matrix</th>\n",
       "    </tr>\n",
       "  </thead>\n",
       "  <tbody>\n",
       "    <tr>\n",
       "      <th>50</th>\n",
       "      <td>0.001135</td>\n",
       "      <td>0.000031</td>\n",
       "      <td>0.000207</td>\n",
       "      <td>0.010603</td>\n",
       "    </tr>\n",
       "    <tr>\n",
       "      <th>100</th>\n",
       "      <td>0.005285</td>\n",
       "      <td>0.000083</td>\n",
       "      <td>0.000658</td>\n",
       "      <td>0.079629</td>\n",
       "    </tr>\n",
       "    <tr>\n",
       "      <th>150</th>\n",
       "      <td>0.019916</td>\n",
       "      <td>0.000164</td>\n",
       "      <td>0.001485</td>\n",
       "      <td>0.268844</td>\n",
       "    </tr>\n",
       "    <tr>\n",
       "      <th>200</th>\n",
       "      <td>0.042554</td>\n",
       "      <td>0.000259</td>\n",
       "      <td>0.002520</td>\n",
       "      <td>0.700033</td>\n",
       "    </tr>\n",
       "    <tr>\n",
       "      <th>250</th>\n",
       "      <td>0.081707</td>\n",
       "      <td>0.000404</td>\n",
       "      <td>0.004495</td>\n",
       "      <td>1.409152</td>\n",
       "    </tr>\n",
       "    <tr>\n",
       "      <th>300</th>\n",
       "      <td>0.237593</td>\n",
       "      <td>0.001299</td>\n",
       "      <td>0.011290</td>\n",
       "      <td>2.466107</td>\n",
       "    </tr>\n",
       "    <tr>\n",
       "      <th>350</th>\n",
       "      <td>0.253796</td>\n",
       "      <td>0.000783</td>\n",
       "      <td>0.007944</td>\n",
       "      <td>3.994951</td>\n",
       "    </tr>\n",
       "    <tr>\n",
       "      <th>400</th>\n",
       "      <td>0.412834</td>\n",
       "      <td>0.001170</td>\n",
       "      <td>0.012194</td>\n",
       "      <td>5.759825</td>\n",
       "    </tr>\n",
       "    <tr>\n",
       "      <th>450</th>\n",
       "      <td>0.526424</td>\n",
       "      <td>0.001317</td>\n",
       "      <td>0.013588</td>\n",
       "      <td>8.621401</td>\n",
       "    </tr>\n",
       "    <tr>\n",
       "      <th>500</th>\n",
       "      <td>0.662235</td>\n",
       "      <td>0.001604</td>\n",
       "      <td>0.016812</td>\n",
       "      <td>11.570798</td>\n",
       "    </tr>\n",
       "    <tr>\n",
       "      <th>550</th>\n",
       "      <td>0.979230</td>\n",
       "      <td>0.001942</td>\n",
       "      <td>0.020651</td>\n",
       "      <td>15.356822</td>\n",
       "    </tr>\n",
       "    <tr>\n",
       "      <th>600</th>\n",
       "      <td>1.142115</td>\n",
       "      <td>0.002646</td>\n",
       "      <td>0.024257</td>\n",
       "      <td>19.964953</td>\n",
       "    </tr>\n",
       "    <tr>\n",
       "      <th>650</th>\n",
       "      <td>1.977785</td>\n",
       "      <td>0.005310</td>\n",
       "      <td>0.041570</td>\n",
       "      <td>25.524861</td>\n",
       "    </tr>\n",
       "    <tr>\n",
       "      <th>700</th>\n",
       "      <td>2.430073</td>\n",
       "      <td>0.006704</td>\n",
       "      <td>0.061302</td>\n",
       "      <td>30.222170</td>\n",
       "    </tr>\n",
       "    <tr>\n",
       "      <th>750</th>\n",
       "      <td>2.307392</td>\n",
       "      <td>0.004277</td>\n",
       "      <td>0.039319</td>\n",
       "      <td>39.429423</td>\n",
       "    </tr>\n",
       "  </tbody>\n",
       "</table>\n",
       "</div>"
      ],
      "text/plain": [
       "     Edge list  List of incidents  Neighborhood matrix  Incident matrix\n",
       "50    0.001135           0.000031             0.000207         0.010603\n",
       "100   0.005285           0.000083             0.000658         0.079629\n",
       "150   0.019916           0.000164             0.001485         0.268844\n",
       "200   0.042554           0.000259             0.002520         0.700033\n",
       "250   0.081707           0.000404             0.004495         1.409152\n",
       "300   0.237593           0.001299             0.011290         2.466107\n",
       "350   0.253796           0.000783             0.007944         3.994951\n",
       "400   0.412834           0.001170             0.012194         5.759825\n",
       "450   0.526424           0.001317             0.013588         8.621401\n",
       "500   0.662235           0.001604             0.016812        11.570798\n",
       "550   0.979230           0.001942             0.020651        15.356822\n",
       "600   1.142115           0.002646             0.024257        19.964953\n",
       "650   1.977785           0.005310             0.041570        25.524861\n",
       "700   2.430073           0.006704             0.061302        30.222170\n",
       "750   2.307392           0.004277             0.039319        39.429423"
      ]
     },
     "execution_count": 56,
     "metadata": {},
     "output_type": "execute_result"
    }
   ],
   "source": [
    "TopoSort_df "
   ]
  },
  {
   "cell_type": "markdown",
   "metadata": {},
   "source": [
    "#### 4.7 Topological Sort running times comparison"
   ]
  },
  {
   "cell_type": "code",
   "execution_count": 57,
   "metadata": {},
   "outputs": [
    {
     "data": {
      "image/png": "[encoded data removed]",
      "text/plain": [
       "<Figure size 720x504 with 1 Axes>"
      ]
     },
     "metadata": {
      "needs_background": "light"
     },
     "output_type": "display_data"
    }
   ],
   "source": [
    "plt.figure(figsize=(10,7))\n",
    "sns.lineplot(data=TopoSort_df)\n",
    "plt.xlabel('n')\n",
    "plt.ylabel('t')\n",
    "#plt.yscale('log')\n",
    "plt.title('Time comparison of single element search for different graph representations, log transformed y-axis')\n",
    "plt.show()"
   ]
  },
  {
   "cell_type": "markdown",
   "metadata": {},
   "source": [
    "## Conclusions on the effectiveness of each representation"
   ]
  },
  {
   "cell_type": "markdown",
   "metadata": {},
   "source": [
    "Fastest methods of finding if there exists an edge are neighborhood (adjacency) matrix and list of incidents (adjacency list). Adjacency list is faster when looking for adjacent verticies - because it is as simple, as reading the list. Adjacency matrix demands going through entire row (time proportional to the number of verticies in graph). When it comes to testing if there exists an edge beween given pair of nodes, in adjacency matrix it can be done by checking if specific position in 2d matrix is 1 or 0 (in undirected, unweighted graphs) - time complexity O(constant time). In adjacency list it demands looking for the specific edge number in list of all edges of selected element of a given pair - time complexity O(number of edges)\n",
    "\n",
    "Time complexity of edge list and incident matrix is comparable, but much worse than two, previously derscibed methods. Edgle list is just a simple matrix - searching through it coasts as much as looping through a simple list O(number of edges). Incident matrix at a first glance looks similar to adjacency matrix, but in fact it is relatively slow - we first select two elements of the matrix and then loop throug these elements to find 1 at the same position (for undirected, unwaighted graph). Time complexity is 0(number of edges)\n",
    "\n",
    "I didin't wanted to choose one representation for Topological Search, that is why I used all 4 representations. As we can see List of incidents performs the best, Neighborhood matrix has quite similar performance. Taking into consideration both, the Topological Search speed and high performance in finding edges, if I were to choose one alogirthm, I would pick the list of incidents.Its construction is fairly understandable, easy to implement and has decent performance. Its performance are proven mathematically - it takes only O(number of verticies + number of edges) to represent graph; time complexity for checking adacency is O(V). The only remark of that representation is its time to remove vertex, because it needs time to find all adjacent verticies. According to Wikipedia, it is preferred to use list of incidents when representing graph with few edges (and in our case, the amount of edges is around 30%). For dense graphs (example with dense of 60%) neighborhood matrix is preferred"
   ]
  }
 ],
 "metadata": {
  "kernelspec": {
   "display_name": "Python 3",
   "language": "python",
   "name": "python3"
  },
  "language_info": {
   "codemirror_mode": {
    "name": "ipython",
    "version": 3
   },
   "file_extension": ".py",
   "mimetype": "text/x-python",
   "name": "python",
   "nbconvert_exporter": "python",
   "pygments_lexer": "ipython3",
   "version": "3.7.3"
  }
 },
 "nbformat": 4,
 "nbformat_minor": 2
}
