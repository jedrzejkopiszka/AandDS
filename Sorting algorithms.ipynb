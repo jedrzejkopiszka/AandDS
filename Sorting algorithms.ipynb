{
 "cells": [
  {
   "cell_type": "markdown",
   "metadata": {},
   "source": [
    "# Sorting algorithms report for AandDS - report no. 1\n",
    "by Jędrzej Kopiszka, 145304 2. sem of Artificial Intelligence (2020)"
   ]
  },
  {
   "cell_type": "markdown",
   "metadata": {},
   "source": [
    "## Algorithms implementation"
   ]
  },
  {
   "cell_type": "markdown",
   "metadata": {},
   "source": [
    "### 1. Bubble Sort"
   ]
  },
  {
   "cell_type": "code",
   "execution_count": 1,
   "metadata": {},
   "outputs": [],
   "source": [
    "def bubble_sort(elements):\n",
    "    n=0\n",
    "    for i in range(len(elements)-n):\n",
    "        for j in range(len(elements)-1):\n",
    "            if elements[j]>elements[j+1]:\n",
    "                elements[j+1],elements[j] = elements[j], elements[j+1]\n",
    "                n+=1\n",
    "    return elements\n"
   ]
  },
  {
   "cell_type": "markdown",
   "metadata": {},
   "source": [
    "### 2. Heap sort"
   ]
  },
  {
   "cell_type": "code",
   "execution_count": 2,
   "metadata": {},
   "outputs": [],
   "source": [
    "def heapify(arr, n, i): \n",
    "    largest = i # Initialize largest as root \n",
    "    l = 2 * i + 1     # left = 2*i + 1 \n",
    "    r = 2 * i + 2     # right = 2*i + 2 \n",
    "  \n",
    "    # See if left child of root exists and is \n",
    "    # greater than root \n",
    "    if l < n and arr[i] < arr[l]: \n",
    "        largest = l \n",
    "  \n",
    "    # See if right child of root exists and is \n",
    "    # greater than root \n",
    "    if r < n and arr[largest] < arr[r]: \n",
    "        largest = r \n",
    "  \n",
    "    # Change root, if needed \n",
    "    if largest != i: \n",
    "        arr[i],arr[largest] = arr[largest],arr[i] # swap \n",
    "  \n",
    "        # Heapify the root. \n",
    "        heapify(arr, n, largest) \n",
    "  \n",
    "# The main function to sort an array of given size \n",
    "def heapSort(arr): \n",
    "    n = len(arr) \n",
    "  \n",
    "    # Build a maxheap. \n",
    "    for i in range(n, -1, -1): \n",
    "        heapify(arr, n, i) \n",
    "  \n",
    "    # One by one extract elements \n",
    "    for i in range(n-1, 0, -1): \n",
    "        arr[i], arr[0] = arr[0], arr[i] # swap \n",
    "        heapify(arr, i, 0)"
   ]
  },
  {
   "cell_type": "code",
   "execution_count": 3,
   "metadata": {},
   "outputs": [
    {
     "data": {
      "text/plain": [
       "[1, 2, 3, 4]"
      ]
     },
     "execution_count": 3,
     "metadata": {},
     "output_type": "execute_result"
    }
   ],
   "source": [
    "a=[1,4,2,3]\n",
    "heapSort(a)\n",
    "a"
   ]
  },
  {
   "cell_type": "markdown",
   "metadata": {},
   "source": [
    "### 3. Counting Sort"
   ]
  },
  {
   "cell_type": "code",
   "execution_count": 4,
   "metadata": {},
   "outputs": [],
   "source": [
    "def countSort(arr): \n",
    "  \n",
    "    # The output character array that will have sorted arr \n",
    "    output = [0 for i in range(1602)] \n",
    "  \n",
    "    # Create a count array to store count of inidividul \n",
    "    # characters and initialize count array as 0 \n",
    "    count = [0 for i in range(1602)] \n",
    "  \n",
    "    # For storing the resulting answer since the  \n",
    "    # string is immutable \n",
    "    ans = [\"\" for _ in arr] \n",
    "  \n",
    "    # Store count of each character \n",
    "    for i in arr: \n",
    "        count[int(i)] += 1\n",
    "  \n",
    "    # Change count[i] so that count[i] now contains actual \n",
    "    # position of this character in output array \n",
    "    for i in range(1602): \n",
    "        count[i] += count[i-1] \n",
    "  \n",
    "    # Build the output character array \n",
    "    for i in range(len(arr)): \n",
    "        output[count[arr[i]]-1] = arr[i] \n",
    "        count[arr[i]] -= 1\n",
    "  \n",
    "    # Copy the output array to arr, so that arr now \n",
    "    # contains sorted characters \n",
    "    for i in range(len(arr)): \n",
    "        ans[i] = output[i] \n",
    "    return ans "
   ]
  },
  {
   "cell_type": "code",
   "execution_count": 5,
   "metadata": {
    "scrolled": true
   },
   "outputs": [
    {
     "data": {
      "text/plain": [
       "[0, 2, 2, 2, 3, 4, 4, 12, 12, 31, 32, 52, 212, 234, 343, 432, 654, 999, 1000]"
      ]
     },
     "execution_count": 5,
     "metadata": {},
     "output_type": "execute_result"
    }
   ],
   "source": [
    "countSort([52,31,3,12,212,2,2,2,4,0,12,4,654, 343,234, 432,32, 999, 1000])"
   ]
  },
  {
   "cell_type": "markdown",
   "metadata": {},
   "source": [
    "### 4. Shell Sort"
   ]
  },
  {
   "cell_type": "code",
   "execution_count": 6,
   "metadata": {},
   "outputs": [],
   "source": [
    "def shellSort(arr): \n",
    "  \n",
    "    # Start with a big gap, then reduce the gap \n",
    "    n = len(arr) \n",
    "    gap = int(n/2)\n",
    "  \n",
    "    # Do a gapped insertion sort for this gap size. \n",
    "    # The first gap elements a[0..gap-1] are already in gapped  \n",
    "    # order keep adding one more element until the entire array \n",
    "    # is gap sorted \n",
    "    while gap > 0: \n",
    "        for i in range(gap,n): \n",
    "  \n",
    "            # add a[i] to the elements that have been gap sorted \n",
    "            # save a[i] in temp and make a hole at position i \n",
    "            temp = arr[i] \n",
    "  \n",
    "            # shift earlier gap-sorted elements up until the correct \n",
    "            # location for a[i] is found \n",
    "            j = i \n",
    "            while  j >= gap and arr[j-gap] >temp: \n",
    "                arr[j] = arr[j-gap] \n",
    "                j -= gap \n",
    "  \n",
    "            # put temp (the original a[i]) in its correct location \n",
    "            arr[j] = temp \n",
    "        gap = int(gap/2)\n",
    "    return arr"
   ]
  },
  {
   "cell_type": "code",
   "execution_count": 7,
   "metadata": {},
   "outputs": [
    {
     "data": {
      "text/plain": [
       "[1, 2, 321, 1600]"
      ]
     },
     "execution_count": 7,
     "metadata": {},
     "output_type": "execute_result"
    }
   ],
   "source": [
    "shellSort([321,2,1,1600])"
   ]
  },
  {
   "cell_type": "markdown",
   "metadata": {},
   "source": [
    "### 5. Quick Sort"
   ]
  },
  {
   "cell_type": "code",
   "execution_count": 8,
   "metadata": {},
   "outputs": [],
   "source": [
    "def quick_sort(array):\n",
    "    less = []\n",
    "    equal = []\n",
    "    greater = []\n",
    "\n",
    "    if len(array) > 1:\n",
    "        pivot = array[0]\n",
    "        for x in array:\n",
    "            if x < pivot:\n",
    "                less.append(x)\n",
    "            elif x == pivot:\n",
    "                equal.append(x)\n",
    "            elif x > pivot:\n",
    "                greater.append(x)\n",
    "        # Don't forget to return something!\n",
    "        return quick_sort(less)+equal+quick_sort(greater)  # Just use the + operator to join lists\n",
    "    # Note that you want equal ^^^^^ not pivot\n",
    "    else:  # You need to handle the part at the end of the recursion - when you only have one element in your array, just return the array.\n",
    "        return array"
   ]
  },
  {
   "cell_type": "code",
   "execution_count": 9,
   "metadata": {},
   "outputs": [
    {
     "data": {
      "text/plain": [
       "[1, 2, 3, 5, 7]"
      ]
     },
     "execution_count": 9,
     "metadata": {},
     "output_type": "execute_result"
    }
   ],
   "source": [
    "quick_sort([3,2,1,7,5])"
   ]
  },
  {
   "cell_type": "markdown",
   "metadata": {},
   "source": [
    "### 6. Merge Sort"
   ]
  },
  {
   "cell_type": "code",
   "execution_count": 10,
   "metadata": {},
   "outputs": [],
   "source": [
    "# Python program for implementation of MergeSort \n",
    "def mergeSort(arr): \n",
    "    if len(arr) >1: \n",
    "        mid = len(arr)//2 #Finding the mid of the array \n",
    "        L = arr[:mid] # Dividing the array elements  \n",
    "        R = arr[mid:] # into 2 halves \n",
    "  \n",
    "        mergeSort(L) # Sorting the first half \n",
    "        mergeSort(R) # Sorting the second half \n",
    "  \n",
    "        i = j = k = 0\n",
    "          \n",
    "        # Copy data to temp arrays L[] and R[] \n",
    "        while i < len(L) and j < len(R): \n",
    "            if L[i] < R[j]: \n",
    "                arr[k] = L[i] \n",
    "                i+=1\n",
    "            else: \n",
    "                arr[k] = R[j] \n",
    "                j+=1\n",
    "            k+=1\n",
    "          \n",
    "        # Checking if any element was left \n",
    "        while i < len(L): \n",
    "            arr[k] = L[i] \n",
    "            i+=1\n",
    "            k+=1\n",
    "          \n",
    "        while j < len(R): \n",
    "            arr[k] = R[j] \n",
    "            j+=1\n",
    "            k+=1\n",
    "    return arr\n"
   ]
  },
  {
   "cell_type": "code",
   "execution_count": 11,
   "metadata": {},
   "outputs": [
    {
     "data": {
      "text/plain": [
       "[1, 2, 21, 43, 43, 56, 121, 232, 432, 987]"
      ]
     },
     "execution_count": 11,
     "metadata": {},
     "output_type": "execute_result"
    }
   ],
   "source": [
    "mergeSort([432,987, 43,232,56,43,21,1,2,121]) "
   ]
  },
  {
   "cell_type": "markdown",
   "metadata": {},
   "source": [
    "## Exercise I.1\n",
    "compare speed of BS, HS, CS, ShS using randomly generated integers\n",
    "submit a chart t=f(n)"
   ]
  },
  {
   "cell_type": "code",
   "execution_count": 12,
   "metadata": {},
   "outputs": [],
   "source": [
    "import time  # library fro time measuring \n",
    "import copy # deepcpy for equal data distribution\n",
    "from numpy import random #generating random numbers according to uniform probability distrib\n",
    "import numpy as np #numpy for np.nan where computation cannot be done\n",
    "import pandas as pd # DataFrame for easier data handling\n",
    "import seaborn as sns  # library for visual aids\n",
    "import matplotlib.pyplot as plt  # library for visual aids"
   ]
  },
  {
   "cell_type": "code",
   "execution_count": 15,
   "metadata": {
    "scrolled": false
   },
   "outputs": [
    {
     "data": {
      "text/html": [
       "<div>\n",
       "<style scoped>\n",
       "    .dataframe tbody tr th:only-of-type {\n",
       "        vertical-align: middle;\n",
       "    }\n",
       "\n",
       "    .dataframe tbody tr th {\n",
       "        vertical-align: top;\n",
       "    }\n",
       "\n",
       "    .dataframe thead th {\n",
       "        text-align: right;\n",
       "    }\n",
       "</style>\n",
       "<table border=\"1\" class=\"dataframe\">\n",
       "  <thead>\n",
       "    <tr style=\"text-align: right;\">\n",
       "      <th></th>\n",
       "      <th>Bubble Sort</th>\n",
       "      <th>Heap Sort</th>\n",
       "      <th>Count Sort</th>\n",
       "      <th>Shell Sort</th>\n",
       "    </tr>\n",
       "  </thead>\n",
       "  <tbody>\n",
       "    <tr>\n",
       "      <th>100</th>\n",
       "      <td>0.000998</td>\n",
       "      <td>0.000812</td>\n",
       "      <td>0.000183</td>\n",
       "      <td>0.000000</td>\n",
       "    </tr>\n",
       "    <tr>\n",
       "      <th>200</th>\n",
       "      <td>0.004680</td>\n",
       "      <td>0.000000</td>\n",
       "      <td>0.000000</td>\n",
       "      <td>0.001031</td>\n",
       "    </tr>\n",
       "    <tr>\n",
       "      <th>300</th>\n",
       "      <td>0.014945</td>\n",
       "      <td>0.001984</td>\n",
       "      <td>0.000999</td>\n",
       "      <td>0.001999</td>\n",
       "    </tr>\n",
       "    <tr>\n",
       "      <th>400</th>\n",
       "      <td>0.016915</td>\n",
       "      <td>0.002031</td>\n",
       "      <td>0.000000</td>\n",
       "      <td>0.000997</td>\n",
       "    </tr>\n",
       "    <tr>\n",
       "      <th>500</th>\n",
       "      <td>0.029923</td>\n",
       "      <td>0.000998</td>\n",
       "      <td>0.000995</td>\n",
       "      <td>0.001001</td>\n",
       "    </tr>\n",
       "    <tr>\n",
       "      <th>600</th>\n",
       "      <td>0.040856</td>\n",
       "      <td>0.006980</td>\n",
       "      <td>0.001995</td>\n",
       "      <td>0.003989</td>\n",
       "    </tr>\n",
       "    <tr>\n",
       "      <th>700</th>\n",
       "      <td>0.060837</td>\n",
       "      <td>0.002993</td>\n",
       "      <td>0.000000</td>\n",
       "      <td>0.002993</td>\n",
       "    </tr>\n",
       "    <tr>\n",
       "      <th>800</th>\n",
       "      <td>0.098845</td>\n",
       "      <td>0.003028</td>\n",
       "      <td>0.000998</td>\n",
       "      <td>0.001994</td>\n",
       "    </tr>\n",
       "    <tr>\n",
       "      <th>900</th>\n",
       "      <td>0.095709</td>\n",
       "      <td>0.003025</td>\n",
       "      <td>0.000996</td>\n",
       "      <td>0.001996</td>\n",
       "    </tr>\n",
       "    <tr>\n",
       "      <th>1000</th>\n",
       "      <td>0.124779</td>\n",
       "      <td>0.003989</td>\n",
       "      <td>0.000999</td>\n",
       "      <td>0.001998</td>\n",
       "    </tr>\n",
       "    <tr>\n",
       "      <th>1100</th>\n",
       "      <td>0.148639</td>\n",
       "      <td>0.005157</td>\n",
       "      <td>0.000000</td>\n",
       "      <td>0.002976</td>\n",
       "    </tr>\n",
       "    <tr>\n",
       "      <th>1200</th>\n",
       "      <td>0.180481</td>\n",
       "      <td>0.004987</td>\n",
       "      <td>0.000997</td>\n",
       "      <td>0.003991</td>\n",
       "    </tr>\n",
       "    <tr>\n",
       "      <th>1300</th>\n",
       "      <td>0.212464</td>\n",
       "      <td>0.004984</td>\n",
       "      <td>0.000998</td>\n",
       "      <td>0.003993</td>\n",
       "    </tr>\n",
       "    <tr>\n",
       "      <th>1400</th>\n",
       "      <td>0.254316</td>\n",
       "      <td>0.004956</td>\n",
       "      <td>0.001028</td>\n",
       "      <td>0.003989</td>\n",
       "    </tr>\n",
       "    <tr>\n",
       "      <th>1500</th>\n",
       "      <td>0.303201</td>\n",
       "      <td>0.005985</td>\n",
       "      <td>0.000000</td>\n",
       "      <td>0.003986</td>\n",
       "    </tr>\n",
       "    <tr>\n",
       "      <th>1600</th>\n",
       "      <td>0.423558</td>\n",
       "      <td>0.006953</td>\n",
       "      <td>0.001032</td>\n",
       "      <td>0.004981</td>\n",
       "    </tr>\n",
       "  </tbody>\n",
       "</table>\n",
       "</div>"
      ],
      "text/plain": [
       "      Bubble Sort  Heap Sort  Count Sort  Shell Sort\n",
       "100      0.000998   0.000812    0.000183    0.000000\n",
       "200      0.004680   0.000000    0.000000    0.001031\n",
       "300      0.014945   0.001984    0.000999    0.001999\n",
       "400      0.016915   0.002031    0.000000    0.000997\n",
       "500      0.029923   0.000998    0.000995    0.001001\n",
       "600      0.040856   0.006980    0.001995    0.003989\n",
       "700      0.060837   0.002993    0.000000    0.002993\n",
       "800      0.098845   0.003028    0.000998    0.001994\n",
       "900      0.095709   0.003025    0.000996    0.001996\n",
       "1000     0.124779   0.003989    0.000999    0.001998\n",
       "1100     0.148639   0.005157    0.000000    0.002976\n",
       "1200     0.180481   0.004987    0.000997    0.003991\n",
       "1300     0.212464   0.004984    0.000998    0.003993\n",
       "1400     0.254316   0.004956    0.001028    0.003989\n",
       "1500     0.303201   0.005985    0.000000    0.003986\n",
       "1600     0.423558   0.006953    0.001032    0.004981"
      ]
     },
     "execution_count": 15,
     "metadata": {},
     "output_type": "execute_result"
    }
   ],
   "source": [
    "time_dict={}\n",
    "\n",
    "for i in range(100, 1600+1, 100):\n",
    "    #creating datasets\n",
    "    randoms=[]\n",
    "    for j in range(i):\n",
    "        randoms.append(int(random.uniform(1000)))\n",
    "        \n",
    "    buble_rand = copy.deepcopy(randoms) \n",
    "    heap_rand = copy.deepcopy(randoms)\n",
    "    count_rand = copy.deepcopy(randoms)\n",
    "    shell_rand = copy.deepcopy(randoms)\n",
    "    \n",
    "    #bubble sort time measuring\n",
    "    start = time.time()\n",
    "    bubble_sort(buble_rand)\n",
    "    end = time.time()\n",
    "    time_dict[i]=[end-start]\n",
    "    \n",
    "    #heap sort time measuring\n",
    "    start = time.time()\n",
    "    heapSort(heap_rand)\n",
    "    end = time.time()\n",
    "    time_dict[i].append(end-start)\n",
    "    \n",
    "    #count sort time measuring\n",
    "    start = time.time()\n",
    "    countSort(count_rand)\n",
    "    end = time.time()\n",
    "    time_dict[i].append(end-start)\n",
    "    \n",
    "    #shell sort \n",
    "    start = time.time()\n",
    "    shellSort(shell_rand)\n",
    "    end = time.time()\n",
    "    time_dict[i].append(end-start)\n",
    "    \n",
    "time_df = pd.DataFrame.from_dict(orient='index', \\\n",
    "                                 data=time_dict, columns=['Bubble Sort', 'Heap Sort', 'Count Sort', 'Shell Sort'])\n",
    "time_df"
   ]
  },
  {
   "cell_type": "code",
   "execution_count": 14,
   "metadata": {},
   "outputs": [
    {
     "data": {
      "text/plain": [
       "Text(0, 0.5, 't = f(n)')"
      ]
     },
     "execution_count": 14,
     "metadata": {},
     "output_type": "execute_result"
    },
    {
     "data": {
      "image/png": "[encoded data removed]",
      "text/plain": [
       "<Figure size 576x576 with 1 Axes>"
      ]
     },
     "metadata": {
      "needs_background": "light"
     },
     "output_type": "display_data"
    }
   ],
   "source": [
    "plt.figure(figsize=(8,8))\n",
    "sns.lineplot(data=time_df)\n",
    "plt.yscale('log')\n",
    "plt.title('Sorting time comparison for 4 sorting algorithms, log transformed y-axis')\n",
    "plt.xlabel('n')\n",
    "plt.ylabel('t = f(n)')"
   ]
  },
  {
   "cell_type": "markdown",
   "metadata": {},
   "source": [
    "## Exercise I.2\n",
    "II.1.For different input types compare the effectiveness of 3 sorting algorithms.\n",
    "a)QS with middle selected pivot, b) HS and c) MS. Examine the performance for the following data types of the sequence:\n",
    "- random (uniform distribution)\n",
    "- constant value (e.g.equal to 0)\n",
    "- increasing order (step equal to 1)\n",
    "- descending order (step equal to 1)\n",
    "- ascending-descending order (A shape – increase odd numbers - decrease even)\n",
    "- descending-ascending order (V -shape – decrease odd numbers - increase even"
   ]
  },
  {
   "cell_type": "markdown",
   "metadata": {},
   "source": [
    "#### Random distribution of data"
   ]
  },
  {
   "cell_type": "code",
   "execution_count": 340,
   "metadata": {
    "scrolled": true
   },
   "outputs": [
    {
     "data": {
      "text/html": [
       "<div>\n",
       "<style scoped>\n",
       "    .dataframe tbody tr th:only-of-type {\n",
       "        vertical-align: middle;\n",
       "    }\n",
       "\n",
       "    .dataframe tbody tr th {\n",
       "        vertical-align: top;\n",
       "    }\n",
       "\n",
       "    .dataframe thead th {\n",
       "        text-align: right;\n",
       "    }\n",
       "</style>\n",
       "<table border=\"1\" class=\"dataframe\">\n",
       "  <thead>\n",
       "    <tr style=\"text-align: right;\">\n",
       "      <th></th>\n",
       "      <th>QuickS unif</th>\n",
       "      <th>HeapS unif</th>\n",
       "      <th>MergeS unif</th>\n",
       "    </tr>\n",
       "  </thead>\n",
       "  <tbody>\n",
       "    <tr>\n",
       "      <th>1000</th>\n",
       "      <td>0.001557</td>\n",
       "      <td>0.003452</td>\n",
       "      <td>0.002998</td>\n",
       "    </tr>\n",
       "    <tr>\n",
       "      <th>2000</th>\n",
       "      <td>0.002992</td>\n",
       "      <td>0.007978</td>\n",
       "      <td>0.006981</td>\n",
       "    </tr>\n",
       "    <tr>\n",
       "      <th>3000</th>\n",
       "      <td>0.002992</td>\n",
       "      <td>0.013963</td>\n",
       "      <td>0.010971</td>\n",
       "    </tr>\n",
       "    <tr>\n",
       "      <th>4000</th>\n",
       "      <td>0.004987</td>\n",
       "      <td>0.018950</td>\n",
       "      <td>0.014960</td>\n",
       "    </tr>\n",
       "    <tr>\n",
       "      <th>5000</th>\n",
       "      <td>0.005984</td>\n",
       "      <td>0.024933</td>\n",
       "      <td>0.024936</td>\n",
       "    </tr>\n",
       "  </tbody>\n",
       "</table>\n",
       "</div>"
      ],
      "text/plain": [
       "      QuickS unif  HeapS unif  MergeS unif\n",
       "1000     0.001557    0.003452     0.002998\n",
       "2000     0.002992    0.007978     0.006981\n",
       "3000     0.002992    0.013963     0.010971\n",
       "4000     0.004987    0.018950     0.014960\n",
       "5000     0.005984    0.024933     0.024936"
      ]
     },
     "execution_count": 340,
     "metadata": {},
     "output_type": "execute_result"
    }
   ],
   "source": [
    "time_uniform = {}\n",
    "\n",
    "for n in range(1000, 16001, 1000):\n",
    "    uniform_distr=[]\n",
    "    for j in range(n):\n",
    "        uniform_distr.append(int(random.uniform(1000)))\n",
    "        \n",
    "    quick_uni = copy.deepcopy(uniform_distr)\n",
    "    heap_uni = copy.deepcopy(uniform_distr)\n",
    "    merge_ui = copy.deepcopy(uniform_distr)\n",
    "    \n",
    "    #quick sort time measurement for random data according to uniform distribution\n",
    "    start = time.time()\n",
    "    quick_sort(quick_uni)\n",
    "    end = time.time()\n",
    "    time_uniform[n] = [end-start]\n",
    "    \n",
    "    #heap sort time measurement \n",
    "    start = time.time()\n",
    "    heapSort(heap_uni)\n",
    "    end = time.time()\n",
    "    time_uniform[n].append(end-start)\n",
    "    \n",
    "    #merge sort time measurement\n",
    "    start = time.time()\n",
    "    mergeSort(merge_ui)\n",
    "    end = time.time()\n",
    "    time_uniform[n].append(end-start)\n",
    "    \n",
    "time_uniform_df = pd.DataFrame.from_dict(orient='index', \\\n",
    "                                 data=time_uniform, columns=['QuickS unif', 'HeapS unif', 'MergeS unif'])\n",
    "time_uniform_df.head()"
   ]
  },
  {
   "cell_type": "code",
   "execution_count": 301,
   "metadata": {},
   "outputs": [
    {
     "data": {
      "text/plain": [
       "Text(0.5, 1.0, 'Time comparison on randomly generated data (uniformly distributed)')"
      ]
     },
     "execution_count": 301,
     "metadata": {},
     "output_type": "execute_result"
    },
    {
     "data": {
      "image/png": "[encoded data removed]",
      "text/plain": [
       "<Figure size 432x288 with 1 Axes>"
      ]
     },
     "metadata": {
      "needs_background": "light"
     },
     "output_type": "display_data"
    }
   ],
   "source": [
    "sns.lineplot(data=time_uniform_df)\n",
    "plt.xlabel('n')\n",
    "plt.ylabel('t')\n",
    "plt.title(\"Time comparison on randomly generated data (uniformly distributed)\")"
   ]
  },
  {
   "cell_type": "markdown",
   "metadata": {},
   "source": [
    "#### Constant value data"
   ]
  },
  {
   "cell_type": "code",
   "execution_count": 342,
   "metadata": {
    "scrolled": true
   },
   "outputs": [
    {
     "data": {
      "text/html": [
       "<div>\n",
       "<style scoped>\n",
       "    .dataframe tbody tr th:only-of-type {\n",
       "        vertical-align: middle;\n",
       "    }\n",
       "\n",
       "    .dataframe tbody tr th {\n",
       "        vertical-align: top;\n",
       "    }\n",
       "\n",
       "    .dataframe thead th {\n",
       "        text-align: right;\n",
       "    }\n",
       "</style>\n",
       "<table border=\"1\" class=\"dataframe\">\n",
       "  <thead>\n",
       "    <tr style=\"text-align: right;\">\n",
       "      <th></th>\n",
       "      <th>QuickS const</th>\n",
       "      <th>HeapS const</th>\n",
       "      <th>MergeS const</th>\n",
       "    </tr>\n",
       "  </thead>\n",
       "  <tbody>\n",
       "    <tr>\n",
       "      <th>1000</th>\n",
       "      <td>0.000000</td>\n",
       "      <td>0.000997</td>\n",
       "      <td>0.002967</td>\n",
       "    </tr>\n",
       "    <tr>\n",
       "      <th>2000</th>\n",
       "      <td>0.000000</td>\n",
       "      <td>0.002024</td>\n",
       "      <td>0.006158</td>\n",
       "    </tr>\n",
       "    <tr>\n",
       "      <th>3000</th>\n",
       "      <td>0.000000</td>\n",
       "      <td>0.001976</td>\n",
       "      <td>0.010972</td>\n",
       "    </tr>\n",
       "    <tr>\n",
       "      <th>4000</th>\n",
       "      <td>0.001009</td>\n",
       "      <td>0.002988</td>\n",
       "      <td>0.012932</td>\n",
       "    </tr>\n",
       "    <tr>\n",
       "      <th>5000</th>\n",
       "      <td>0.000000</td>\n",
       "      <td>0.004024</td>\n",
       "      <td>0.016955</td>\n",
       "    </tr>\n",
       "  </tbody>\n",
       "</table>\n",
       "</div>"
      ],
      "text/plain": [
       "      QuickS const  HeapS const  MergeS const\n",
       "1000      0.000000     0.000997      0.002967\n",
       "2000      0.000000     0.002024      0.006158\n",
       "3000      0.000000     0.001976      0.010972\n",
       "4000      0.001009     0.002988      0.012932\n",
       "5000      0.000000     0.004024      0.016955"
      ]
     },
     "execution_count": 342,
     "metadata": {},
     "output_type": "execute_result"
    }
   ],
   "source": [
    "time_constant_dic={}\n",
    "\n",
    "for n in range(1000, 16001, 1000):\n",
    "    constant_data=[0 for i in range(n)]\n",
    "    \n",
    "    start = time.time()\n",
    "    quick_sort(constant_data)\n",
    "    end = time.time()\n",
    "    time_constant_dic[n] = [end-start]\n",
    "    \n",
    "    start = time.time()\n",
    "    heapSort(constant_data)\n",
    "    end = time.time()\n",
    "    time_constant_dic[n].append(end-start)\n",
    "    \n",
    "    start = time.time()\n",
    "    mergeSort(constant_data)\n",
    "    end = time.time()\n",
    "    time_constant_dic[n].append(end-start)\n",
    "    \n",
    "time_constant_df = pd.DataFrame.from_dict(data=time_constant_dic, orient='index', \\\n",
    "                                              columns=['QuickS const', 'HeapS const', 'MergeS const'])\n",
    "    \n",
    "time_constant_df.head()"
   ]
  },
  {
   "cell_type": "code",
   "execution_count": 303,
   "metadata": {},
   "outputs": [
    {
     "data": {
      "text/plain": [
       "Text(0.5, 1.0, 'Time comparison for data with only constant value')"
      ]
     },
     "execution_count": 303,
     "metadata": {},
     "output_type": "execute_result"
    },
    {
     "data": {
      "image/png": "[encoded data removed]",
      "text/plain": [
       "<Figure size 432x288 with 1 Axes>"
      ]
     },
     "metadata": {
      "needs_background": "light"
     },
     "output_type": "display_data"
    }
   ],
   "source": [
    "sns.lineplot(data=time_constant_df)\n",
    "plt.xlabel('n')\n",
    "plt.ylabel('t')\n",
    "plt.title('Time comparison for data with only constant value')"
   ]
  },
  {
   "cell_type": "code",
   "execution_count": 344,
   "metadata": {},
   "outputs": [
    {
     "data": {
      "text/plain": [
       "Text(0, 0.5, 't')"
      ]
     },
     "execution_count": 344,
     "metadata": {},
     "output_type": "execute_result"
    },
    {
     "data": {
      "image/png": "[encoded data removed]",
      "text/plain": [
       "<Figure size 576x576 with 1 Axes>"
      ]
     },
     "metadata": {
      "needs_background": "light"
     },
     "output_type": "display_data"
    }
   ],
   "source": [
    "plt.figure(figsize=(8,8))\n",
    "sns.lineplot(data=time_uniform_df, palette=sns.light_palette('green', n_colors=3))\n",
    "sns.lineplot(data=time_constant_df, style='choice', palette=sns.dark_palette('blue', n_colors=3))\n",
    "plt.title('Comparison of 3 sorting methods used on differently generated data sets')\n",
    "plt.xlabel('n')\n",
    "plt.ylabel('t')"
   ]
  },
  {
   "cell_type": "markdown",
   "metadata": {},
   "source": [
    "#### Increasing order"
   ]
  },
  {
   "cell_type": "code",
   "execution_count": 345,
   "metadata": {},
   "outputs": [
    {
     "data": {
      "text/html": [
       "<div>\n",
       "<style scoped>\n",
       "    .dataframe tbody tr th:only-of-type {\n",
       "        vertical-align: middle;\n",
       "    }\n",
       "\n",
       "    .dataframe tbody tr th {\n",
       "        vertical-align: top;\n",
       "    }\n",
       "\n",
       "    .dataframe thead th {\n",
       "        text-align: right;\n",
       "    }\n",
       "</style>\n",
       "<table border=\"1\" class=\"dataframe\">\n",
       "  <thead>\n",
       "    <tr style=\"text-align: right;\">\n",
       "      <th></th>\n",
       "      <th>QuickS incr</th>\n",
       "      <th>HeapS incr</th>\n",
       "      <th>MergeS incr</th>\n",
       "    </tr>\n",
       "  </thead>\n",
       "  <tbody>\n",
       "    <tr>\n",
       "      <th>1000</th>\n",
       "      <td>0.058851</td>\n",
       "      <td>0.003992</td>\n",
       "      <td>0.002986</td>\n",
       "    </tr>\n",
       "    <tr>\n",
       "      <th>2000</th>\n",
       "      <td>0.237390</td>\n",
       "      <td>0.008977</td>\n",
       "      <td>0.004982</td>\n",
       "    </tr>\n",
       "    <tr>\n",
       "      <th>3000</th>\n",
       "      <td>NaN</td>\n",
       "      <td>0.014963</td>\n",
       "      <td>0.008978</td>\n",
       "    </tr>\n",
       "    <tr>\n",
       "      <th>4000</th>\n",
       "      <td>NaN</td>\n",
       "      <td>0.018949</td>\n",
       "      <td>0.012966</td>\n",
       "    </tr>\n",
       "    <tr>\n",
       "      <th>5000</th>\n",
       "      <td>NaN</td>\n",
       "      <td>0.024932</td>\n",
       "      <td>0.015957</td>\n",
       "    </tr>\n",
       "  </tbody>\n",
       "</table>\n",
       "</div>"
      ],
      "text/plain": [
       "      QuickS incr  HeapS incr  MergeS incr\n",
       "1000     0.058851    0.003992     0.002986\n",
       "2000     0.237390    0.008977     0.004982\n",
       "3000          NaN    0.014963     0.008978\n",
       "4000          NaN    0.018949     0.012966\n",
       "5000          NaN    0.024932     0.015957"
      ]
     },
     "execution_count": 345,
     "metadata": {},
     "output_type": "execute_result"
    }
   ],
   "source": [
    "time_increasing_dict={}\n",
    "\n",
    "for n in range(1000, 16001, 1000):\n",
    "    \n",
    "    increasing_rand=[j for j in range(n)]\n",
    "    \n",
    "    if n < 2500:\n",
    "        start = time.time()\n",
    "        quick_sort(increasing_rand)\n",
    "        end = time.time()\n",
    "        time_increasing_dict[n] = [end-start]\n",
    "    else:\n",
    "        time_increasing_dict[n] = [np.nan]\n",
    "    \n",
    "    start = time.time()\n",
    "    heapSort(increasing_rand)\n",
    "    end = time.time()\n",
    "    time_increasing_dict[n].append(end-start)\n",
    "    \n",
    "    start = time.time()\n",
    "    mergeSort(increasing_rand)\n",
    "    end = time.time()\n",
    "    time_increasing_dict[n].append(end-start)\n",
    "    \n",
    "time_increasing_df = pd.DataFrame.from_dict(data=time_increasing_dict, orient='index', \\\n",
    "                                              columns=['QuickS incr', 'HeapS incr', 'MergeS incr'])\n",
    "    \n",
    "time_increasing_df.head()"
   ]
  },
  {
   "cell_type": "code",
   "execution_count": 329,
   "metadata": {},
   "outputs": [
    {
     "data": {
      "text/plain": [
       "Text(0.5, 1.0, 'Time comparison for data generated in increasing order with step 1')"
      ]
     },
     "execution_count": 329,
     "metadata": {},
     "output_type": "execute_result"
    },
    {
     "data": {
      "image/png": "[encoded data removed]",
      "text/plain": [
       "<Figure size 432x288 with 1 Axes>"
      ]
     },
     "metadata": {
      "needs_background": "light"
     },
     "output_type": "display_data"
    }
   ],
   "source": [
    "sns.lineplot(data=time_increasing_df)\n",
    "plt.xlabel('n')\n",
    "plt.ylabel('t')\n",
    "plt.title('Time comparison for data generated in increasing order with step 1')"
   ]
  },
  {
   "cell_type": "markdown",
   "metadata": {},
   "source": [
    "Python interpreter cannot handle that amount of data due to 'maximum recursion depth exceeded' when using Quick Sort"
   ]
  },
  {
   "cell_type": "markdown",
   "metadata": {},
   "source": [
    "#### Descending order"
   ]
  },
  {
   "cell_type": "code",
   "execution_count": 356,
   "metadata": {
    "scrolled": false
   },
   "outputs": [
    {
     "data": {
      "text/html": [
       "<div>\n",
       "<style scoped>\n",
       "    .dataframe tbody tr th:only-of-type {\n",
       "        vertical-align: middle;\n",
       "    }\n",
       "\n",
       "    .dataframe tbody tr th {\n",
       "        vertical-align: top;\n",
       "    }\n",
       "\n",
       "    .dataframe thead th {\n",
       "        text-align: right;\n",
       "    }\n",
       "</style>\n",
       "<table border=\"1\" class=\"dataframe\">\n",
       "  <thead>\n",
       "    <tr style=\"text-align: right;\">\n",
       "      <th></th>\n",
       "      <th>QuickS desc</th>\n",
       "      <th>HeapS desc</th>\n",
       "      <th>MergeS desc</th>\n",
       "    </tr>\n",
       "  </thead>\n",
       "  <tbody>\n",
       "    <tr>\n",
       "      <th>1000</th>\n",
       "      <td>0.041899</td>\n",
       "      <td>0.003985</td>\n",
       "      <td>0.002998</td>\n",
       "    </tr>\n",
       "    <tr>\n",
       "      <th>2000</th>\n",
       "      <td>0.167551</td>\n",
       "      <td>0.008979</td>\n",
       "      <td>0.004990</td>\n",
       "    </tr>\n",
       "    <tr>\n",
       "      <th>3000</th>\n",
       "      <td>NaN</td>\n",
       "      <td>0.012142</td>\n",
       "      <td>0.009976</td>\n",
       "    </tr>\n",
       "    <tr>\n",
       "      <th>4000</th>\n",
       "      <td>NaN</td>\n",
       "      <td>0.019517</td>\n",
       "      <td>0.013537</td>\n",
       "    </tr>\n",
       "    <tr>\n",
       "      <th>5000</th>\n",
       "      <td>NaN</td>\n",
       "      <td>0.021942</td>\n",
       "      <td>0.015957</td>\n",
       "    </tr>\n",
       "  </tbody>\n",
       "</table>\n",
       "</div>"
      ],
      "text/plain": [
       "      QuickS desc  HeapS desc  MergeS desc\n",
       "1000     0.041899    0.003985     0.002998\n",
       "2000     0.167551    0.008979     0.004990\n",
       "3000          NaN    0.012142     0.009976\n",
       "4000          NaN    0.019517     0.013537\n",
       "5000          NaN    0.021942     0.015957"
      ]
     },
     "execution_count": 356,
     "metadata": {},
     "output_type": "execute_result"
    }
   ],
   "source": [
    "time_descending_dict={}\n",
    "\n",
    "for n in range(1000, 16001, 1000):\n",
    "    \n",
    "    descending_rand=[j for j in range(n,1,-1)]\n",
    "    \n",
    "    quick_desc = copy.deepcopy(descending_rand)\n",
    "    heap_desc = copy.deepcopy(descending_rand)\n",
    "    merge_desc = copy.deepcopy(descending_rand)\n",
    "    if n < 2500:\n",
    "        start = time.time()\n",
    "        quick_sort(quick_desc)\n",
    "        end = time.time()\n",
    "        time_descending_dict[n] = [end-start]\n",
    "    else:\n",
    "        time_descending_dict[n] = [np.nan]\n",
    "    \n",
    "    start = time.time()\n",
    "    heapSort(heap_desc)\n",
    "    end = time.time()\n",
    "    time_descending_dict[n].append(end-start)\n",
    "    \n",
    "    start = time.time()\n",
    "    mergeSort(merge_desc)\n",
    "    end = time.time()\n",
    "    time_descending_dict[n].append(end-start)\n",
    "    \n",
    "time_descending_df = pd.DataFrame.from_dict(data=time_descending_dict, orient='index', \\\n",
    "                                              columns=['QuickS desc', 'HeapS desc', 'MergeS desc'])\n",
    "    \n",
    "time_descending_df.head()"
   ]
  },
  {
   "cell_type": "code",
   "execution_count": 357,
   "metadata": {},
   "outputs": [
    {
     "data": {
      "text/plain": [
       "Text(0.5, 1.0, 'Time comparison for data generated in descending order with step -1')"
      ]
     },
     "execution_count": 357,
     "metadata": {},
     "output_type": "execute_result"
    },
    {
     "data": {
      "image/png": "[encoded data removed]",
      "text/plain": [
       "<Figure size 432x288 with 1 Axes>"
      ]
     },
     "metadata": {
      "needs_background": "light"
     },
     "output_type": "display_data"
    }
   ],
   "source": [
    "sns.lineplot(data=time_descending_df)\n",
    "plt.xlabel('n')\n",
    "plt.ylabel('t')\n",
    "plt.title('Time comparison for data generated in descending order with step -1')"
   ]
  },
  {
   "cell_type": "markdown",
   "metadata": {},
   "source": [
    "Python interpreter cannot handle that amount of data due to 'maximum recursion depth exceeded' when using Quick Sort"
   ]
  },
  {
   "cell_type": "code",
   "execution_count": 358,
   "metadata": {},
   "outputs": [
    {
     "data": {
      "text/plain": [
       "Text(0, 0.5, 't')"
      ]
     },
     "execution_count": 358,
     "metadata": {},
     "output_type": "execute_result"
    },
    {
     "data": {
      "image/png": "[encoded data removed]",
      "text/plain": [
       "<Figure size 576x576 with 1 Axes>"
      ]
     },
     "metadata": {
      "needs_background": "light"
     },
     "output_type": "display_data"
    }
   ],
   "source": [
    "plt.figure(figsize=(8,8))\n",
    "sns.lineplot(data=time_increasing_df, palette=sns.light_palette('green', n_colors=3))\n",
    "sns.lineplot(data=time_descending_df, palette=sns.dark_palette('blue', n_colors=3))\n",
    "plt.title('Comparison of 3 sorting methods used on differently generated data sets')\n",
    "plt.xlabel('n')\n",
    "plt.ylabel('t')"
   ]
  },
  {
   "cell_type": "markdown",
   "metadata": {},
   "source": [
    "#### A-shaped data "
   ]
  },
  {
   "cell_type": "code",
   "execution_count": 365,
   "metadata": {},
   "outputs": [
    {
     "data": {
      "text/html": [
       "<div>\n",
       "<style scoped>\n",
       "    .dataframe tbody tr th:only-of-type {\n",
       "        vertical-align: middle;\n",
       "    }\n",
       "\n",
       "    .dataframe tbody tr th {\n",
       "        vertical-align: top;\n",
       "    }\n",
       "\n",
       "    .dataframe thead th {\n",
       "        text-align: right;\n",
       "    }\n",
       "</style>\n",
       "<table border=\"1\" class=\"dataframe\">\n",
       "  <thead>\n",
       "    <tr style=\"text-align: right;\">\n",
       "      <th></th>\n",
       "      <th>QuickS. A_shape</th>\n",
       "      <th>HeapS. A_shape</th>\n",
       "      <th>MergeS. A_shape</th>\n",
       "    </tr>\n",
       "  </thead>\n",
       "  <tbody>\n",
       "    <tr>\n",
       "      <th>1000</th>\n",
       "      <td>0.097738</td>\n",
       "      <td>0.008973</td>\n",
       "      <td>0.006988</td>\n",
       "    </tr>\n",
       "    <tr>\n",
       "      <th>2000</th>\n",
       "      <td>0.385847</td>\n",
       "      <td>0.018945</td>\n",
       "      <td>0.014964</td>\n",
       "    </tr>\n",
       "    <tr>\n",
       "      <th>3000</th>\n",
       "      <td>NaN</td>\n",
       "      <td>0.029918</td>\n",
       "      <td>0.022941</td>\n",
       "    </tr>\n",
       "    <tr>\n",
       "      <th>4000</th>\n",
       "      <td>NaN</td>\n",
       "      <td>0.041887</td>\n",
       "      <td>0.031909</td>\n",
       "    </tr>\n",
       "    <tr>\n",
       "      <th>5000</th>\n",
       "      <td>NaN</td>\n",
       "      <td>0.054837</td>\n",
       "      <td>0.040887</td>\n",
       "    </tr>\n",
       "    <tr>\n",
       "      <th>6000</th>\n",
       "      <td>NaN</td>\n",
       "      <td>0.065829</td>\n",
       "      <td>0.048864</td>\n",
       "    </tr>\n",
       "    <tr>\n",
       "      <th>7000</th>\n",
       "      <td>NaN</td>\n",
       "      <td>0.079960</td>\n",
       "      <td>0.059837</td>\n",
       "    </tr>\n",
       "    <tr>\n",
       "      <th>8000</th>\n",
       "      <td>NaN</td>\n",
       "      <td>0.095776</td>\n",
       "      <td>0.066978</td>\n",
       "    </tr>\n",
       "    <tr>\n",
       "      <th>9000</th>\n",
       "      <td>NaN</td>\n",
       "      <td>0.105867</td>\n",
       "      <td>0.077787</td>\n",
       "    </tr>\n",
       "    <tr>\n",
       "      <th>10000</th>\n",
       "      <td>NaN</td>\n",
       "      <td>0.118641</td>\n",
       "      <td>0.087765</td>\n",
       "    </tr>\n",
       "    <tr>\n",
       "      <th>11000</th>\n",
       "      <td>NaN</td>\n",
       "      <td>0.134631</td>\n",
       "      <td>0.098713</td>\n",
       "    </tr>\n",
       "    <tr>\n",
       "      <th>12000</th>\n",
       "      <td>NaN</td>\n",
       "      <td>0.147638</td>\n",
       "      <td>0.104688</td>\n",
       "    </tr>\n",
       "    <tr>\n",
       "      <th>13000</th>\n",
       "      <td>NaN</td>\n",
       "      <td>0.157913</td>\n",
       "      <td>0.113698</td>\n",
       "    </tr>\n",
       "    <tr>\n",
       "      <th>14000</th>\n",
       "      <td>NaN</td>\n",
       "      <td>0.173774</td>\n",
       "      <td>0.126698</td>\n",
       "    </tr>\n",
       "    <tr>\n",
       "      <th>15000</th>\n",
       "      <td>NaN</td>\n",
       "      <td>0.189382</td>\n",
       "      <td>0.134659</td>\n",
       "    </tr>\n",
       "    <tr>\n",
       "      <th>16000</th>\n",
       "      <td>NaN</td>\n",
       "      <td>0.198501</td>\n",
       "      <td>0.146611</td>\n",
       "    </tr>\n",
       "  </tbody>\n",
       "</table>\n",
       "</div>"
      ],
      "text/plain": [
       "       QuickS. A_shape  HeapS. A_shape  MergeS. A_shape\n",
       "1000          0.097738        0.008973         0.006988\n",
       "2000          0.385847        0.018945         0.014964\n",
       "3000               NaN        0.029918         0.022941\n",
       "4000               NaN        0.041887         0.031909\n",
       "5000               NaN        0.054837         0.040887\n",
       "6000               NaN        0.065829         0.048864\n",
       "7000               NaN        0.079960         0.059837\n",
       "8000               NaN        0.095776         0.066978\n",
       "9000               NaN        0.105867         0.077787\n",
       "10000              NaN        0.118641         0.087765\n",
       "11000              NaN        0.134631         0.098713\n",
       "12000              NaN        0.147638         0.104688\n",
       "13000              NaN        0.157913         0.113698\n",
       "14000              NaN        0.173774         0.126698\n",
       "15000              NaN        0.189382         0.134659\n",
       "16000              NaN        0.198501         0.146611"
      ]
     },
     "execution_count": 365,
     "metadata": {},
     "output_type": "execute_result"
    }
   ],
   "source": [
    "a_shape_dict={}\n",
    "for n in range(1000, 16001, 1000):\n",
    "    a_shape=[]\n",
    "    for j in range(n):\n",
    "        a_shape.append(j)\n",
    "        a_shape.append(n-j)\n",
    "    \n",
    "    quick_a = copy.deepcopy(a_shape)\n",
    "    heap_a = copy.deepcopy(a_shape)\n",
    "    merge_a = copy.deepcopy(a_shape)\n",
    "    \n",
    "    if n < 2500:\n",
    "        start = time.time()\n",
    "        quicksort(quick_a)\n",
    "        end = time.time()\n",
    "        a_shape_dict[n] = [end-start]\n",
    "    else:\n",
    "        a_shape_dict[n] = [np.nan]\n",
    "    \n",
    "    start = time.time()\n",
    "    heapSort(heap_a)\n",
    "    end = time.time()\n",
    "    a_shape_dict[n].append(end-start)\n",
    "    \n",
    "    start = time.time()\n",
    "    mergeSort(merge_a)\n",
    "    end = time.time()\n",
    "    a_shape_dict[n].append(end-start)\n",
    "    \n",
    "time_a_shape_df = pd.DataFrame.from_dict(data=a_shape_dict, orient='index', \\\n",
    "                        columns=['QuickS. A_shape', 'HeapS. A_shape', 'MergeS. A_shape'])\n",
    "time_a_shape_df.head()"
   ]
  },
  {
   "cell_type": "code",
   "execution_count": 366,
   "metadata": {},
   "outputs": [
    {
     "data": {
      "text/plain": [
       "<matplotlib.axes._subplots.AxesSubplot at 0x1ce4c415048>"
      ]
     },
     "execution_count": 366,
     "metadata": {},
     "output_type": "execute_result"
    },
    {
     "data": {
      "image/png": "[encoded data removed]",
      "text/plain": [
       "<Figure size 432x288 with 1 Axes>"
      ]
     },
     "metadata": {
      "needs_background": "light"
     },
     "output_type": "display_data"
    }
   ],
   "source": [
    "sns.lineplot(data=time_a_shape_df)"
   ]
  },
  {
   "cell_type": "markdown",
   "metadata": {},
   "source": [
    "#### V-shaped data"
   ]
  },
  {
   "cell_type": "code",
   "execution_count": 388,
   "metadata": {},
   "outputs": [
    {
     "data": {
      "text/html": [
       "<div>\n",
       "<style scoped>\n",
       "    .dataframe tbody tr th:only-of-type {\n",
       "        vertical-align: middle;\n",
       "    }\n",
       "\n",
       "    .dataframe tbody tr th {\n",
       "        vertical-align: top;\n",
       "    }\n",
       "\n",
       "    .dataframe thead th {\n",
       "        text-align: right;\n",
       "    }\n",
       "</style>\n",
       "<table border=\"1\" class=\"dataframe\">\n",
       "  <thead>\n",
       "    <tr style=\"text-align: right;\">\n",
       "      <th></th>\n",
       "      <th>QuickS. V_shape</th>\n",
       "      <th>HeapS. V_shape</th>\n",
       "      <th>MergeS. V_shape</th>\n",
       "    </tr>\n",
       "  </thead>\n",
       "  <tbody>\n",
       "    <tr>\n",
       "      <th>1000</th>\n",
       "      <td>0.089336</td>\n",
       "      <td>0.008979</td>\n",
       "      <td>0.005984</td>\n",
       "    </tr>\n",
       "    <tr>\n",
       "      <th>2000</th>\n",
       "      <td>0.383302</td>\n",
       "      <td>0.018951</td>\n",
       "      <td>0.013964</td>\n",
       "    </tr>\n",
       "    <tr>\n",
       "      <th>3000</th>\n",
       "      <td>NaN</td>\n",
       "      <td>0.029917</td>\n",
       "      <td>0.021946</td>\n",
       "    </tr>\n",
       "    <tr>\n",
       "      <th>4000</th>\n",
       "      <td>NaN</td>\n",
       "      <td>0.039895</td>\n",
       "      <td>0.030916</td>\n",
       "    </tr>\n",
       "    <tr>\n",
       "      <th>5000</th>\n",
       "      <td>NaN</td>\n",
       "      <td>0.052856</td>\n",
       "      <td>0.038896</td>\n",
       "    </tr>\n",
       "  </tbody>\n",
       "</table>\n",
       "</div>"
      ],
      "text/plain": [
       "      QuickS. V_shape  HeapS. V_shape  MergeS. V_shape\n",
       "1000         0.089336        0.008979         0.005984\n",
       "2000         0.383302        0.018951         0.013964\n",
       "3000              NaN        0.029917         0.021946\n",
       "4000              NaN        0.039895         0.030916\n",
       "5000              NaN        0.052856         0.038896"
      ]
     },
     "execution_count": 388,
     "metadata": {},
     "output_type": "execute_result"
    }
   ],
   "source": [
    "v_shape_dict={}\n",
    "for n in range(1000, 16001, 1000):\n",
    "    v_shape=[]\n",
    "    for j in range(n):\n",
    "        v_shape.append(n-j)\n",
    "        v_shape.append(j)\n",
    "    \n",
    "    quick_v = copy.deepcopy(v_shape)\n",
    "    heap_v = copy.deepcopy(v_shape)\n",
    "    merge_v = copy.deepcopy(v_shape)\n",
    "    \n",
    "    if n < 2500:\n",
    "        start = time.time()\n",
    "        quicksort(quick_v)\n",
    "        end = time.time()\n",
    "        v_shape_dict[n] = [end-start]\n",
    "    else:\n",
    "        v_shape_dict[n] = [np.nan]\n",
    "    \n",
    "    start = time.time()\n",
    "    heapSort(heap_v)\n",
    "    end = time.time()\n",
    "    v_shape_dict[n].append(end-start)\n",
    "    \n",
    "    start = time.time()\n",
    "    mergeSort(merge_v)\n",
    "    end = time.time()\n",
    "    v_shape_dict[n].append(end-start)\n",
    "    \n",
    "time_v_shape_df = pd.DataFrame.from_dict(data=v_shape_dict, orient='index', \\\n",
    "                        columns=['QuickS. V_shape', 'HeapS. V_shape', 'MergeS. V_shape'])\n",
    "time_v_shape_df.head()"
   ]
  },
  {
   "cell_type": "code",
   "execution_count": 389,
   "metadata": {},
   "outputs": [
    {
     "data": {
      "text/plain": [
       "<matplotlib.axes._subplots.AxesSubplot at 0x1ce4cb2fa58>"
      ]
     },
     "execution_count": 389,
     "metadata": {},
     "output_type": "execute_result"
    },
    {
     "data": {
      "image/png": "[encoded data removed]",
      "text/plain": [
       "<Figure size 432x288 with 1 Axes>"
      ]
     },
     "metadata": {
      "needs_background": "light"
     },
     "output_type": "display_data"
    }
   ],
   "source": [
    "sns.lineplot(data=time_v_shape_df)"
   ]
  },
  {
   "cell_type": "code",
   "execution_count": 390,
   "metadata": {},
   "outputs": [
    {
     "data": {
      "text/plain": [
       "Text(0, 0.5, 't')"
      ]
     },
     "execution_count": 390,
     "metadata": {},
     "output_type": "execute_result"
    },
    {
     "data": {
      "image/png": "[encoded data removed]",
      "text/plain": [
       "<Figure size 576x576 with 1 Axes>"
      ]
     },
     "metadata": {
      "needs_background": "light"
     },
     "output_type": "display_data"
    }
   ],
   "source": [
    "plt.figure(figsize=(8,8))\n",
    "sns.lineplot(data=time_a_shape_df, palette=sns.light_palette('green', n_colors=3))\n",
    "sns.lineplot(data=time_v_shape_df, palette=sns.dark_palette('blue', n_colors=3))\n",
    "plt.title('Comparison of 3 sorting methods used on differently generated data sets')\n",
    "plt.xlabel('n')\n",
    "plt.ylabel('t')"
   ]
  },
  {
   "cell_type": "markdown",
   "metadata": {},
   "source": [
    "### Quick Sort for differently generated data sets"
   ]
  },
  {
   "cell_type": "markdown",
   "metadata": {},
   "source": [
    "#### Uniformly generated"
   ]
  },
  {
   "cell_type": "code",
   "execution_count": 16,
   "metadata": {},
   "outputs": [
    {
     "data": {
      "text/plain": [
       "{1000: [0.004622459411621094],\n",
       " 1100: [0.0029621124267578125],\n",
       " 1200: [0.0019941329956054688],\n",
       " 1300: [0.0029914379119873047],\n",
       " 1400: [0.003989219665527344],\n",
       " 1500: [0.002991914749145508],\n",
       " 1600: [0.0029921531677246094],\n",
       " 1700: [0.0029931068420410156],\n",
       " 1800: [0.0039899349212646484],\n",
       " 1900: [0.003989219665527344],\n",
       " 2000: [0.004991769790649414],\n",
       " 2100: [0.004987001419067383],\n",
       " 2200: [0.0030214786529541016],\n",
       " 2300: [0.0019936561584472656],\n",
       " 2400: [0.002994060516357422],\n",
       " 2500: [0.002988576889038086]}"
      ]
     },
     "execution_count": 16,
     "metadata": {},
     "output_type": "execute_result"
    }
   ],
   "source": [
    "quick_dict={}\n",
    "for n in range(1000, 2501, 100):\n",
    "    quick_uni=[]\n",
    "    for j in range(n):\n",
    "        quick_uni.append(int(random.uniform(1000)))\n",
    "        \n",
    "    start = time.time()\n",
    "    quick_sort(quick_uni)\n",
    "    end = time.time()\n",
    "    quick_dict[n]=[end-start]\n",
    "quick_dict"
   ]
  },
  {
   "cell_type": "markdown",
   "metadata": {},
   "source": [
    "#### Constant"
   ]
  },
  {
   "cell_type": "code",
   "execution_count": 17,
   "metadata": {},
   "outputs": [
    {
     "data": {
      "text/plain": [
       "{1000: [0.004622459411621094, 0.0],\n",
       " 1100: [0.0029621124267578125, 0.0],\n",
       " 1200: [0.0019941329956054688, 0.0010001659393310547],\n",
       " 1300: [0.0029914379119873047, 0.0],\n",
       " 1400: [0.003989219665527344, 0.0],\n",
       " 1500: [0.002991914749145508, 0.0],\n",
       " 1600: [0.0029921531677246094, 0.0],\n",
       " 1700: [0.0029931068420410156, 0.0],\n",
       " 1800: [0.0039899349212646484, 0.0009984970092773438],\n",
       " 1900: [0.003989219665527344, 0.0],\n",
       " 2000: [0.004991769790649414, 0.0],\n",
       " 2100: [0.004987001419067383, 0.0],\n",
       " 2200: [0.0030214786529541016, 0.0],\n",
       " 2300: [0.0019936561584472656, 0.0010023117065429688],\n",
       " 2400: [0.002994060516357422, 0.0009913444519042969],\n",
       " 2500: [0.002988576889038086, 0.0009970664978027344]}"
      ]
     },
     "execution_count": 17,
     "metadata": {},
     "output_type": "execute_result"
    }
   ],
   "source": [
    "for n in range(1000, 2501, 100):\n",
    "    quick_const=[0 for j in range(n)]\n",
    "    \n",
    "    start = time.time()\n",
    "    quick_sort(quick_const)\n",
    "    end = time.time()\n",
    "    quick_dict[n].append(end-start)\n",
    "quick_dict"
   ]
  },
  {
   "cell_type": "markdown",
   "metadata": {},
   "source": [
    "#### Increasing order"
   ]
  },
  {
   "cell_type": "code",
   "execution_count": 18,
   "metadata": {},
   "outputs": [
    {
     "data": {
      "text/plain": [
       "{1000: [0.004622459411621094, 0.0, 0.0667877197265625],\n",
       " 1100: [0.0029621124267578125, 0.0, 0.06899476051330566],\n",
       " 1200: [0.0019941329956054688, 0.0010001659393310547, 0.08473539352416992],\n",
       " 1300: [0.0029914379119873047, 0.0, 0.10275626182556152],\n",
       " 1400: [0.003989219665527344, 0.0, 0.11938738822937012],\n",
       " 1500: [0.002991914749145508, 0.0, 0.13361358642578125],\n",
       " 1600: [0.0029921531677246094, 0.0, 0.1545865535736084],\n",
       " 1700: [0.0029931068420410156, 0.0, 0.16956210136413574],\n",
       " 1800: [0.0039899349212646484, 0.0009984970092773438, 0.2404191493988037],\n",
       " 1900: [0.003989219665527344, 0.0, 0.21370601654052734],\n",
       " 2000: [0.004991769790649414, 0.0, 0.23118805885314941],\n",
       " 2100: [0.004987001419067383, 0.0, 0.25110554695129395],\n",
       " 2200: [0.0030214786529541016, 0.0, 0.2774636745452881],\n",
       " 2300: [0.0019936561584472656, 0.0010023117065429688, 0.3086991310119629],\n",
       " 2400: [0.002994060516357422, 0.0009913444519042969, 0.3819766044616699],\n",
       " 2500: [0.002988576889038086, 0.0009970664978027344, 0.3530769348144531]}"
      ]
     },
     "execution_count": 18,
     "metadata": {},
     "output_type": "execute_result"
    }
   ],
   "source": [
    "for n in range(1000, 2501, 100):\n",
    "    quick_incr=[j for j in range(n)]\n",
    "\n",
    "    start = time.time()\n",
    "    quick_sort(quick_incr)\n",
    "    end = time.time()\n",
    "    quick_dict[n].append(end-start)\n",
    "quick_dict"
   ]
  },
  {
   "cell_type": "markdown",
   "metadata": {},
   "source": [
    "#### Decreasing order"
   ]
  },
  {
   "cell_type": "code",
   "execution_count": 19,
   "metadata": {},
   "outputs": [
    {
     "data": {
      "text/plain": [
       "{1000: [0.004622459411621094, 0.0, 0.0667877197265625, 0.054955482482910156],\n",
       " 1100: [0.0029621124267578125, 0.0, 0.06899476051330566, 0.049486398696899414],\n",
       " 1200: [0.0019941329956054688,\n",
       "  0.0010001659393310547,\n",
       "  0.08473539352416992,\n",
       "  0.07277655601501465],\n",
       " 1300: [0.0029914379119873047, 0.0, 0.10275626182556152, 0.11134862899780273],\n",
       " 1400: [0.003989219665527344, 0.0, 0.11938738822937012, 0.0967416763305664],\n",
       " 1500: [0.002991914749145508, 0.0, 0.13361358642578125, 0.11269831657409668],\n",
       " 1600: [0.0029921531677246094, 0.0, 0.1545865535736084, 0.11968016624450684],\n",
       " 1700: [0.0029931068420410156, 0.0, 0.16956210136413574, 0.13689184188842773],\n",
       " 1800: [0.0039899349212646484,\n",
       "  0.0009984970092773438,\n",
       "  0.2404191493988037,\n",
       "  0.14860272407531738],\n",
       " 1900: [0.003989219665527344, 0.0, 0.21370601654052734, 0.16759467124938965],\n",
       " 2000: [0.004991769790649414, 0.0, 0.23118805885314941, 0.15960335731506348],\n",
       " 2100: [0.004987001419067383, 0.0, 0.25110554695129395, 0.1801776885986328],\n",
       " 2200: [0.0030214786529541016, 0.0, 0.2774636745452881, 0.19152045249938965],\n",
       " 2300: [0.0019936561584472656,\n",
       "  0.0010023117065429688,\n",
       "  0.3086991310119629,\n",
       "  0.20943856239318848],\n",
       " 2400: [0.002994060516357422,\n",
       "  0.0009913444519042969,\n",
       "  0.3819766044616699,\n",
       "  0.2216808795928955],\n",
       " 2500: [0.002988576889038086,\n",
       "  0.0009970664978027344,\n",
       "  0.3530769348144531,\n",
       "  0.24187517166137695]}"
      ]
     },
     "execution_count": 19,
     "metadata": {},
     "output_type": "execute_result"
    }
   ],
   "source": [
    "for n in range(1000, 2501, 100):\n",
    "    quick_incr=[j for j in range(n, 0,-1)]\n",
    "\n",
    "    start = time.time()\n",
    "    quick_sort(quick_incr)\n",
    "    end = time.time()\n",
    "    quick_dict[n].append(end-start)\n",
    "quick_dict"
   ]
  },
  {
   "cell_type": "markdown",
   "metadata": {},
   "source": [
    "#### A-shaped"
   ]
  },
  {
   "cell_type": "code",
   "execution_count": 20,
   "metadata": {},
   "outputs": [
    {
     "data": {
      "text/plain": [
       "{1000: [0.004622459411621094,\n",
       "  0.0,\n",
       "  0.0667877197265625,\n",
       "  0.054955482482910156,\n",
       "  0.29219579696655273],\n",
       " 1100: [0.0029621124267578125,\n",
       "  0.0,\n",
       "  0.06899476051330566,\n",
       "  0.049486398696899414,\n",
       "  0.2438509464263916],\n",
       " 1200: [0.0019941329956054688,\n",
       "  0.0010001659393310547,\n",
       "  0.08473539352416992,\n",
       "  0.07277655601501465,\n",
       "  0.24033737182617188],\n",
       " 1300: [0.0029914379119873047,\n",
       "  0.0,\n",
       "  0.10275626182556152,\n",
       "  0.11134862899780273,\n",
       "  0.24752163887023926],\n",
       " 1400: [0.003989219665527344,\n",
       "  0.0,\n",
       "  0.11938738822937012,\n",
       "  0.0967416763305664,\n",
       "  0.2580733299255371],\n",
       " 1500: [0.002991914749145508,\n",
       "  0.0,\n",
       "  0.13361358642578125,\n",
       "  0.11269831657409668,\n",
       "  0.25452589988708496],\n",
       " 1600: [0.0029921531677246094,\n",
       "  0.0,\n",
       "  0.1545865535736084,\n",
       "  0.11968016624450684,\n",
       "  0.25081682205200195],\n",
       " 1700: [0.0029931068420410156,\n",
       "  0.0,\n",
       "  0.16956210136413574,\n",
       "  0.13689184188842773,\n",
       "  0.2757437229156494],\n",
       " 1800: [0.0039899349212646484,\n",
       "  0.0009984970092773438,\n",
       "  0.2404191493988037,\n",
       "  0.14860272407531738,\n",
       "  0.24720263481140137],\n",
       " 1900: [0.003989219665527344,\n",
       "  0.0,\n",
       "  0.21370601654052734,\n",
       "  0.16759467124938965,\n",
       "  0.24881243705749512],\n",
       " 2000: [0.004991769790649414,\n",
       "  0.0,\n",
       "  0.23118805885314941,\n",
       "  0.15960335731506348,\n",
       "  0.2792532444000244],\n",
       " 2100: [0.004987001419067383,\n",
       "  0.0,\n",
       "  0.25110554695129395,\n",
       "  0.1801776885986328,\n",
       "  0.2488694190979004],\n",
       " 2200: [0.0030214786529541016,\n",
       "  0.0,\n",
       "  0.2774636745452881,\n",
       "  0.19152045249938965,\n",
       "  0.24332070350646973],\n",
       " 2300: [0.0019936561584472656,\n",
       "  0.0010023117065429688,\n",
       "  0.3086991310119629,\n",
       "  0.20943856239318848,\n",
       "  0.2438647747039795],\n",
       " 2400: [0.002994060516357422,\n",
       "  0.0009913444519042969,\n",
       "  0.3819766044616699,\n",
       "  0.2216808795928955,\n",
       "  0.24585962295532227],\n",
       " 2500: [0.002988576889038086,\n",
       "  0.0009970664978027344,\n",
       "  0.3530769348144531,\n",
       "  0.24187517166137695,\n",
       "  0.23788070678710938]}"
      ]
     },
     "execution_count": 20,
     "metadata": {},
     "output_type": "execute_result"
    }
   ],
   "source": [
    "for n in range(1000, 2501, 100):\n",
    "    quick_a_sh=[]\n",
    "    for j in range(n):\n",
    "        quick_a_sh.append(j)\n",
    "        quick_a_sh.append(n-j)\n",
    "\n",
    "    start = time.time()\n",
    "    quick_sort(quick_incr)\n",
    "    end = time.time()\n",
    "    quick_dict[n].append(end-start)\n",
    "quick_dict"
   ]
  },
  {
   "cell_type": "markdown",
   "metadata": {},
   "source": [
    "#### V-shaped"
   ]
  },
  {
   "cell_type": "code",
   "execution_count": 21,
   "metadata": {},
   "outputs": [],
   "source": [
    "for n in range(1000, 2501, 100):\n",
    "    quick_a_sh=[]\n",
    "    for j in range(n):\n",
    "        quick_a_sh.append(n-j)\n",
    "        quick_a_sh.append(j)\n",
    "\n",
    "    start = time.time()\n",
    "    quick_sort(quick_incr)\n",
    "    end = time.time()\n",
    "    quick_dict[n].append(end-start)"
   ]
  },
  {
   "cell_type": "code",
   "execution_count": 22,
   "metadata": {},
   "outputs": [
    {
     "data": {
      "text/html": [
       "<div>\n",
       "<style scoped>\n",
       "    .dataframe tbody tr th:only-of-type {\n",
       "        vertical-align: middle;\n",
       "    }\n",
       "\n",
       "    .dataframe tbody tr th {\n",
       "        vertical-align: top;\n",
       "    }\n",
       "\n",
       "    .dataframe thead th {\n",
       "        text-align: right;\n",
       "    }\n",
       "</style>\n",
       "<table border=\"1\" class=\"dataframe\">\n",
       "  <thead>\n",
       "    <tr style=\"text-align: right;\">\n",
       "      <th></th>\n",
       "      <th>Uniform</th>\n",
       "      <th>Constant</th>\n",
       "      <th>Increasing</th>\n",
       "      <th>Decreasing</th>\n",
       "      <th>A shape</th>\n",
       "      <th>V shape</th>\n",
       "    </tr>\n",
       "  </thead>\n",
       "  <tbody>\n",
       "    <tr>\n",
       "      <th>1000</th>\n",
       "      <td>0.004622</td>\n",
       "      <td>0.000000</td>\n",
       "      <td>0.066788</td>\n",
       "      <td>0.054955</td>\n",
       "      <td>0.292196</td>\n",
       "      <td>0.264398</td>\n",
       "    </tr>\n",
       "    <tr>\n",
       "      <th>1100</th>\n",
       "      <td>0.002962</td>\n",
       "      <td>0.000000</td>\n",
       "      <td>0.068995</td>\n",
       "      <td>0.049486</td>\n",
       "      <td>0.243851</td>\n",
       "      <td>0.251501</td>\n",
       "    </tr>\n",
       "    <tr>\n",
       "      <th>1200</th>\n",
       "      <td>0.001994</td>\n",
       "      <td>0.001000</td>\n",
       "      <td>0.084735</td>\n",
       "      <td>0.072777</td>\n",
       "      <td>0.240337</td>\n",
       "      <td>0.244275</td>\n",
       "    </tr>\n",
       "    <tr>\n",
       "      <th>1300</th>\n",
       "      <td>0.002991</td>\n",
       "      <td>0.000000</td>\n",
       "      <td>0.102756</td>\n",
       "      <td>0.111349</td>\n",
       "      <td>0.247522</td>\n",
       "      <td>0.244375</td>\n",
       "    </tr>\n",
       "    <tr>\n",
       "      <th>1400</th>\n",
       "      <td>0.003989</td>\n",
       "      <td>0.000000</td>\n",
       "      <td>0.119387</td>\n",
       "      <td>0.096742</td>\n",
       "      <td>0.258073</td>\n",
       "      <td>0.292397</td>\n",
       "    </tr>\n",
       "    <tr>\n",
       "      <th>1500</th>\n",
       "      <td>0.002992</td>\n",
       "      <td>0.000000</td>\n",
       "      <td>0.133614</td>\n",
       "      <td>0.112698</td>\n",
       "      <td>0.254526</td>\n",
       "      <td>0.250026</td>\n",
       "    </tr>\n",
       "    <tr>\n",
       "      <th>1600</th>\n",
       "      <td>0.002992</td>\n",
       "      <td>0.000000</td>\n",
       "      <td>0.154587</td>\n",
       "      <td>0.119680</td>\n",
       "      <td>0.250817</td>\n",
       "      <td>0.243374</td>\n",
       "    </tr>\n",
       "    <tr>\n",
       "      <th>1700</th>\n",
       "      <td>0.002993</td>\n",
       "      <td>0.000000</td>\n",
       "      <td>0.169562</td>\n",
       "      <td>0.136892</td>\n",
       "      <td>0.275744</td>\n",
       "      <td>0.246912</td>\n",
       "    </tr>\n",
       "    <tr>\n",
       "      <th>1800</th>\n",
       "      <td>0.003990</td>\n",
       "      <td>0.000998</td>\n",
       "      <td>0.240419</td>\n",
       "      <td>0.148603</td>\n",
       "      <td>0.247203</td>\n",
       "      <td>0.240882</td>\n",
       "    </tr>\n",
       "    <tr>\n",
       "      <th>1900</th>\n",
       "      <td>0.003989</td>\n",
       "      <td>0.000000</td>\n",
       "      <td>0.213706</td>\n",
       "      <td>0.167595</td>\n",
       "      <td>0.248812</td>\n",
       "      <td>0.244130</td>\n",
       "    </tr>\n",
       "    <tr>\n",
       "      <th>2000</th>\n",
       "      <td>0.004992</td>\n",
       "      <td>0.000000</td>\n",
       "      <td>0.231188</td>\n",
       "      <td>0.159603</td>\n",
       "      <td>0.279253</td>\n",
       "      <td>0.270717</td>\n",
       "    </tr>\n",
       "    <tr>\n",
       "      <th>2100</th>\n",
       "      <td>0.004987</td>\n",
       "      <td>0.000000</td>\n",
       "      <td>0.251106</td>\n",
       "      <td>0.180178</td>\n",
       "      <td>0.248869</td>\n",
       "      <td>0.246827</td>\n",
       "    </tr>\n",
       "    <tr>\n",
       "      <th>2200</th>\n",
       "      <td>0.003021</td>\n",
       "      <td>0.000000</td>\n",
       "      <td>0.277464</td>\n",
       "      <td>0.191520</td>\n",
       "      <td>0.243321</td>\n",
       "      <td>0.239610</td>\n",
       "    </tr>\n",
       "    <tr>\n",
       "      <th>2300</th>\n",
       "      <td>0.001994</td>\n",
       "      <td>0.001002</td>\n",
       "      <td>0.308699</td>\n",
       "      <td>0.209439</td>\n",
       "      <td>0.243865</td>\n",
       "      <td>0.243339</td>\n",
       "    </tr>\n",
       "    <tr>\n",
       "      <th>2400</th>\n",
       "      <td>0.002994</td>\n",
       "      <td>0.000991</td>\n",
       "      <td>0.381977</td>\n",
       "      <td>0.221681</td>\n",
       "      <td>0.245860</td>\n",
       "      <td>0.288395</td>\n",
       "    </tr>\n",
       "    <tr>\n",
       "      <th>2500</th>\n",
       "      <td>0.002989</td>\n",
       "      <td>0.000997</td>\n",
       "      <td>0.353077</td>\n",
       "      <td>0.241875</td>\n",
       "      <td>0.237881</td>\n",
       "      <td>0.249514</td>\n",
       "    </tr>\n",
       "  </tbody>\n",
       "</table>\n",
       "</div>"
      ],
      "text/plain": [
       "       Uniform  Constant  Increasing  Decreasing   A shape   V shape\n",
       "1000  0.004622  0.000000    0.066788    0.054955  0.292196  0.264398\n",
       "1100  0.002962  0.000000    0.068995    0.049486  0.243851  0.251501\n",
       "1200  0.001994  0.001000    0.084735    0.072777  0.240337  0.244275\n",
       "1300  0.002991  0.000000    0.102756    0.111349  0.247522  0.244375\n",
       "1400  0.003989  0.000000    0.119387    0.096742  0.258073  0.292397\n",
       "1500  0.002992  0.000000    0.133614    0.112698  0.254526  0.250026\n",
       "1600  0.002992  0.000000    0.154587    0.119680  0.250817  0.243374\n",
       "1700  0.002993  0.000000    0.169562    0.136892  0.275744  0.246912\n",
       "1800  0.003990  0.000998    0.240419    0.148603  0.247203  0.240882\n",
       "1900  0.003989  0.000000    0.213706    0.167595  0.248812  0.244130\n",
       "2000  0.004992  0.000000    0.231188    0.159603  0.279253  0.270717\n",
       "2100  0.004987  0.000000    0.251106    0.180178  0.248869  0.246827\n",
       "2200  0.003021  0.000000    0.277464    0.191520  0.243321  0.239610\n",
       "2300  0.001994  0.001002    0.308699    0.209439  0.243865  0.243339\n",
       "2400  0.002994  0.000991    0.381977    0.221681  0.245860  0.288395\n",
       "2500  0.002989  0.000997    0.353077    0.241875  0.237881  0.249514"
      ]
     },
     "execution_count": 22,
     "metadata": {},
     "output_type": "execute_result"
    }
   ],
   "source": [
    "time_quick_df = pd.DataFrame.from_dict(data=quick_dict, orient='index', \\\n",
    "                        columns=['Uniform', 'Constant', 'Increasing', 'Decreasing', 'A shape', 'V shape'])\n",
    "time_quick_df"
   ]
  },
  {
   "cell_type": "code",
   "execution_count": 24,
   "metadata": {},
   "outputs": [
    {
     "data": {
      "text/plain": [
       "Text(0, 0.5, 't')"
      ]
     },
     "execution_count": 24,
     "metadata": {},
     "output_type": "execute_result"
    },
    {
     "data": {
      "image/png": "[encoded data removed]",
      "text/plain": [
       "<Figure size 576x576 with 1 Axes>"
      ]
     },
     "metadata": {
      "needs_background": "light"
     },
     "output_type": "display_data"
    }
   ],
   "source": [
    "plt.figure(figsize=(8,8))\n",
    "sns.lineplot(data=time_quick_df)\n",
    "plt.title('Comparison of time complexity of QS sorting for different data sets ')\n",
    "plt.xlabel('n')\n",
    "plt.ylabel('t')"
   ]
  },
  {
   "cell_type": "code",
   "execution_count": null,
   "metadata": {},
   "outputs": [],
   "source": []
  },
  {
   "cell_type": "code",
   "execution_count": null,
   "metadata": {},
   "outputs": [],
   "source": []
  },
  {
   "cell_type": "code",
   "execution_count": null,
   "metadata": {},
   "outputs": [],
   "source": []
  },
  {
   "cell_type": "code",
   "execution_count": null,
   "metadata": {},
   "outputs": [],
   "source": []
  },
  {
   "cell_type": "code",
   "execution_count": null,
   "metadata": {},
   "outputs": [],
   "source": []
  }
 ],
 "metadata": {
  "kernelspec": {
   "display_name": "Python 3",
   "language": "python",
   "name": "python3"
  },
  "language_info": {
   "codemirror_mode": {
    "name": "ipython",
    "version": 3
   },
   "file_extension": ".py",
   "mimetype": "text/x-python",
   "name": "python",
   "nbconvert_exporter": "python",
   "pygments_lexer": "ipython3",
   "version": "3.7.3"
  }
 },
 "nbformat": 4,
 "nbformat_minor": 2
}
