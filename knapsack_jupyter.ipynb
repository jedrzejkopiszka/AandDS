{
 "cells": [
  {
   "cell_type": "markdown",
   "metadata": {},
   "source": [
    "# Exercise 5. Dynamic programming\n",
    "#### Algorithms ans Data Structures \n",
    "\n",
    "by Jędrzej Kopiszka, 145304\n",
    "10.06.2020r."
   ]
  },
  {
   "cell_type": "markdown",
   "metadata": {},
   "source": [
    "## 1. Knapsack problem"
   ]
  },
  {
   "cell_type": "markdown",
   "metadata": {},
   "source": [
    "#### 1.1 Necessary libraries"
   ]
  },
  {
   "cell_type": "code",
   "execution_count": 163,
   "metadata": {},
   "outputs": [],
   "source": [
    "import math\n",
    "import random  # randomized elements - both weights and values\n",
    "import pandas as pd  # DataFreame for output representation\n",
    "import seaborn as sns  # plotting\n",
    "import matplotlib.pyplot as plt  # plotting\n",
    "from timeit import Timer  # time measuring"
   ]
  },
  {
   "cell_type": "markdown",
   "metadata": {},
   "source": [
    "### 1.2 Implementation of algorithms"
   ]
  },
  {
   "cell_type": "markdown",
   "metadata": {},
   "source": [
    "#### 1.2.1 Brute Force"
   ]
  },
  {
   "cell_type": "code",
   "execution_count": 164,
   "metadata": {},
   "outputs": [],
   "source": [
    "def brute_force_algorithm(tab, max_weight):\n",
    "    result = 0\n",
    "    for element in range(1 << len(tab)):\n",
    "        tmp_result=0\n",
    "        tmp_weight=0\n",
    "        for j in range(len(tab)):\n",
    "            if element & (1 << j):\n",
    "                tmp_result+=tab[j][1]\n",
    "                tmp_weight+=tab[j][0]\n",
    "        if tmp_weight<=max_weight and tmp_result>result:\n",
    "            result=tmp_result\n",
    "    return result"
   ]
  },
  {
   "cell_type": "markdown",
   "metadata": {},
   "source": [
    "#### 1.2.2 Greedy algorithm - approximation of the best result"
   ]
  },
  {
   "cell_type": "code",
   "execution_count": 165,
   "metadata": {},
   "outputs": [],
   "source": [
    "def greedy_algorithm(tab, max_weight):\n",
    "    result = 0\n",
    "    tab = sorted(tab, key=lambda x: x[1]/x[0], reverse=True)\n",
    "    for element in tab:\n",
    "        if element[0]>max_weight:\n",
    "            continue\n",
    "        if max_weight==0:\n",
    "            break\n",
    "        else:\n",
    "            result+=element[1]\n",
    "            max_weight-=element[0]\n",
    "    return result"
   ]
  },
  {
   "cell_type": "markdown",
   "metadata": {},
   "source": [
    "#### 1.2.3 Dynamic algorithm"
   ]
  },
  {
   "cell_type": "code",
   "execution_count": 166,
   "metadata": {},
   "outputs": [],
   "source": [
    "def dynamic_algorithm(tab, max_weight):\n",
    "    result=0\n",
    "    help_tab = [[0 for i in range(max_weight+1)] for j in range(len(tab))]\n",
    "    \n",
    "    for i in range(len(tab)):\n",
    "        for j in range(max_weight+1):\n",
    "            if tab[i][0]>j:\n",
    "                help_tab[i][j] = help_tab[i-1][j]\n",
    "                continue\n",
    "            a=help_tab[i-1][j]\n",
    "            b=tab[i][1]+help_tab[i-1][j-tab[i][0]]\n",
    "            help_tab[i][j] = max(a,b)\n",
    "            if max(a,b)>result:\n",
    "                result=max(a,b)\n",
    "    return result"
   ]
  },
  {
   "cell_type": "markdown",
   "metadata": {},
   "source": [
    "#### 1.3 Easy-to-understand samples for early-phase testing "
   ]
  },
  {
   "cell_type": "code",
   "execution_count": 167,
   "metadata": {},
   "outputs": [],
   "source": [
    "sample1=[[8,6],[2,5],[2,5],[3,2],[2,1]]\n",
    "sample2=[[1,1],[3,4],[4,5],[5,7]]\n",
    "sample3=[[5,3],[3,2],[1,6],[5,2],[2,17],[14,32]]"
   ]
  },
  {
   "cell_type": "markdown",
   "metadata": {},
   "source": [
    "## 2. Time complexity of provided algorithms\n",
    "#### Comparison of time complexity of 3 previously defined algorithms. t.timeit is used for more precise results"
   ]
  },
  {
   "cell_type": "markdown",
   "metadata": {},
   "source": [
    "#### 2.1 Time for samples with different number of elements in each iteration"
   ]
  },
  {
   "cell_type": "code",
   "execution_count": 168,
   "metadata": {},
   "outputs": [
    {
     "name": "stdout",
     "output_type": "stream",
     "text": [
      "Done for: \n",
      "5 7 9 11 13 15 17 19 21 23 25 "
     ]
    },
    {
     "data": {
      "text/html": [
       "<div>\n",
       "<style scoped>\n",
       "    .dataframe tbody tr th:only-of-type {\n",
       "        vertical-align: middle;\n",
       "    }\n",
       "\n",
       "    .dataframe tbody tr th {\n",
       "        vertical-align: top;\n",
       "    }\n",
       "\n",
       "    .dataframe thead th {\n",
       "        text-align: right;\n",
       "    }\n",
       "</style>\n",
       "<table border=\"1\" class=\"dataframe\">\n",
       "  <thead>\n",
       "    <tr style=\"text-align: right;\">\n",
       "      <th></th>\n",
       "      <th>Brute Force</th>\n",
       "      <th>Greedy approach</th>\n",
       "      <th>Dynamic algorithm</th>\n",
       "    </tr>\n",
       "  </thead>\n",
       "  <tbody>\n",
       "    <tr>\n",
       "      <th>5</th>\n",
       "      <td>0.000078</td>\n",
       "      <td>0.000003</td>\n",
       "      <td>0.006206</td>\n",
       "    </tr>\n",
       "    <tr>\n",
       "      <th>7</th>\n",
       "      <td>0.000162</td>\n",
       "      <td>0.000003</td>\n",
       "      <td>0.012991</td>\n",
       "    </tr>\n",
       "    <tr>\n",
       "      <th>9</th>\n",
       "      <td>0.001445</td>\n",
       "      <td>0.000003</td>\n",
       "      <td>0.014196</td>\n",
       "    </tr>\n",
       "    <tr>\n",
       "      <th>11</th>\n",
       "      <td>0.004626</td>\n",
       "      <td>0.000004</td>\n",
       "      <td>0.031551</td>\n",
       "    </tr>\n",
       "    <tr>\n",
       "      <th>13</th>\n",
       "      <td>0.018436</td>\n",
       "      <td>0.000004</td>\n",
       "      <td>0.049145</td>\n",
       "    </tr>\n",
       "    <tr>\n",
       "      <th>15</th>\n",
       "      <td>0.090557</td>\n",
       "      <td>0.000005</td>\n",
       "      <td>0.061045</td>\n",
       "    </tr>\n",
       "    <tr>\n",
       "      <th>17</th>\n",
       "      <td>0.401075</td>\n",
       "      <td>0.000005</td>\n",
       "      <td>0.089678</td>\n",
       "    </tr>\n",
       "    <tr>\n",
       "      <th>19</th>\n",
       "      <td>1.660974</td>\n",
       "      <td>0.000010</td>\n",
       "      <td>0.083609</td>\n",
       "    </tr>\n",
       "    <tr>\n",
       "      <th>21</th>\n",
       "      <td>10.027840</td>\n",
       "      <td>0.000009</td>\n",
       "      <td>0.201553</td>\n",
       "    </tr>\n",
       "    <tr>\n",
       "      <th>23</th>\n",
       "      <td>36.880963</td>\n",
       "      <td>0.000007</td>\n",
       "      <td>0.128817</td>\n",
       "    </tr>\n",
       "    <tr>\n",
       "      <th>25</th>\n",
       "      <td>153.218044</td>\n",
       "      <td>0.000008</td>\n",
       "      <td>0.163522</td>\n",
       "    </tr>\n",
       "  </tbody>\n",
       "</table>\n",
       "</div>"
      ],
      "text/plain": [
       "    Brute Force  Greedy approach  Dynamic algorithm\n",
       "5      0.000078         0.000003           0.006206\n",
       "7      0.000162         0.000003           0.012991\n",
       "9      0.001445         0.000003           0.014196\n",
       "11     0.004626         0.000004           0.031551\n",
       "13     0.018436         0.000004           0.049145\n",
       "15     0.090557         0.000005           0.061045\n",
       "17     0.401075         0.000005           0.089678\n",
       "19     1.660974         0.000010           0.083609\n",
       "21    10.027840         0.000009           0.201553\n",
       "23    36.880963         0.000007           0.128817\n",
       "25   153.218044         0.000008           0.163522"
      ]
     },
     "execution_count": 168,
     "metadata": {},
     "output_type": "execute_result"
    }
   ],
   "source": [
    "time_dict={}\n",
    "print(\"Done for: \")\n",
    "for i in range(5, 26, 2):\n",
    "    randoms = []\n",
    "    sum_of_weight = 0\n",
    "    for element in range(i):\n",
    "        weight = random.randint(1,1000)\n",
    "        sum_of_weight+=weight\n",
    "        randoms.append([weight, random.randint(0,9)])\n",
    "        \n",
    "    #brute foce time measuring\n",
    "    t = Timer(lambda: brute_force_algorithm(randoms, int(0.75*sum_of_weight)))\n",
    "    time_dict[i] = [t.timeit(number = 3)/3]\n",
    "    \n",
    "    #greedy algorith time measuring\n",
    "    t = Timer(lambda: greedy_algorithm(randoms, int(0.75*sum_of_weight)))\n",
    "    time_dict[i].append(t.timeit(number = 10)/10)\n",
    "    \n",
    "    #dynamic algorithm time measuring\n",
    "    t = Timer(lambda: dynamic_algorithm(randoms, int(0.75*sum_of_weight)))\n",
    "    time_dict[i].append(t.timeit(number = 10)/10)\n",
    "    print(i, end=' ')\n",
    "    \n",
    "    \n",
    "time_df = pd.DataFrame.from_dict(orient='index', data=time_dict, columns=['Brute Force', 'Greedy approach', 'Dynamic algorithm'])\n",
    "time_df"
   ]
  },
  {
   "cell_type": "markdown",
   "metadata": {},
   "source": [
    "#### 2.2 Time complexity results shown on plot"
   ]
  },
  {
   "cell_type": "code",
   "execution_count": 169,
   "metadata": {},
   "outputs": [
    {
     "data": {
      "image/png": "[encoded data removed]",
      "text/plain": [
       "<Figure size 720x720 with 1 Axes>"
      ]
     },
     "metadata": {
      "needs_background": "light"
     },
     "output_type": "display_data"
    }
   ],
   "source": [
    "plt.figure(figsize=(10,10))\n",
    "sns.lineplot(data=time_df)\n",
    "plt.xlabel('n')\n",
    "plt.ylabel('t')\n",
    "plt.yscale('log')\n",
    "plt.title('Time comparison of 3 knapsack algorithms, log-transformed y-axis')\n",
    "plt.show()"
   ]
  },
  {
   "cell_type": "markdown",
   "metadata": {},
   "source": [
    "## 3. Comparison of greedy and dynamic algorithm \n",
    "#### Greedy algorithm not always produces the right result, it is an approximation of the right result which is always provided by dynamic algorithm and brute force"
   ]
  },
  {
   "cell_type": "code",
   "execution_count": 170,
   "metadata": {},
   "outputs": [
    {
     "name": "stdout",
     "output_type": "stream",
     "text": [
      "Computed for: \n",
      "10 15 20 25 30 35 40 45 50 55 60 65 70 75 80 85 90 95 100 105 110 115 120 125 130 135 140 145 150 \n",
      "Number of examples where approximation executed the same result as optimal - dynamic solution:  28\n"
     ]
    }
   ],
   "source": [
    "count_same_output=0\n",
    "compare_dict={}\n",
    "print(\"Computed for: \")\n",
    "for i in range(10, 151, 5):\n",
    "    randoms = []\n",
    "    sum_of_weight = 0\n",
    "    for element in range(i):\n",
    "        weight = random.randint(1,1000)\n",
    "        sum_of_weight+=weight\n",
    "        randoms.append([weight, random.randint(0,9)])\n",
    "        \n",
    "    return_greedy = greedy_algorithm(randoms, int(0.75*sum_of_weight))\n",
    "    return_dynamic = dynamic_algorithm(randoms, int(0.75*sum_of_weight))\n",
    "    \n",
    "    compare_dict[int(0.75*sum_of_weight)] = [return_greedy, return_dynamic, abs(return_greedy-return_dynamic)]\n",
    "    if return_greedy == return_dynamic:\n",
    "        count_same_output+=1\n",
    "        compare_dict[int(0.75*sum_of_weight)].append(\"yes\")\n",
    "    else:\n",
    "        compare_dict[int(0.75*sum_of_weight)].append(\"no\")\n",
    "    print(i, end=' ')\n",
    "        \n",
    "print(\"\\nNumber of examples where approximation executed the same result as optimal - dynamic solution: \", count_same_output)"
   ]
  },
  {
   "cell_type": "code",
   "execution_count": 171,
   "metadata": {
    "scrolled": true
   },
   "outputs": [
    {
     "data": {
      "text/html": [
       "<div>\n",
       "<style scoped>\n",
       "    .dataframe tbody tr th:only-of-type {\n",
       "        vertical-align: middle;\n",
       "    }\n",
       "\n",
       "    .dataframe tbody tr th {\n",
       "        vertical-align: top;\n",
       "    }\n",
       "\n",
       "    .dataframe thead th {\n",
       "        text-align: right;\n",
       "    }\n",
       "</style>\n",
       "<table border=\"1\" class=\"dataframe\">\n",
       "  <thead>\n",
       "    <tr style=\"text-align: right;\">\n",
       "      <th></th>\n",
       "      <th>Greedy</th>\n",
       "      <th>Dynamic</th>\n",
       "      <th>Error</th>\n",
       "      <th>The same value</th>\n",
       "    </tr>\n",
       "  </thead>\n",
       "  <tbody>\n",
       "    <tr>\n",
       "      <th>3983</th>\n",
       "      <td>43</td>\n",
       "      <td>43</td>\n",
       "      <td>0</td>\n",
       "      <td>yes</td>\n",
       "    </tr>\n",
       "    <tr>\n",
       "      <th>6267</th>\n",
       "      <td>75</td>\n",
       "      <td>75</td>\n",
       "      <td>0</td>\n",
       "      <td>yes</td>\n",
       "    </tr>\n",
       "    <tr>\n",
       "      <th>6857</th>\n",
       "      <td>100</td>\n",
       "      <td>100</td>\n",
       "      <td>0</td>\n",
       "      <td>yes</td>\n",
       "    </tr>\n",
       "    <tr>\n",
       "      <th>10650</th>\n",
       "      <td>123</td>\n",
       "      <td>123</td>\n",
       "      <td>0</td>\n",
       "      <td>yes</td>\n",
       "    </tr>\n",
       "    <tr>\n",
       "      <th>10689</th>\n",
       "      <td>122</td>\n",
       "      <td>122</td>\n",
       "      <td>0</td>\n",
       "      <td>yes</td>\n",
       "    </tr>\n",
       "    <tr>\n",
       "      <th>13632</th>\n",
       "      <td>157</td>\n",
       "      <td>158</td>\n",
       "      <td>1</td>\n",
       "      <td>no</td>\n",
       "    </tr>\n",
       "    <tr>\n",
       "      <th>15384</th>\n",
       "      <td>164</td>\n",
       "      <td>164</td>\n",
       "      <td>0</td>\n",
       "      <td>yes</td>\n",
       "    </tr>\n",
       "    <tr>\n",
       "      <th>15701</th>\n",
       "      <td>230</td>\n",
       "      <td>230</td>\n",
       "      <td>0</td>\n",
       "      <td>yes</td>\n",
       "    </tr>\n",
       "    <tr>\n",
       "      <th>18665</th>\n",
       "      <td>213</td>\n",
       "      <td>213</td>\n",
       "      <td>0</td>\n",
       "      <td>yes</td>\n",
       "    </tr>\n",
       "    <tr>\n",
       "      <th>22189</th>\n",
       "      <td>257</td>\n",
       "      <td>257</td>\n",
       "      <td>0</td>\n",
       "      <td>yes</td>\n",
       "    </tr>\n",
       "    <tr>\n",
       "      <th>23577</th>\n",
       "      <td>233</td>\n",
       "      <td>233</td>\n",
       "      <td>0</td>\n",
       "      <td>yes</td>\n",
       "    </tr>\n",
       "    <tr>\n",
       "      <th>24608</th>\n",
       "      <td>274</td>\n",
       "      <td>274</td>\n",
       "      <td>0</td>\n",
       "      <td>yes</td>\n",
       "    </tr>\n",
       "    <tr>\n",
       "      <th>26290</th>\n",
       "      <td>285</td>\n",
       "      <td>285</td>\n",
       "      <td>0</td>\n",
       "      <td>yes</td>\n",
       "    </tr>\n",
       "    <tr>\n",
       "      <th>28507</th>\n",
       "      <td>364</td>\n",
       "      <td>364</td>\n",
       "      <td>0</td>\n",
       "      <td>yes</td>\n",
       "    </tr>\n",
       "    <tr>\n",
       "      <th>26450</th>\n",
       "      <td>369</td>\n",
       "      <td>369</td>\n",
       "      <td>0</td>\n",
       "      <td>yes</td>\n",
       "    </tr>\n",
       "    <tr>\n",
       "      <th>35070</th>\n",
       "      <td>342</td>\n",
       "      <td>342</td>\n",
       "      <td>0</td>\n",
       "      <td>yes</td>\n",
       "    </tr>\n",
       "    <tr>\n",
       "      <th>33848</th>\n",
       "      <td>427</td>\n",
       "      <td>427</td>\n",
       "      <td>0</td>\n",
       "      <td>yes</td>\n",
       "    </tr>\n",
       "    <tr>\n",
       "      <th>35594</th>\n",
       "      <td>408</td>\n",
       "      <td>408</td>\n",
       "      <td>0</td>\n",
       "      <td>yes</td>\n",
       "    </tr>\n",
       "    <tr>\n",
       "      <th>36657</th>\n",
       "      <td>437</td>\n",
       "      <td>437</td>\n",
       "      <td>0</td>\n",
       "      <td>yes</td>\n",
       "    </tr>\n",
       "    <tr>\n",
       "      <th>38999</th>\n",
       "      <td>524</td>\n",
       "      <td>524</td>\n",
       "      <td>0</td>\n",
       "      <td>yes</td>\n",
       "    </tr>\n",
       "    <tr>\n",
       "      <th>38494</th>\n",
       "      <td>439</td>\n",
       "      <td>439</td>\n",
       "      <td>0</td>\n",
       "      <td>yes</td>\n",
       "    </tr>\n",
       "    <tr>\n",
       "      <th>44649</th>\n",
       "      <td>532</td>\n",
       "      <td>532</td>\n",
       "      <td>0</td>\n",
       "      <td>yes</td>\n",
       "    </tr>\n",
       "    <tr>\n",
       "      <th>43416</th>\n",
       "      <td>530</td>\n",
       "      <td>530</td>\n",
       "      <td>0</td>\n",
       "      <td>yes</td>\n",
       "    </tr>\n",
       "    <tr>\n",
       "      <th>45873</th>\n",
       "      <td>553</td>\n",
       "      <td>553</td>\n",
       "      <td>0</td>\n",
       "      <td>yes</td>\n",
       "    </tr>\n",
       "    <tr>\n",
       "      <th>49509</th>\n",
       "      <td>522</td>\n",
       "      <td>522</td>\n",
       "      <td>0</td>\n",
       "      <td>yes</td>\n",
       "    </tr>\n",
       "    <tr>\n",
       "      <th>52188</th>\n",
       "      <td>592</td>\n",
       "      <td>592</td>\n",
       "      <td>0</td>\n",
       "      <td>yes</td>\n",
       "    </tr>\n",
       "    <tr>\n",
       "      <th>52716</th>\n",
       "      <td>699</td>\n",
       "      <td>699</td>\n",
       "      <td>0</td>\n",
       "      <td>yes</td>\n",
       "    </tr>\n",
       "    <tr>\n",
       "      <th>53936</th>\n",
       "      <td>618</td>\n",
       "      <td>618</td>\n",
       "      <td>0</td>\n",
       "      <td>yes</td>\n",
       "    </tr>\n",
       "    <tr>\n",
       "      <th>56151</th>\n",
       "      <td>640</td>\n",
       "      <td>640</td>\n",
       "      <td>0</td>\n",
       "      <td>yes</td>\n",
       "    </tr>\n",
       "  </tbody>\n",
       "</table>\n",
       "</div>"
      ],
      "text/plain": [
       "       Greedy  Dynamic  Error The same value\n",
       "3983       43       43      0            yes\n",
       "6267       75       75      0            yes\n",
       "6857      100      100      0            yes\n",
       "10650     123      123      0            yes\n",
       "10689     122      122      0            yes\n",
       "13632     157      158      1             no\n",
       "15384     164      164      0            yes\n",
       "15701     230      230      0            yes\n",
       "18665     213      213      0            yes\n",
       "22189     257      257      0            yes\n",
       "23577     233      233      0            yes\n",
       "24608     274      274      0            yes\n",
       "26290     285      285      0            yes\n",
       "28507     364      364      0            yes\n",
       "26450     369      369      0            yes\n",
       "35070     342      342      0            yes\n",
       "33848     427      427      0            yes\n",
       "35594     408      408      0            yes\n",
       "36657     437      437      0            yes\n",
       "38999     524      524      0            yes\n",
       "38494     439      439      0            yes\n",
       "44649     532      532      0            yes\n",
       "43416     530      530      0            yes\n",
       "45873     553      553      0            yes\n",
       "49509     522      522      0            yes\n",
       "52188     592      592      0            yes\n",
       "52716     699      699      0            yes\n",
       "53936     618      618      0            yes\n",
       "56151     640      640      0            yes"
      ]
     },
     "execution_count": 171,
     "metadata": {},
     "output_type": "execute_result"
    }
   ],
   "source": [
    "compare_df = pd.DataFrame.from_dict(orient='index', data=compare_dict, columns=['Greedy', 'Dynamic','Error', 'The same value'])\n",
    "compare_df"
   ]
  },
  {
   "cell_type": "markdown",
   "metadata": {},
   "source": [
    "## 4. Conclusions on the effectiveness of the methods"
   ]
  },
  {
   "cell_type": "markdown",
   "metadata": {},
   "source": [
    "Discussed below is an NP-Complete 0/1 Knapsack problem. \n",
    "We should start the comparison of the provided algorithms by briefly discussing the Brute Force algorithm. \n",
    "\n",
    "Brute Force is the most straight-forward solution, based on finding the powerset. Having the powerset allows us to compute every possible value and check if it meets the criteria. It relies on the very simple strategy, however, the time complexity of that approach is intolerable  - O(2^n). An exponential increase in time makes it practically useless (unless we have very small n i.e. less than ~15).\n",
    "\n",
    "The greedy algorithm grants us simple and fast solutions, though defective. It relies on calculating proportion: value/weight. We want to select the elements with the highest possible value/weight rate. Despite the simplicity and at first glance functioning solution, it does not always produce the highest value - the right solution. Its time complexity relies deeply on sorting algorithm used - because of this its time can fluctuate from O(n*logn) to O(n^2)\n",
    "\n",
    "The best strategy is to use dynamic programming. The dynamic solution is based on creating a two-dimensional array with values calculated by a recursive definition. The time complexity of this method is O(n*max_weight)."
   ]
  }
 ],
 "metadata": {
  "kernelspec": {
   "display_name": "Python 3",
   "language": "python",
   "name": "python3"
  },
  "language_info": {
   "codemirror_mode": {
    "name": "ipython",
    "version": 3
   },
   "file_extension": ".py",
   "mimetype": "text/x-python",
   "name": "python",
   "nbconvert_exporter": "python",
   "pygments_lexer": "ipython3",
   "version": "3.7.3"
  }
 },
 "nbformat": 4,
 "nbformat_minor": 2
}
