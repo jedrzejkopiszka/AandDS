{
 "cells": [
  {
   "cell_type": "markdown",
   "metadata": {},
   "source": [
    "# Exercise 4. Backtracking algorithms\n",
    "#### Algorithms ans Data Structures\n",
    "\n",
    "by Jędrzej Kopiszka, 145304\n",
    "10.06.2020"
   ]
  },
  {
   "cell_type": "code",
   "execution_count": 24,
   "metadata": {},
   "outputs": [],
   "source": [
    "from timeit import default_timer as timer #time measuring\n",
    "import concurrent.futures as futures #setting maximum execution time\n",
    "import pandas as pd # DataFrame for output representation\n",
    "import numpy as np \n",
    "import random # randomized element search\n",
    "import seaborn as sns # plotting\n",
    "import matplotlib.pyplot as plt #plotting"
   ]
  },
  {
   "cell_type": "markdown",
   "metadata": {},
   "source": [
    "## 1. Graph representation, connectivity check\n",
    "We can store graphs in different representations. For this exercise I use two methods: edge list in format [[a,b],[c,d]] and neighborhood matrix"
   ]
  },
  {
   "cell_type": "markdown",
   "metadata": {},
   "source": [
    "#### 1.1 Algorithms for different representation"
   ]
  },
  {
   "cell_type": "code",
   "execution_count": 25,
   "metadata": {},
   "outputs": [],
   "source": [
    "#list of incidents\n",
    "def list_of_incidents(directed, size, tab):\n",
    "    final_tab=[[] for i in range(size)]\n",
    "    if directed==True:\n",
    "        for vertex in tab:\n",
    "            final_tab[vertex[0]].append(vertex[1])\n",
    "          \n",
    "    else:\n",
    "        for vertex in tab:\n",
    "            final_tab[vertex[0]].append(vertex[1])\n",
    "            final_tab[vertex[1]].append(vertex[0])\n",
    "            \n",
    "    return final_tab"
   ]
  },
  {
   "cell_type": "code",
   "execution_count": 26,
   "metadata": {},
   "outputs": [],
   "source": [
    "#edge list\n",
    "def edge_list(directed, size, tab):\n",
    "    final_tab=[]\n",
    "    if directed==True:\n",
    "        final_tab=tab\n",
    "    else:\n",
    "        for vertex in tab:\n",
    "            final_tab.append(vertex)\n",
    "            final_tab.append([vertex[1], vertex[0]])\n",
    "    return final_tab"
   ]
  },
  {
   "cell_type": "code",
   "execution_count": 27,
   "metadata": {},
   "outputs": [],
   "source": [
    "#Neighborhood matrix (vertex matrix, adjacency matrix)\n",
    "def neighborhood_matrix(directed, size, tab):\n",
    "    final_tab = [[0 for j in range(size)] for i in range(size)]\n",
    "    if directed==False:\n",
    "        for vertex in tab:\n",
    "            final_tab[vertex[0]][vertex[1]]=1\n",
    "            final_tab[vertex[1]][vertex[0]]=1\n",
    "    else:\n",
    "        for vertex in tab:\n",
    "            final_tab[vertex[0]][vertex[1]]=1   \n",
    "    return final_tab"
   ]
  },
  {
   "cell_type": "code",
   "execution_count": 28,
   "metadata": {},
   "outputs": [],
   "source": [
    "#Incident matrix\n",
    "def incident_matrix(directed, size, tab):\n",
    "    final_tab=[[0 for i in range(len(tab))] for i in range(size)]\n",
    "    if directed==False:\n",
    "        edge_num=0\n",
    "        for vertex in tab:\n",
    "            final_tab[vertex[0]][edge_num]=1\n",
    "            final_tab[vertex[1]][edge_num]=1\n",
    "            edge_num+=1\n",
    "    else:\n",
    "        edge_num=0\n",
    "        for vertex in tab:\n",
    "            final_tab[vertex[0]][edge_num]=-1\n",
    "            final_tab[vertex[1]][edge_num]=1\n",
    "            edge_num+=1\n",
    "    return final_tab"
   ]
  },
  {
   "cell_type": "markdown",
   "metadata": {},
   "source": [
    "#### 1.2 Neighborhood matrix to edge list converter"
   ]
  },
  {
   "cell_type": "code",
   "execution_count": 29,
   "metadata": {},
   "outputs": [],
   "source": [
    "def neighborhood_to_list_of_edges(neighborhood):\n",
    "    edge=[]\n",
    "    for i in range(len(neighborhood)):\n",
    "        for j in range(len(neighborhood)):\n",
    "            if neighborhood[i][j]==1:\n",
    "                edge.append([i,j])\n",
    "    return edge"
   ]
  },
  {
   "cell_type": "markdown",
   "metadata": {},
   "source": [
    "#### 1.3 Connectivity check - if graph is connected"
   ]
  },
  {
   "cell_type": "code",
   "execution_count": 30,
   "metadata": {},
   "outputs": [],
   "source": [
    "#checking connectivity using list of edges representation\n",
    "def check_connectivity(edges,n):\n",
    "    visited = [0 for i in range(n)]\n",
    "    s=[]\n",
    "    vc=0\n",
    "    s.insert(0,0)\n",
    "    visited[0]=1\n",
    "    while(len(s)!=0):\n",
    "        v=s[0]\n",
    "        s.pop(0)\n",
    "        vc+=1\n",
    "        for edge in edges:\n",
    "            if edge[0]==v:\n",
    "                if visited[edge[1]]==1:\n",
    "                    continue\n",
    "                else:\n",
    "                    visited[edge[1]]=1\n",
    "                    s.insert(0,edge[1])\n",
    "            elif edge[1]==v:\n",
    "                if visited[edge[0]]==1:\n",
    "                    continue\n",
    "                else:\n",
    "                    visited[edge[0]]=1\n",
    "                    s.insert(0,edge[0])\n",
    "    if vc==n:\n",
    "        return True\n",
    "    else:\n",
    "        return False"
   ]
  },
  {
   "cell_type": "markdown",
   "metadata": {},
   "source": [
    "## 2. Eulerian circuit"
   ]
  },
  {
   "cell_type": "markdown",
   "metadata": {},
   "source": [
    "#### 2.1 Generate connected graphs with eulerian cycle for different saturations"
   ]
  },
  {
   "cell_type": "code",
   "execution_count": 31,
   "metadata": {},
   "outputs": [],
   "source": [
    "def generator_eulerian(n,saturation):\n",
    "    verticies = list(np.arange(n))\n",
    "    start = random.choice(verticies)\n",
    "    verticies.remove(start)\n",
    "    path=[start]\n",
    "    for i in range(n-1):\n",
    "        choice = random.choice(verticies)\n",
    "        verticies.remove(choice)\n",
    "        path.append(choice)\n",
    "    path.append(start)\n",
    "    edges=[]\n",
    "    for i in range(len(path)-1):\n",
    "        edges.append([path[i], path[i+1]])\n",
    "    neighborhood = neighborhood_matrix(False, n, edges) \n",
    "    l=n\n",
    "    stop=False\n",
    "    for i in range(n):\n",
    "        for j in range(i+1,n):\n",
    "            for z in range(j+1, n):\n",
    "                if neighborhood[i][j]!=1 and neighborhood[j][z]!=1 and neighborhood[z][i]!=1:\n",
    "                    neighborhood[i][j]=1\n",
    "                    neighborhood[j][i]=1\n",
    "                    neighborhood[j][z]=1\n",
    "                    neighborhood[z][j]=1\n",
    "                    neighborhood[z][i]=1\n",
    "                    neighborhood[i][z]=1\n",
    "                    l+=3\n",
    "                if  l>=(saturation*n*(n-1)*0.5):\n",
    "                    stop=True\n",
    "                    break\n",
    "            if stop==True:\n",
    "                break\n",
    "        if stop==True:\n",
    "            break         \n",
    "    return neighborhood"
   ]
  },
  {
   "cell_type": "markdown",
   "metadata": {},
   "source": [
    "#### 2.2 Find eulerian path - Fleury’s Algorithm"
   ]
  },
  {
   "cell_type": "code",
   "execution_count": 32,
   "metadata": {},
   "outputs": [],
   "source": [
    "#find eulerian circuit\n",
    "def find_start_vert(tmpGraph, n):\n",
    "    for i in range(n):\n",
    "        deg=0\n",
    "        for j in range(n):\n",
    "            if tmpGraph[i][j]==1:\n",
    "                deg+=1\n",
    "        if deg%2!=0:\n",
    "            return i\n",
    "    return 0\n",
    "\n",
    "def dfs(prev,start,visited, tmpGraph, n):\n",
    "    count=1\n",
    "    visited[start]=True\n",
    "    for u in range(n):\n",
    "        if prev!=u:\n",
    "            if visited[u]!=1:\n",
    "                if tmpGraph[start][u]==1:\n",
    "                    count+=dfs(start, u, visited, tmpGraph,n)\n",
    "    return count\n",
    "\n",
    "def isBridge(u,v,tmpGraph,n):\n",
    "    deg=0\n",
    "    for i in range(n):\n",
    "        if tmpGraph[v][i]==1:\n",
    "            deg+=1\n",
    "    if deg>1:\n",
    "        return False\n",
    "    return True\n",
    "\n",
    "def edgeCount(tmpGraph, n):\n",
    "    count=0\n",
    "    for i in range(n):\n",
    "        for j in range(n):\n",
    "            if tmpGraph[i][j]==1:\n",
    "                count+=1\n",
    "    return count\n",
    "\n",
    "def fleury_algorithm(start,tmpGraph, n):\n",
    "    edge=edgeCount(tmpGraph,n)\n",
    "    v_count = n\n",
    "    for v in range(n):\n",
    "        if tmpGraph[start][v]==1:\n",
    "            visited = [0 for i in range(n)] \n",
    "            if isBridge(start,v, tmpGraph, n)==1:\n",
    "                v_count-=1\n",
    "            cnt = dfs(start, v, visited, tmpGraph, n)\n",
    "            if abs(v_count-cnt)<=2:\n",
    "                return True\n",
    "                if isBridge(v,start, tmpGraph, n)==1:\n",
    "                    v_count-=1\n",
    "                tmpGraph[start][v]=0\n",
    "                tmpGraph[v][start]=0\n",
    "                edge-=1\n",
    "                fleury_algorithm(v, tmpGraph, n)\n",
    "\n",
    "def find_eulerian_circuit(graph,n):\n",
    "    tmpGraph = [[graph[i][j] for j in range(n)] for i in range(n)]\n",
    "    fleury_algorithm(find_start_vert(tmpGraph, n), tmpGraph, n)"
   ]
  },
  {
   "cell_type": "markdown",
   "metadata": {},
   "source": [
    "#### 2.3 Generate data for time-measuring"
   ]
  },
  {
   "cell_type": "code",
   "execution_count": 33,
   "metadata": {},
   "outputs": [],
   "source": [
    "def genertae_data_for_eulerian():\n",
    "    list_of_saturation=[0.2, 0.3, 0.4, 0.6, 0.8, 0.95]\n",
    "    dict_of_eulerian_graphs = {}\n",
    "    for n in list(np.arange(50,401, 50)):\n",
    "        dict_of_eulerian_graphs[n]=[]\n",
    "        print(\"\\ngenerating for n= \",n, end=' with ')\n",
    "        for i in range(len(list_of_saturation)): #generate saturation\n",
    "            dict_of_eulerian_graphs[n].append([])\n",
    "            print(\"sat:\", end=' ')\n",
    "            how_many=0\n",
    "            while(how_many<10):\n",
    "                graph = generator_eulerian(n,list_of_saturation[i]) #generate random graph, check connectivity\n",
    "                if check_connectivity(neighborhood_to_list_of_edges(graph), n)==1:\n",
    "                    dict_of_eulerian_graphs[n][i].append(graph) # add generated graph to dictionary\n",
    "                    how_many+=1\n",
    "            print(list_of_saturation[i], end=', ')\n",
    "    return dict_of_eulerian_graphs"
   ]
  },
  {
   "cell_type": "code",
   "execution_count": 34,
   "metadata": {},
   "outputs": [
    {
     "name": "stdout",
     "output_type": "stream",
     "text": [
      "\n",
      "generating for n=  50 with sat: 0.2, sat: 0.3, sat: 0.4, sat: 0.6, sat: 0.8, sat: 0.95, \n",
      "generating for n=  100 with sat: 0.2, sat: 0.3, sat: 0.4, sat: 0.6, sat: 0.8, sat: 0.95, \n",
      "generating for n=  150 with sat: 0.2, sat: 0.3, sat: 0.4, sat: 0.6, sat: 0.8, sat: 0.95, \n",
      "generating for n=  200 with sat: 0.2, sat: 0.3, sat: 0.4, sat: 0.6, sat: 0.8, sat: 0.95, \n",
      "generating for n=  250 with sat: 0.2, sat: 0.3, sat: 0.4, sat: 0.6, sat: 0.8, sat: 0.95, \n",
      "generating for n=  300 with sat: 0.2, sat: 0.3, sat: 0.4, sat: 0.6, sat: 0.8, sat: 0.95, \n",
      "generating for n=  350 with sat: 0.2, sat: 0.3, sat: 0.4, sat: 0.6, sat: 0.8, sat: 0.95, \n",
      "generating for n=  400 with sat: 0.2, sat: 0.3, sat: 0.4, sat: 0.6, sat: 0.8, sat: 0.95, "
     ]
    }
   ],
   "source": [
    "dict_of_eulerian = genertae_data_for_eulerian()"
   ]
  },
  {
   "cell_type": "markdown",
   "metadata": {},
   "source": [
    "#### 2.4 Measure the time of finding eulerian cycle in connected graph for different sizes and saturations"
   ]
  },
  {
   "cell_type": "code",
   "execution_count": 35,
   "metadata": {},
   "outputs": [
    {
     "name": "stdout",
     "output_type": "stream",
     "text": [
      "\n",
      " Done for key 50 saturation: 1, 2, 3, 4, 5, 6, \n",
      " Done for key 100 saturation: 1, 2, 3, 4, 5, 6, \n",
      " Done for key 150 saturation: 1, 2, 3, 4, 5, 6, \n",
      " Done for key 200 saturation: 1, 2, 3, 4, 5, 6, \n",
      " Done for key 250 saturation: 1, 2, 3, 4, 5, 6, \n",
      " Done for key 300 saturation: 1, 2, 3, 4, 5, 6, \n",
      " Done for key 350 saturation: 1, 2, 3, 4, 5, 6, \n",
      " Done for key 400 saturation: 1, 2, 3, 4, 5, 6, "
     ]
    }
   ],
   "source": [
    "times_eulerian={}\n",
    "for key in dict_of_eulerian.keys():\n",
    "    times_eulerian[key]=[]\n",
    "    print(\"\\n Done for key\", key, \"saturation: \", end='')\n",
    "    itera=0\n",
    "    for saturation in dict_of_eulerian[key]:\n",
    "        mean_time=0\n",
    "        itera+=1\n",
    "        for graph in saturation:\n",
    "            def test():\n",
    "                    start=timer()\n",
    "                    a = find_eulerian_circuit(graph,key)\n",
    "                    end = timer()\n",
    "                    return end-start\n",
    "            with futures.ThreadPoolExecutor(max_workers=1) as executor:\n",
    "                future = executor.submit(test)\n",
    "                try:\n",
    "                    resp = future.result(60*5)\n",
    "                except futures.TimeoutError:\n",
    "                    mean_time+=60*5\n",
    "                else:\n",
    "                    mean_time+=resp\n",
    "                executor._threads.clear()\n",
    "                futures.thread._threads_queues.clear()\n",
    "        mean_time/=10\n",
    "        times_eulerian[key].append(mean_time)\n",
    "        print(itera, end=\", \")"
   ]
  },
  {
   "cell_type": "markdown",
   "metadata": {},
   "source": [
    "#### 2.5 Execution times - dataframe and plot"
   ]
  },
  {
   "cell_type": "code",
   "execution_count": 36,
   "metadata": {},
   "outputs": [
    {
     "data": {
      "text/html": [
       "<div>\n",
       "<style scoped>\n",
       "    .dataframe tbody tr th:only-of-type {\n",
       "        vertical-align: middle;\n",
       "    }\n",
       "\n",
       "    .dataframe tbody tr th {\n",
       "        vertical-align: top;\n",
       "    }\n",
       "\n",
       "    .dataframe thead th {\n",
       "        text-align: right;\n",
       "    }\n",
       "</style>\n",
       "<table border=\"1\" class=\"dataframe\">\n",
       "  <thead>\n",
       "    <tr style=\"text-align: right;\">\n",
       "      <th></th>\n",
       "      <th>0.2</th>\n",
       "      <th>0.3</th>\n",
       "      <th>0.4</th>\n",
       "      <th>0.6</th>\n",
       "      <th>0.8</th>\n",
       "      <th>0.95</th>\n",
       "    </tr>\n",
       "  </thead>\n",
       "  <tbody>\n",
       "    <tr>\n",
       "      <th>50</th>\n",
       "      <td>0.001017</td>\n",
       "      <td>0.000770</td>\n",
       "      <td>0.000678</td>\n",
       "      <td>0.000760</td>\n",
       "      <td>0.000788</td>\n",
       "      <td>0.000787</td>\n",
       "    </tr>\n",
       "    <tr>\n",
       "      <th>100</th>\n",
       "      <td>0.002186</td>\n",
       "      <td>0.002248</td>\n",
       "      <td>0.002270</td>\n",
       "      <td>0.002415</td>\n",
       "      <td>0.002845</td>\n",
       "      <td>0.002912</td>\n",
       "    </tr>\n",
       "    <tr>\n",
       "      <th>150</th>\n",
       "      <td>0.005164</td>\n",
       "      <td>0.004885</td>\n",
       "      <td>0.005640</td>\n",
       "      <td>0.005542</td>\n",
       "      <td>0.005678</td>\n",
       "      <td>0.005634</td>\n",
       "    </tr>\n",
       "    <tr>\n",
       "      <th>200</th>\n",
       "      <td>0.008819</td>\n",
       "      <td>0.009310</td>\n",
       "      <td>0.009885</td>\n",
       "      <td>0.008938</td>\n",
       "      <td>0.009440</td>\n",
       "      <td>0.010296</td>\n",
       "    </tr>\n",
       "    <tr>\n",
       "      <th>250</th>\n",
       "      <td>0.013277</td>\n",
       "      <td>0.013958</td>\n",
       "      <td>0.013709</td>\n",
       "      <td>0.013995</td>\n",
       "      <td>0.013741</td>\n",
       "      <td>0.015851</td>\n",
       "    </tr>\n",
       "    <tr>\n",
       "      <th>300</th>\n",
       "      <td>0.018917</td>\n",
       "      <td>0.020554</td>\n",
       "      <td>0.020338</td>\n",
       "      <td>0.022374</td>\n",
       "      <td>0.021665</td>\n",
       "      <td>0.022518</td>\n",
       "    </tr>\n",
       "    <tr>\n",
       "      <th>350</th>\n",
       "      <td>0.026010</td>\n",
       "      <td>0.026801</td>\n",
       "      <td>0.029146</td>\n",
       "      <td>0.027447</td>\n",
       "      <td>0.029336</td>\n",
       "      <td>0.029787</td>\n",
       "    </tr>\n",
       "    <tr>\n",
       "      <th>400</th>\n",
       "      <td>0.037306</td>\n",
       "      <td>0.034014</td>\n",
       "      <td>0.038614</td>\n",
       "      <td>0.040719</td>\n",
       "      <td>0.042464</td>\n",
       "      <td>0.042983</td>\n",
       "    </tr>\n",
       "  </tbody>\n",
       "</table>\n",
       "</div>"
      ],
      "text/plain": [
       "         0.20      0.30      0.40      0.60      0.80      0.95\n",
       "50   0.001017  0.000770  0.000678  0.000760  0.000788  0.000787\n",
       "100  0.002186  0.002248  0.002270  0.002415  0.002845  0.002912\n",
       "150  0.005164  0.004885  0.005640  0.005542  0.005678  0.005634\n",
       "200  0.008819  0.009310  0.009885  0.008938  0.009440  0.010296\n",
       "250  0.013277  0.013958  0.013709  0.013995  0.013741  0.015851\n",
       "300  0.018917  0.020554  0.020338  0.022374  0.021665  0.022518\n",
       "350  0.026010  0.026801  0.029146  0.027447  0.029336  0.029787\n",
       "400  0.037306  0.034014  0.038614  0.040719  0.042464  0.042983"
      ]
     },
     "execution_count": 36,
     "metadata": {},
     "output_type": "execute_result"
    }
   ],
   "source": [
    "df_eulerian = pd.DataFrame.from_dict(orient='index',data=times_eulerian, columns=[0.2,0.3,0.4,0.6,0.8,0.95])\n",
    "df_eulerian"
   ]
  },
  {
   "cell_type": "code",
   "execution_count": null,
   "metadata": {},
   "outputs": [],
   "source": [
    "df_eulerian= df_eulerian.reset_index().melt('index', var_name='saturation',value_name='t=f(n)')\n",
    "\n",
    "plt.figure(figsize=(8,5))\n",
    "sns.swarmplot(x='index', y='t=f(n)', hue='saturation', data=df_eulerian)\n",
    "plt.title(\"Execution time comparison of Fleury-s Algorithm on n elements with various saturation\")\n",
    "plt.ylabel(\"t=f(n) [s]\")\n",
    "plt.xlabel(\"n\")\n",
    "plt.show()"
   ]
  },
  {
   "cell_type": "markdown",
   "metadata": {},
   "source": [
    "#### 2.6 Conclusions on graph representation"
   ]
  },
  {
   "cell_type": "markdown",
   "metadata": {},
   "source": [
    "In the analysis, I use two graph representation methods: edge list and neighborhood matrix. \n",
    "Both methods are easily understandable and the most popular- unqualified readers should have no problem with understanding the representation or finding information about them - that is an advantage over the \"incident matrix\" and \"list of incidents\" whose representation may be confusing.\n",
    "\n",
    "When it comes to performance - the biggest difference is in accessing or iterating through the representation when checking if a specific pair of vertices is already an edge. Edge list is accessed linearly meaning each time we need to go through the whole list to find if the list contains that pair. In neighborhood matrix, we can access specific pair by [i][j]==1 or [i][j]==0. That is much faster, especially works much better in generating random graphs which is done partially by looking for a pair that does not have an edge."
   ]
  },
  {
   "cell_type": "markdown",
   "metadata": {},
   "source": [
    "## 3. Hamiltonian cycle"
   ]
  },
  {
   "cell_type": "markdown",
   "metadata": {},
   "source": [
    "#### 3.1  Random, connected graph with varius saturation - generator function"
   ]
  },
  {
   "cell_type": "code",
   "execution_count": 37,
   "metadata": {},
   "outputs": [],
   "source": [
    "#generate connected for checking if is hamiltonian\n",
    "def generate_connected(n,saturation):\n",
    "    verticies = list(np.arange(n))\n",
    "    start = random.choice(verticies)\n",
    "    verticies.remove(start)\n",
    "    path=[start]\n",
    "    for i in range(n-1):\n",
    "        choice = random.choice(verticies)\n",
    "        verticies.remove(choice)\n",
    "        path.append(choice)\n",
    "    path.append(start)\n",
    "    edges=[]\n",
    "    for i in range(len(path)-1):\n",
    "        edges.append([path[i], path[i+1]]) \n",
    "    every_permutation=[]\n",
    "    for i in range(n):\n",
    "        for j in range(i, n):\n",
    "            if i!=j:\n",
    "                every_permutation.append([i,j])\n",
    "    while(len(edges)<((saturation*n*(n-1))/2)):\n",
    "        a=random.choice(every_permutation)\n",
    "        if a not in edges and [a[1],a[0]] not in edges:\n",
    "            edges.append(a)\n",
    "            every_permutation.remove(a)\n",
    "            \n",
    "    return edges"
   ]
  },
  {
   "cell_type": "markdown",
   "metadata": {},
   "source": [
    "#### 3.2 Finding Hamiltonian cycle - backtracking algorithm"
   ]
  },
  {
   "cell_type": "code",
   "execution_count": 38,
   "metadata": {},
   "outputs": [],
   "source": [
    "#checks if contains hamiltonian\n",
    "def isValid(v,k, graph, path):\n",
    "    if graph[path[k-1]][v]==0:\n",
    "        return False\n",
    "    for i in range(k):\n",
    "        if path[i]==v:\n",
    "            return False\n",
    "    return True\n",
    "\n",
    "def cycle_found(k, graph,n, path):\n",
    "    if k==n:\n",
    "        if graph[path[k-1]][path[0]]==1:\n",
    "            return True\n",
    "        else:\n",
    "            return False\n",
    "    for v in range(n):\n",
    "        if isValid(v,k, graph,path)==True:\n",
    "            path[k] = v\n",
    "            if cycle_found(k+1, graph,n, path)==True:\n",
    "                return True\n",
    "            path[k]=-1\n",
    "    return False\n",
    "\n",
    "\n",
    "def hamilton_cycle(graph,n):\n",
    "    path=[0 for i in range(n)]\n",
    "    for i in range(n):\n",
    "        path[i]=-1\n",
    "    path[0]=0\n",
    "    if cycle_found(1, graph,n, path)==False:\n",
    "        return \"yes\"\n",
    "    else:\n",
    "        return \"no\"\n",
    "    "
   ]
  },
  {
   "cell_type": "markdown",
   "metadata": {},
   "source": [
    "#### 3.3 Generating random, connected graphs with different saturation and size, 10 graphs each combination"
   ]
  },
  {
   "cell_type": "code",
   "execution_count": 39,
   "metadata": {},
   "outputs": [],
   "source": [
    "def genertae_data_for_hamilton():\n",
    "    list_of_saturation=[0.2, 0.3, 0.4, 0.6, 0.8, 0.95]\n",
    "    dict_of_connected_graphs = {}\n",
    "    for n in list(np.arange(50,311, 20)):\n",
    "        dict_of_connected_graphs[n]=[]\n",
    "        print(\"\\ngenerating for n= \",n, end=' with ')\n",
    "        for i in range(len(list_of_saturation)): #generate saturation\n",
    "            dict_of_connected_graphs[n].append([])\n",
    "            print(\"sat:\", end=' ')\n",
    "            how_many=0\n",
    "            while(how_many<10):\n",
    "                graph = generate_connected(n,list_of_saturation[i]) #generate random graph\n",
    "                if check_connectivity(graph, n)==True: #check connectivity of graph\n",
    "                    graph = neighborhood_matrix(False, n, graph) #change representation to neighborhood matrix\n",
    "                    dict_of_connected_graphs[n][i].append(graph) # add generated graph to dictionary\n",
    "                    how_many+=1\n",
    "            print(list_of_saturation[i], end=', ')\n",
    "    return dict_of_connected_graphs"
   ]
  },
  {
   "cell_type": "code",
   "execution_count": 40,
   "metadata": {},
   "outputs": [
    {
     "name": "stdout",
     "output_type": "stream",
     "text": [
      "\n",
      "generating for n=  50 with sat: 0.2, sat: 0.3, sat: 0.4, sat: 0.6, sat: 0.8, sat: 0.95, \n",
      "generating for n=  70 with sat: 0.2, sat: 0.3, sat: 0.4, sat: 0.6, sat: 0.8, sat: 0.95, \n",
      "generating for n=  90 with sat: 0.2, sat: 0.3, sat: 0.4, sat: 0.6, sat: 0.8, sat: 0.95, \n",
      "generating for n=  110 with sat: 0.2, sat: 0.3, sat: 0.4, sat: 0.6, sat: 0.8, sat: 0.95, \n",
      "generating for n=  130 with sat: 0.2, sat: 0.3, sat: 0.4, sat: 0.6, sat: 0.8, sat: 0.95, \n",
      "generating for n=  150 with sat: 0.2, sat: 0.3, sat: 0.4, sat: 0.6, sat: 0.8, sat: 0.95, \n",
      "generating for n=  170 with sat: 0.2, sat: 0.3, sat: 0.4, sat: 0.6, sat: 0.8, sat: 0.95, \n",
      "generating for n=  190 with sat: 0.2, sat: 0.3, sat: 0.4, sat: 0.6, sat: 0.8, sat: 0.95, \n",
      "generating for n=  210 with sat: 0.2, sat: 0.3, sat: 0.4, sat: 0.6, sat: 0.8, sat: 0.95, \n",
      "generating for n=  230 with sat: 0.2, sat: 0.3, sat: 0.4, sat: 0.6, sat: 0.8, sat: 0.95, \n",
      "generating for n=  250 with sat: 0.2, sat: 0.3, sat: 0.4, sat: 0.6, sat: 0.8, sat: 0.95, \n",
      "generating for n=  270 with sat: 0.2, sat: 0.3, sat: 0.4, sat: 0.6, sat: 0.8, sat: 0.95, \n",
      "generating for n=  290 with sat: 0.2, sat: 0.3, sat: 0.4, sat: 0.6, sat: 0.8, sat: 0.95, \n",
      "generating for n=  310 with sat: 0.2, sat: 0.3, sat: 0.4, sat: 0.6, sat: 0.8, sat: 0.95, "
     ]
    }
   ],
   "source": [
    "dict_of_graphs = genertae_data_for_hamilton() #generate data using the function above"
   ]
  },
  {
   "cell_type": "markdown",
   "metadata": {},
   "source": [
    "#### 3.4 Time-measuring for finding Hamiltonian cycle "
   ]
  },
  {
   "cell_type": "code",
   "execution_count": 41,
   "metadata": {},
   "outputs": [
    {
     "name": "stdout",
     "output_type": "stream",
     "text": [
      "\n",
      "Done for key 50 saturation: 1, 2, 3, 4, 5, 6, \n",
      "Done for key 70 saturation: 1, 2, 3, 4, 5, 6, \n",
      "Done for key 90 saturation: 1, 2, 3, 4, 5, 6, \n",
      "Done for key 110 saturation: 1, 2, 3, 4, 5, 6, \n",
      "Done for key 130 saturation: 1, 2, 3, 4, 5, 6, \n",
      "Done for key 150 saturation: 1, 2, 3, 4, 5, 6, \n",
      "Done for key 170 saturation: 1, 2, 3, 4, 5, 6, \n",
      "Done for key 190 saturation: 1, 2, 3, 4, 5, 6, \n",
      "Done for key 210 saturation: 1, 2, 3, 4, 5, 6, \n",
      "Done for key 230 saturation: 1, 2, 3, 4, 5, 6, \n",
      "Done for key 250 saturation: 1, 2, 3, 4, 5, 6, \n",
      "Done for key 270 saturation: 1, 2, 3, 4, 5, 6, \n",
      "Done for key 290 saturation: 1, 2, 3, 4, 5, 6, \n",
      "Done for key 310 saturation: 1, 2, 3, 4, 5, 6, "
     ]
    }
   ],
   "source": [
    "times_hamiltonian={}\n",
    "for key in dict_of_graphs.keys():\n",
    "    times_hamiltonian[key]=[]\n",
    "    print(\"\\nDone for key\", key, \"saturation: \", end='')\n",
    "    itera=0\n",
    "    for saturation in dict_of_graphs[key]:\n",
    "        mean_time=0\n",
    "        itera+=1\n",
    "        for graph in saturation:\n",
    "            def test():\n",
    "                    start=timer()\n",
    "                    a = hamilton_cycle(graph,key)\n",
    "                    end = timer()\n",
    "                    return end-start\n",
    "            with futures.ThreadPoolExecutor(max_workers=1) as executor:\n",
    "                future = executor.submit(test)\n",
    "                try:\n",
    "                    resp = future.result(60*2)\n",
    "                except futures.TimeoutError:\n",
    "                    mean_time+=60*2\n",
    "                else:\n",
    "                    mean_time+=resp\n",
    "                executor._threads.clear()\n",
    "                futures.thread._threads_queues.clear()\n",
    "        mean_time/=10\n",
    "        times_hamiltonian[key].append(mean_time)\n",
    "        print(itera, end=\", \")"
   ]
  },
  {
   "cell_type": "markdown",
   "metadata": {},
   "source": [
    "#### 3.5 Execution time - dataframe and plot"
   ]
  },
  {
   "cell_type": "code",
   "execution_count": 42,
   "metadata": {
    "scrolled": false
   },
   "outputs": [
    {
     "data": {
      "text/html": [
       "<div>\n",
       "<style scoped>\n",
       "    .dataframe tbody tr th:only-of-type {\n",
       "        vertical-align: middle;\n",
       "    }\n",
       "\n",
       "    .dataframe tbody tr th {\n",
       "        vertical-align: top;\n",
       "    }\n",
       "\n",
       "    .dataframe thead th {\n",
       "        text-align: right;\n",
       "    }\n",
       "</style>\n",
       "<table border=\"1\" class=\"dataframe\">\n",
       "  <thead>\n",
       "    <tr style=\"text-align: right;\">\n",
       "      <th></th>\n",
       "      <th>0.2</th>\n",
       "      <th>0.3</th>\n",
       "      <th>0.4</th>\n",
       "      <th>0.6</th>\n",
       "      <th>0.8</th>\n",
       "      <th>0.95</th>\n",
       "    </tr>\n",
       "  </thead>\n",
       "  <tbody>\n",
       "    <tr>\n",
       "      <th>50</th>\n",
       "      <td>87.078406</td>\n",
       "      <td>36.565236</td>\n",
       "      <td>11.460041</td>\n",
       "      <td>0.035389</td>\n",
       "      <td>0.001128</td>\n",
       "      <td>0.001164</td>\n",
       "    </tr>\n",
       "    <tr>\n",
       "      <th>70</th>\n",
       "      <td>87.675911</td>\n",
       "      <td>27.936988</td>\n",
       "      <td>36.002368</td>\n",
       "      <td>0.004304</td>\n",
       "      <td>0.004323</td>\n",
       "      <td>0.003722</td>\n",
       "    </tr>\n",
       "    <tr>\n",
       "      <th>90</th>\n",
       "      <td>96.730796</td>\n",
       "      <td>50.656808</td>\n",
       "      <td>12.968772</td>\n",
       "      <td>0.005103</td>\n",
       "      <td>0.004478</td>\n",
       "      <td>0.005849</td>\n",
       "    </tr>\n",
       "    <tr>\n",
       "      <th>110</th>\n",
       "      <td>120.000000</td>\n",
       "      <td>49.001494</td>\n",
       "      <td>7.235499</td>\n",
       "      <td>11.150174</td>\n",
       "      <td>0.008511</td>\n",
       "      <td>0.009292</td>\n",
       "    </tr>\n",
       "    <tr>\n",
       "      <th>130</th>\n",
       "      <td>100.639529</td>\n",
       "      <td>25.863429</td>\n",
       "      <td>32.302781</td>\n",
       "      <td>0.384193</td>\n",
       "      <td>0.077104</td>\n",
       "      <td>0.057024</td>\n",
       "    </tr>\n",
       "    <tr>\n",
       "      <th>150</th>\n",
       "      <td>120.000000</td>\n",
       "      <td>61.796531</td>\n",
       "      <td>32.850287</td>\n",
       "      <td>0.565783</td>\n",
       "      <td>0.680956</td>\n",
       "      <td>0.893295</td>\n",
       "    </tr>\n",
       "    <tr>\n",
       "      <th>170</th>\n",
       "      <td>120.000000</td>\n",
       "      <td>94.309682</td>\n",
       "      <td>41.911774</td>\n",
       "      <td>0.758952</td>\n",
       "      <td>1.203350</td>\n",
       "      <td>1.980078</td>\n",
       "    </tr>\n",
       "    <tr>\n",
       "      <th>190</th>\n",
       "      <td>120.000000</td>\n",
       "      <td>65.972994</td>\n",
       "      <td>37.241952</td>\n",
       "      <td>1.509881</td>\n",
       "      <td>2.769658</td>\n",
       "      <td>2.137305</td>\n",
       "    </tr>\n",
       "    <tr>\n",
       "      <th>210</th>\n",
       "      <td>119.157395</td>\n",
       "      <td>96.463119</td>\n",
       "      <td>52.789942</td>\n",
       "      <td>5.150096</td>\n",
       "      <td>2.695839</td>\n",
       "      <td>4.648530</td>\n",
       "    </tr>\n",
       "    <tr>\n",
       "      <th>230</th>\n",
       "      <td>120.000000</td>\n",
       "      <td>88.658774</td>\n",
       "      <td>21.428921</td>\n",
       "      <td>5.028411</td>\n",
       "      <td>5.466150</td>\n",
       "      <td>8.529591</td>\n",
       "    </tr>\n",
       "    <tr>\n",
       "      <th>250</th>\n",
       "      <td>120.000000</td>\n",
       "      <td>55.389887</td>\n",
       "      <td>66.844994</td>\n",
       "      <td>11.429385</td>\n",
       "      <td>10.276116</td>\n",
       "      <td>9.287086</td>\n",
       "    </tr>\n",
       "    <tr>\n",
       "      <th>270</th>\n",
       "      <td>112.107950</td>\n",
       "      <td>94.337102</td>\n",
       "      <td>58.056762</td>\n",
       "      <td>13.554716</td>\n",
       "      <td>12.388854</td>\n",
       "      <td>11.219787</td>\n",
       "    </tr>\n",
       "    <tr>\n",
       "      <th>290</th>\n",
       "      <td>115.612928</td>\n",
       "      <td>102.509652</td>\n",
       "      <td>67.779212</td>\n",
       "      <td>20.280436</td>\n",
       "      <td>18.427967</td>\n",
       "      <td>19.180987</td>\n",
       "    </tr>\n",
       "    <tr>\n",
       "      <th>310</th>\n",
       "      <td>116.185649</td>\n",
       "      <td>90.875880</td>\n",
       "      <td>76.747593</td>\n",
       "      <td>41.840482</td>\n",
       "      <td>38.943610</td>\n",
       "      <td>46.488856</td>\n",
       "    </tr>\n",
       "  </tbody>\n",
       "</table>\n",
       "</div>"
      ],
      "text/plain": [
       "           0.20        0.30       0.40       0.60       0.80       0.95\n",
       "50    87.078406   36.565236  11.460041   0.035389   0.001128   0.001164\n",
       "70    87.675911   27.936988  36.002368   0.004304   0.004323   0.003722\n",
       "90    96.730796   50.656808  12.968772   0.005103   0.004478   0.005849\n",
       "110  120.000000   49.001494   7.235499  11.150174   0.008511   0.009292\n",
       "130  100.639529   25.863429  32.302781   0.384193   0.077104   0.057024\n",
       "150  120.000000   61.796531  32.850287   0.565783   0.680956   0.893295\n",
       "170  120.000000   94.309682  41.911774   0.758952   1.203350   1.980078\n",
       "190  120.000000   65.972994  37.241952   1.509881   2.769658   2.137305\n",
       "210  119.157395   96.463119  52.789942   5.150096   2.695839   4.648530\n",
       "230  120.000000   88.658774  21.428921   5.028411   5.466150   8.529591\n",
       "250  120.000000   55.389887  66.844994  11.429385  10.276116   9.287086\n",
       "270  112.107950   94.337102  58.056762  13.554716  12.388854  11.219787\n",
       "290  115.612928  102.509652  67.779212  20.280436  18.427967  19.180987\n",
       "310  116.185649   90.875880  76.747593  41.840482  38.943610  46.488856"
      ]
     },
     "execution_count": 42,
     "metadata": {},
     "output_type": "execute_result"
    }
   ],
   "source": [
    "df_hamiltonian = pd.DataFrame.from_dict(orient='index',data=times_hamiltonian, columns=[0.2,0.3,0.4,0.6,0.8,0.95])\n",
    "df_hamiltonian"
   ]
  },
  {
   "cell_type": "code",
   "execution_count": null,
   "metadata": {},
   "outputs": [],
   "source": [
    "df_hamiltonian = pd.DataFrame.from_dict(orient='index',data=a, columns=[0.2,0.3,0.4,0.6,0.8,0.95])\n",
    "df_hamiltonian = df_hamiltonian.reset_index().melt('index', var_name='saturation',value_name='t=f(n)')\n",
    "\n",
    "plt.figure(figsize=(8,5))\n",
    "sns.swarmplot(x='index', y='t=f(n)', hue='saturation', data=df_hamiltonian)\n",
    "plt.title(\"Execution time comparison of Fleury-s Algorithm on n elements with various saturation\")\n",
    "plt.ylabel(\"t=f(n) [s]\")\n",
    "plt.xlabel(\"n\")\n",
    "plt.show()\n"
   ]
  },
  {
   "cell_type": "markdown",
   "metadata": {},
   "source": [
    "## 4. Conclusion regarding complexity and algorithms"
   ]
  },
  {
   "cell_type": "markdown",
   "metadata": {},
   "source": [
    "Finding Euler cycle: For finding Euler circuit I used Fleury's Algorithm. The idea behind the algorithm is straightforward: start in selected vertex, next repeat: add \"u\" to the solution, select [u,v] and remove it (do not remove bridge if possible). I have chosen this algorithm mainly because of easy-to-understand steps, simple implementation. The downside of this algorithm is it's high running time - O(|E|^2) (we can improve it by using advanced Thorup algorithm - then O(|E|(log|E|^3) ). Another idea is to use Hierholzer's algorithm - O(|E|)\n",
    "\n",
    "Finding Hamilton cycle: I used a backtracking approach. It's idea is to start from any vertex, we make selected vertex a root of the constructed tree. Then we select the next vertex. When selected vertex makes a cycle with any vertex other than root we reach the maximum step. We must backtrack one step, and start the search once again by selecting another vertex and backtrack and remove the successful path. Such approach can give us polynomial time complexity for the NP-hard problem."
   ]
  }
 ],
 "metadata": {
  "kernelspec": {
   "display_name": "Python 3",
   "language": "python",
   "name": "python3"
  },
  "language_info": {
   "codemirror_mode": {
    "name": "ipython",
    "version": 3
   },
   "file_extension": ".py",
   "mimetype": "text/x-python",
   "name": "python",
   "nbconvert_exporter": "python",
   "pygments_lexer": "ipython3",
   "version": "3.7.3"
  }
 },
 "nbformat": 4,
 "nbformat_minor": 2
}
